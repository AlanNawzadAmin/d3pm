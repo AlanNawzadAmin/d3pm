{
 "cells": [
  {
   "cell_type": "code",
   "execution_count": 1,
   "id": "9ef5ef31-444c-4091-88a1-f5b59d6e492e",
   "metadata": {},
   "outputs": [],
   "source": [
    "%load_ext autoreload\n",
    "%autoreload 2\n",
    "    \n",
    "from d3pm_sc.d3pm import D3PM\n",
    "from d3pm_sc.d3pm_classic import D3PM_classic\n",
    "from d3pm_sc.unet import UNet, SimpleUNet\n",
    "from d3pm_sc.dit import DiT_Llama\n",
    "\n",
    "import numpy as np\n",
    "import torch\n",
    "import torch.nn as nn\n",
    "from PIL import Image\n",
    "from torch.utils.data import DataLoader, random_split\n",
    "from torchvision import transforms\n",
    "from torchvision.datasets import MNIST, CIFAR10\n",
    "from torchvision.utils import make_grid\n",
    "from tqdm import tqdm\n",
    "\n",
    "from matplotlib import pyplot as plt"
   ]
  },
  {
   "cell_type": "code",
   "execution_count": 7,
   "id": "df9e6afe-cdfd-420c-b9b7-a69c45656461",
   "metadata": {},
   "outputs": [
    {
     "name": "stdout",
     "output_type": "stream",
     "text": [
      "Total Param Count: 1935712\n",
      "Files already downloaded and verified\n"
     ]
    }
   ],
   "source": [
    "N = 128  # number of classes for discretized state per pixel\n",
    "n_T = 1000\n",
    "n_channel = 3\n",
    "gamma = 0\n",
    "\n",
    "s_dim = 4\n",
    "batch_size = 16\n",
    "\n",
    "# # Masking\n",
    "# d3pm = D3PM_classic(DiT_Llama(n_channel, N+1, n_T, False, s_dim=s_dim, dim=1024),\n",
    "#             n_T, num_classes=N+1, hybrid_loss_coeff=0.01, forward_type='masking').cuda()\n",
    "# masking = True\n",
    "# # Uniform\n",
    "# d3pm = D3PM_classic(UNet(n_channel, N, n_T, False),\n",
    "#             n_T, num_classes=N, hybrid_loss_coeff=0.01).cuda()\n",
    "# masking = False\n",
    "# Schedule conditioning\n",
    "d3pm = D3PM(SimpleUNet(n_channel, N, n_T, True, s_dim=4),\n",
    "            n_T, num_classes=N, hybrid_loss_coeff=0.01, gamma=gamma).cuda()\n",
    "masking = False\n",
    "print(f\"Total Param Count: {sum([p.numel() for p in d3pm.x0_model.parameters()])}\")\n",
    "dataset = CIFAR10(\n",
    "    \"./data\",\n",
    "    train=True,\n",
    "    download=True,\n",
    "    transform=transforms.Compose(\n",
    "        [\n",
    "            transforms.RandomHorizontalFlip(),\n",
    "            transforms.ToTensor(),\n",
    "        ]\n",
    "    ),\n",
    ")\n",
    "train_size = int(len(dataset) * 0.9)\n",
    "dataset, test_dataset = random_split(dataset, [train_size, len(dataset) - train_size])\n",
    "dataloader = DataLoader(dataset, batch_size=batch_size, shuffle=True, num_workers=16)\n",
    "test_dataloader = DataLoader(test_dataset, batch_size=batch_size, shuffle=True, num_workers=16)\n"
   ]
  },
  {
   "cell_type": "code",
   "execution_count": 8,
   "id": "0bdcb556-feb8-4a80-be82-61a98f5c691c",
   "metadata": {},
   "outputs": [
    {
     "data": {
      "text/plain": [
       "<matplotlib.legend.Legend at 0x7f8c3eb14400>"
      ]
     },
     "execution_count": 8,
     "metadata": {},
     "output_type": "execute_result"
    },
    {
     "data": {
      "image/png": "[encoded data removed]",
      "text/plain": [
       "<Figure size 432x216 with 2 Axes>"
      ]
     },
     "metadata": {
      "needs_background": "light"
     },
     "output_type": "display_data"
    }
   ],
   "source": [
    "fig, ax = plt.subplots(1, 2, figsize=[6, 3])\n",
    "ax[0].semilogy(d3pm.beta_t, label=\"Hazard\", color='black')\n",
    "ax[0].legend()\n",
    "\n",
    "steps = torch.arange(d3pm.n_T + 1, dtype=torch.float64) / d3pm.n_T\n",
    "alpha_bar = 1-torch.cos((1 - steps) * torch.pi / 2)\n",
    "ax[1].plot(alpha_bar, label=\"p(unmut)\", color='black')\n",
    "ax[1].legend()"
   ]
  },
  {
   "cell_type": "code",
   "execution_count": null,
   "id": "6bda4255-2115-4acf-bf0e-ad866cfcebdc",
   "metadata": {},
   "outputs": [
    {
     "name": "stderr",
     "output_type": "stream",
     "text": [
      "100%|██████████████████████████████████████| 1000/1000 [00:04<00:00, 204.15it/s]\n",
      "loss: 4.5800, norm: 0.4817, param_norm: 190.7638, vb_loss: 4.2101, ce_loss: 4.93"
     ]
    },
    {
     "name": "stdout",
     "output_type": "stream",
     "text": [
      "val bits per dim: 4.8585 , perplexity: 128.8308\n"
     ]
    },
    {
     "name": "stderr",
     "output_type": "stream",
     "text": [
      "100%|██████████████████████████████████████| 1000/1000 [00:04<00:00, 202.55it/s]\n",
      "loss: 4.7188, norm: 0.4716, param_norm: 216.3047, vb_loss: 4.7684, ce_loss: 4.63"
     ]
    },
    {
     "name": "stdout",
     "output_type": "stream",
     "text": [
      "val bits per dim: 4.5298 , perplexity: 92.74\n"
     ]
    },
    {
     "name": "stderr",
     "output_type": "stream",
     "text": [
      "100%|██████████████████████████████████████| 1000/1000 [00:04<00:00, 201.74it/s]\n",
      "loss: 4.4667, norm: 0.5341, param_norm: 234.2109, vb_loss: 4.2213, ce_loss: 4.47"
     ]
    },
    {
     "name": "stdout",
     "output_type": "stream",
     "text": [
      "val bits per dim: 4.2799 , perplexity: 72.2332\n"
     ]
    },
    {
     "name": "stderr",
     "output_type": "stream",
     "text": [
      "100%|██████████████████████████████████████| 1000/1000 [00:04<00:00, 201.60it/s]\n",
      "loss: 4.3209, norm: 0.6405, param_norm: 246.1103, vb_loss: 4.6942, ce_loss: 4.29"
     ]
    },
    {
     "name": "stdout",
     "output_type": "stream",
     "text": [
      "val bits per dim: 4.2446 , perplexity: 69.7279\n"
     ]
    },
    {
     "name": "stderr",
     "output_type": "stream",
     "text": [
      "100%|██████████████████████████████████████| 1000/1000 [00:04<00:00, 202.15it/s]\n",
      "loss: 4.2519, norm: 1.1057, param_norm: 256.5177, vb_loss: 3.9293, ce_loss: 4.24"
     ]
    },
    {
     "name": "stdout",
     "output_type": "stream",
     "text": [
      "val bits per dim: 4.1734 , perplexity: 64.9359\n"
     ]
    },
    {
     "name": "stderr",
     "output_type": "stream",
     "text": [
      "100%|██████████████████████████████████████| 1000/1000 [00:04<00:00, 202.58it/s]\n",
      "loss: 4.1530, norm: 1.0295, param_norm: 265.2219, vb_loss: 5.3095, ce_loss: 4.21"
     ]
    },
    {
     "name": "stdout",
     "output_type": "stream",
     "text": [
      "val bits per dim: 4.1476 , perplexity: 63.2819\n"
     ]
    },
    {
     "name": "stderr",
     "output_type": "stream",
     "text": [
      "100%|██████████████████████████████████████| 1000/1000 [00:04<00:00, 201.61it/s]\n",
      "loss: 4.1969, norm: 0.7814, param_norm: 273.0186, vb_loss: 3.6317, ce_loss: 4.29"
     ]
    },
    {
     "name": "stdout",
     "output_type": "stream",
     "text": [
      "val bits per dim: 4.1551 , perplexity: 63.7583\n"
     ]
    },
    {
     "name": "stderr",
     "output_type": "stream",
     "text": [
      "100%|██████████████████████████████████████| 1000/1000 [00:04<00:00, 201.44it/s]\n",
      "loss: 4.1202, norm: 0.7880, param_norm: 280.6637, vb_loss: 3.7533, ce_loss: 4.09"
     ]
    },
    {
     "name": "stdout",
     "output_type": "stream",
     "text": [
      "val bits per dim: 4.074 , perplexity: 58.7917\n"
     ]
    },
    {
     "name": "stderr",
     "output_type": "stream",
     "text": [
      "100%|██████████████████████████████████████| 1000/1000 [00:04<00:00, 202.21it/s]\n",
      "loss: 4.1238, norm: 1.1685, param_norm: 287.2982, vb_loss: 4.5958, ce_loss: 4.21"
     ]
    },
    {
     "name": "stdout",
     "output_type": "stream",
     "text": [
      "val bits per dim: 4.1322 , perplexity: 62.3149\n"
     ]
    },
    {
     "name": "stderr",
     "output_type": "stream",
     "text": [
      "100%|██████████████████████████████████████| 1000/1000 [00:04<00:00, 201.43it/s]\n",
      "loss: 4.0653, norm: 0.9220, param_norm: 294.0422, vb_loss: 4.1353, ce_loss: 4.01"
     ]
    },
    {
     "name": "stdout",
     "output_type": "stream",
     "text": [
      "val bits per dim: 4.006 , perplexity: 54.9267\n"
     ]
    },
    {
     "name": "stderr",
     "output_type": "stream",
     "text": [
      "loss: 4.0772, norm: 1.2430, param_norm: 296.1371, vb_loss: 4.9748, ce_loss: 4.02\n",
      "100%|██████████████████████████████████████| 1000/1000 [00:04<00:00, 201.34it/s]\n",
      "loss: 3.9166, norm: 2.3241, param_norm: 299.8633, vb_loss: 3.8886, ce_loss: 4.24"
     ]
    },
    {
     "name": "stdout",
     "output_type": "stream",
     "text": [
      "val bits per dim: 3.9538 , perplexity: 52.1331\n"
     ]
    },
    {
     "name": "stderr",
     "output_type": "stream",
     "text": [
      "100%|██████████████████████████████████████| 1000/1000 [00:04<00:00, 201.94it/s]\n",
      "loss: 4.0013, norm: 1.2805, param_norm: 305.6873, vb_loss: 4.1481, ce_loss: 4.13"
     ]
    },
    {
     "name": "stdout",
     "output_type": "stream",
     "text": [
      "val bits per dim: 4.0883 , perplexity: 59.6384\n"
     ]
    },
    {
     "name": "stderr",
     "output_type": "stream",
     "text": [
      " 38%|██████████████▋                        | 375/1000 [00:01<00:03, 200.34it/s]"
     ]
    }
   ],
   "source": [
    "import gc\n",
    "torch.cuda.empty_cache()\n",
    "gc.collect()\n",
    "torch.cuda.empty_cache()\n",
    "gc.collect()\n",
    "\n",
    "optim = torch.optim.AdamW(d3pm.x0_model.parameters(), lr=1e-3)\n",
    "d3pm.train()\n",
    "\n",
    "n_epoch = 14\n",
    "device = \"cuda\"\n",
    "\n",
    "global_step = 0\n",
    "for i in range(n_epoch):\n",
    "\n",
    "    pbar = tqdm(dataloader)\n",
    "    loss_ema = None\n",
    "    for x, cond in pbar:\n",
    "        optim.zero_grad()\n",
    "        x = x.to(device)\n",
    "        cond = cond.to(device)\n",
    "        x = (x * (N - 1)).round().long().clamp(0, N - 1)\n",
    "        \n",
    "        loss, info = d3pm(x, cond)\n",
    "\n",
    "        loss.backward()\n",
    "        norm = torch.nn.utils.clip_grad_norm_(d3pm.x0_model.parameters(), 0.1)\n",
    "\n",
    "        # log\n",
    "        with torch.no_grad():\n",
    "            param_norm = sum([torch.norm(p) for p in d3pm.x0_model.parameters()])\n",
    "\n",
    "        if loss_ema is None:\n",
    "            loss_ema = loss.item()\n",
    "        else:\n",
    "            loss_ema = 0.99 * loss_ema + 0.01 * loss.item()\n",
    "        pbar.set_description(\n",
    "            f\"loss: {loss_ema:.4f}, norm: {norm:.4f}, param_norm: {param_norm:.4f}, vb_loss: {info['vb_loss']:.4f}, ce_loss: {info['ce_loss']:.4f}\"\n",
    "        )\n",
    "        optim.step()\n",
    "\n",
    "        global_step += 1\n",
    "        if global_step % 300 == 1:\n",
    "            d3pm.eval()\n",
    "            with torch.no_grad():\n",
    "                # save images\n",
    "                cond = torch.arange(0, 4).cuda() % 10\n",
    "                init_noise = torch.randint(0, N, (4,)+x.shape[1:]).cuda()\n",
    "                if masking:\n",
    "                    init_noise = N + 0*init_noise\n",
    "\n",
    "                images = d3pm.sample_with_image_sequence(\n",
    "                    init_noise, cond, stride=40\n",
    "                )\n",
    "                # image sequences to gif\n",
    "                gif = []\n",
    "                for image in images:\n",
    "                    x_as_image = make_grid(image.float() / (N - 1), nrow=2)\n",
    "                    img = x_as_image.permute(1, 2, 0).cpu().numpy()\n",
    "                    img = (img * 255).astype(np.uint8)\n",
    "                    gif.append(Image.fromarray(img))\n",
    "\n",
    "                gif[0].save(\n",
    "                    f\"contents/sample_{global_step}.gif\",\n",
    "                    save_all=True,\n",
    "                    append_images=gif[1:],\n",
    "                    duration=100,\n",
    "                    loop=0,\n",
    "                )\n",
    "\n",
    "                last_img = gif[-1]\n",
    "                last_img.save(f\"contents/sample_{global_step}_last.png\")\n",
    "\n",
    "                val_loss = []\n",
    "                for x, cond in test_dataloader:\n",
    "                    optim.zero_grad()\n",
    "                    x = x.to(device)\n",
    "                    cond = cond.to(device)\n",
    "                    x = (x * (N - 1)).round().long().clamp(0, N - 1)\n",
    "                    \n",
    "                    loss, info = d3pm(x, cond)\n",
    "                    val_loss.append(info['vb_loss'])\n",
    "                bpd = np.mean(val_loss).round(4)\n",
    "                print(\"val bits per dim:\", bpd, \", perplexity:\", np.exp(bpd).round(4))\n",
    "\n",
    "            d3pm.train()"
   ]
  },
  {
   "cell_type": "code",
   "execution_count": 126,
   "id": "8b2f74a8-103d-4673-b0d1-3c687ce0695b",
   "metadata": {},
   "outputs": [
    {
     "ename": "RuntimeError",
     "evalue": "Parent directory models does not exist.",
     "output_type": "error",
     "traceback": [
      "\u001b[0;31m---------------------------------------------------------------------------\u001b[0m",
      "\u001b[0;31mRuntimeError\u001b[0m                              Traceback (most recent call last)",
      "\u001b[0;32m/tmp/ipykernel_262543/3384244254.py\u001b[0m in \u001b[0;36m<module>\u001b[0;34m\u001b[0m\n\u001b[0;32m----> 1\u001b[0;31m \u001b[0mtorch\u001b[0m\u001b[0;34m.\u001b[0m\u001b[0msave\u001b[0m\u001b[0;34m(\u001b[0m\u001b[0md3pm\u001b[0m\u001b[0;34m.\u001b[0m\u001b[0mstate_dict\u001b[0m\u001b[0;34m(\u001b[0m\u001b[0;34m)\u001b[0m\u001b[0;34m,\u001b[0m \u001b[0;34m'models/d3pm_cifar10_aug10'\u001b[0m\u001b[0;34m)\u001b[0m\u001b[0;34m\u001b[0m\u001b[0;34m\u001b[0m\u001b[0m\n\u001b[0m",
      "\u001b[0;32m~/.local/lib/python3.10/site-packages/torch/serialization.py\u001b[0m in \u001b[0;36msave\u001b[0;34m(obj, f, pickle_module, pickle_protocol, _use_new_zipfile_serialization, _disable_byteorder_record)\u001b[0m\n\u001b[1;32m    649\u001b[0m \u001b[0;34m\u001b[0m\u001b[0m\n\u001b[1;32m    650\u001b[0m     \u001b[0;32mif\u001b[0m \u001b[0m_use_new_zipfile_serialization\u001b[0m\u001b[0;34m:\u001b[0m\u001b[0;34m\u001b[0m\u001b[0;34m\u001b[0m\u001b[0m\n\u001b[0;32m--> 651\u001b[0;31m         \u001b[0;32mwith\u001b[0m \u001b[0m_open_zipfile_writer\u001b[0m\u001b[0;34m(\u001b[0m\u001b[0mf\u001b[0m\u001b[0;34m)\u001b[0m \u001b[0;32mas\u001b[0m \u001b[0mopened_zipfile\u001b[0m\u001b[0;34m:\u001b[0m\u001b[0;34m\u001b[0m\u001b[0;34m\u001b[0m\u001b[0m\n\u001b[0m\u001b[1;32m    652\u001b[0m             \u001b[0m_save\u001b[0m\u001b[0;34m(\u001b[0m\u001b[0mobj\u001b[0m\u001b[0;34m,\u001b[0m \u001b[0mopened_zipfile\u001b[0m\u001b[0;34m,\u001b[0m \u001b[0mpickle_module\u001b[0m\u001b[0;34m,\u001b[0m \u001b[0mpickle_protocol\u001b[0m\u001b[0;34m,\u001b[0m \u001b[0m_disable_byteorder_record\u001b[0m\u001b[0;34m)\u001b[0m\u001b[0;34m\u001b[0m\u001b[0;34m\u001b[0m\u001b[0m\n\u001b[1;32m    653\u001b[0m             \u001b[0;32mreturn\u001b[0m\u001b[0;34m\u001b[0m\u001b[0;34m\u001b[0m\u001b[0m\n",
      "\u001b[0;32m~/.local/lib/python3.10/site-packages/torch/serialization.py\u001b[0m in \u001b[0;36m_open_zipfile_writer\u001b[0;34m(name_or_buffer)\u001b[0m\n\u001b[1;32m    523\u001b[0m     \u001b[0;32melse\u001b[0m\u001b[0;34m:\u001b[0m\u001b[0;34m\u001b[0m\u001b[0;34m\u001b[0m\u001b[0m\n\u001b[1;32m    524\u001b[0m         \u001b[0mcontainer\u001b[0m \u001b[0;34m=\u001b[0m \u001b[0m_open_zipfile_writer_buffer\u001b[0m\u001b[0;34m\u001b[0m\u001b[0;34m\u001b[0m\u001b[0m\n\u001b[0;32m--> 525\u001b[0;31m     \u001b[0;32mreturn\u001b[0m \u001b[0mcontainer\u001b[0m\u001b[0;34m(\u001b[0m\u001b[0mname_or_buffer\u001b[0m\u001b[0;34m)\u001b[0m\u001b[0;34m\u001b[0m\u001b[0;34m\u001b[0m\u001b[0m\n\u001b[0m\u001b[1;32m    526\u001b[0m \u001b[0;34m\u001b[0m\u001b[0m\n\u001b[1;32m    527\u001b[0m \u001b[0;34m\u001b[0m\u001b[0m\n",
      "\u001b[0;32m~/.local/lib/python3.10/site-packages/torch/serialization.py\u001b[0m in \u001b[0;36m__init__\u001b[0;34m(self, name)\u001b[0m\n\u001b[1;32m    494\u001b[0m             \u001b[0msuper\u001b[0m\u001b[0;34m(\u001b[0m\u001b[0;34m)\u001b[0m\u001b[0;34m.\u001b[0m\u001b[0m__init__\u001b[0m\u001b[0;34m(\u001b[0m\u001b[0mtorch\u001b[0m\u001b[0;34m.\u001b[0m\u001b[0m_C\u001b[0m\u001b[0;34m.\u001b[0m\u001b[0mPyTorchFileWriter\u001b[0m\u001b[0;34m(\u001b[0m\u001b[0mself\u001b[0m\u001b[0;34m.\u001b[0m\u001b[0mfile_stream\u001b[0m\u001b[0;34m)\u001b[0m\u001b[0;34m)\u001b[0m\u001b[0;34m\u001b[0m\u001b[0;34m\u001b[0m\u001b[0m\n\u001b[1;32m    495\u001b[0m         \u001b[0;32melse\u001b[0m\u001b[0;34m:\u001b[0m\u001b[0;34m\u001b[0m\u001b[0;34m\u001b[0m\u001b[0m\n\u001b[0;32m--> 496\u001b[0;31m             \u001b[0msuper\u001b[0m\u001b[0;34m(\u001b[0m\u001b[0;34m)\u001b[0m\u001b[0;34m.\u001b[0m\u001b[0m__init__\u001b[0m\u001b[0;34m(\u001b[0m\u001b[0mtorch\u001b[0m\u001b[0;34m.\u001b[0m\u001b[0m_C\u001b[0m\u001b[0;34m.\u001b[0m\u001b[0mPyTorchFileWriter\u001b[0m\u001b[0;34m(\u001b[0m\u001b[0mself\u001b[0m\u001b[0;34m.\u001b[0m\u001b[0mname\u001b[0m\u001b[0;34m)\u001b[0m\u001b[0;34m)\u001b[0m\u001b[0;34m\u001b[0m\u001b[0;34m\u001b[0m\u001b[0m\n\u001b[0m\u001b[1;32m    497\u001b[0m \u001b[0;34m\u001b[0m\u001b[0m\n\u001b[1;32m    498\u001b[0m     \u001b[0;32mdef\u001b[0m \u001b[0m__exit__\u001b[0m\u001b[0;34m(\u001b[0m\u001b[0mself\u001b[0m\u001b[0;34m,\u001b[0m \u001b[0;34m*\u001b[0m\u001b[0margs\u001b[0m\u001b[0;34m)\u001b[0m \u001b[0;34m->\u001b[0m \u001b[0;32mNone\u001b[0m\u001b[0;34m:\u001b[0m\u001b[0;34m\u001b[0m\u001b[0;34m\u001b[0m\u001b[0m\n",
      "\u001b[0;31mRuntimeError\u001b[0m: Parent directory models does not exist."
     ]
    }
   ],
   "source": [
    "torch.save(d3pm.state_dict(), 'models/d3pm_cifar10_aug10')"
   ]
  },
  {
   "cell_type": "code",
   "execution_count": 5,
   "id": "4cf5f341-b727-4e5f-a078-238538d89388",
   "metadata": {
    "scrolled": true
   },
   "outputs": [
    {
     "name": "stderr",
     "output_type": "stream",
     "text": [
      "  0%|                                                  | 0/1000 [00:00<?, ?it/s]\n"
     ]
    },
    {
     "ename": "OutOfMemoryError",
     "evalue": "CUDA out of memory. Tried to allocate 37.50 GiB. GPU 0 has a total capacity of 23.64 GiB of which 764.50 MiB is free. Including non-PyTorch memory, this process has 22.89 GiB memory in use. Of the allocated memory 19.92 GiB is allocated by PyTorch, and 2.79 GiB is reserved by PyTorch but unallocated. If reserved but unallocated memory is large try setting PYTORCH_CUDA_ALLOC_CONF=expandable_segments:True to avoid fragmentation.  See documentation for Memory Management  (https://pytorch.org/docs/stable/notes/cuda.html#environment-variables)",
     "output_type": "error",
     "traceback": [
      "\u001b[0;31m---------------------------------------------------------------------------\u001b[0m",
      "\u001b[0;31mOutOfMemoryError\u001b[0m                          Traceback (most recent call last)",
      "\u001b[0;32m/tmp/ipykernel_622333/2027385817.py\u001b[0m in \u001b[0;36m<module>\u001b[0;34m\u001b[0m\n\u001b[1;32m     11\u001b[0m \u001b[0minit_noise\u001b[0m \u001b[0;34m=\u001b[0m \u001b[0mN\u001b[0m \u001b[0;34m+\u001b[0m \u001b[0;36m0\u001b[0m\u001b[0;34m*\u001b[0m\u001b[0mtorch\u001b[0m\u001b[0;34m.\u001b[0m\u001b[0mrandint\u001b[0m\u001b[0;34m(\u001b[0m\u001b[0;36m0\u001b[0m\u001b[0;34m,\u001b[0m \u001b[0mN\u001b[0m\u001b[0;34m,\u001b[0m \u001b[0;34m(\u001b[0m\u001b[0mn_samples\u001b[0m\u001b[0;34m,\u001b[0m \u001b[0mn_channel\u001b[0m\u001b[0;34m,\u001b[0m \u001b[0;36m32\u001b[0m\u001b[0;34m,\u001b[0m \u001b[0;36m32\u001b[0m\u001b[0;34m)\u001b[0m\u001b[0;34m)\u001b[0m\u001b[0;34m.\u001b[0m\u001b[0mcuda\u001b[0m\u001b[0;34m(\u001b[0m\u001b[0;34m)\u001b[0m \u001b[0;31m# masking\u001b[0m\u001b[0;34m\u001b[0m\u001b[0;34m\u001b[0m\u001b[0m\n\u001b[1;32m     12\u001b[0m \u001b[0;34m\u001b[0m\u001b[0m\n\u001b[0;32m---> 13\u001b[0;31m images = d3pm.sample_with_image_sequence(\n\u001b[0m\u001b[1;32m     14\u001b[0m     \u001b[0minit_noise\u001b[0m\u001b[0;34m,\u001b[0m \u001b[0mcond\u001b[0m\u001b[0;34m,\u001b[0m \u001b[0mstride\u001b[0m\u001b[0;34m=\u001b[0m\u001b[0;36m1\u001b[0m\u001b[0;34m\u001b[0m\u001b[0;34m\u001b[0m\u001b[0m\n\u001b[1;32m     15\u001b[0m )\n",
      "\u001b[0;32m~/d3pm/d3pm_sc/d3pm.py\u001b[0m in \u001b[0;36msample_with_image_sequence\u001b[0;34m(self, x, cond, stride)\u001b[0m\n\u001b[1;32m    125\u001b[0m             \u001b[0;32mif\u001b[0m \u001b[0mtransition\u001b[0m\u001b[0;34m.\u001b[0m\u001b[0msum\u001b[0m\u001b[0;34m(\u001b[0m\u001b[0;34m)\u001b[0m \u001b[0;34m>\u001b[0m \u001b[0;36m0\u001b[0m\u001b[0;34m:\u001b[0m\u001b[0;34m\u001b[0m\u001b[0;34m\u001b[0m\u001b[0m\n\u001b[1;32m    126\u001b[0m                 \u001b[0mt\u001b[0m \u001b[0;34m=\u001b[0m \u001b[0mtorch\u001b[0m\u001b[0;34m.\u001b[0m\u001b[0mtensor\u001b[0m\u001b[0;34m(\u001b[0m\u001b[0;34m[\u001b[0m\u001b[0mt\u001b[0m\u001b[0;34m]\u001b[0m \u001b[0;34m*\u001b[0m \u001b[0mx\u001b[0m\u001b[0;34m.\u001b[0m\u001b[0mshape\u001b[0m\u001b[0;34m[\u001b[0m\u001b[0;36m0\u001b[0m\u001b[0;34m]\u001b[0m\u001b[0;34m,\u001b[0m \u001b[0mdevice\u001b[0m\u001b[0;34m=\u001b[0m\u001b[0mx\u001b[0m\u001b[0;34m.\u001b[0m\u001b[0mdevice\u001b[0m\u001b[0;34m)\u001b[0m\u001b[0;34m\u001b[0m\u001b[0;34m\u001b[0m\u001b[0m\n\u001b[0;32m--> 127\u001b[0;31m                 x_next = self.p_sample(\n\u001b[0m\u001b[1;32m    128\u001b[0m                     \u001b[0mx\u001b[0m\u001b[0;34m,\u001b[0m \u001b[0mt\u001b[0m\u001b[0;34m,\u001b[0m \u001b[0mcond\u001b[0m\u001b[0;34m,\u001b[0m \u001b[0mtorch\u001b[0m\u001b[0;34m.\u001b[0m\u001b[0mrand\u001b[0m\u001b[0;34m(\u001b[0m\u001b[0;34m(\u001b[0m\u001b[0;34m*\u001b[0m\u001b[0mx\u001b[0m\u001b[0;34m.\u001b[0m\u001b[0mshape\u001b[0m\u001b[0;34m,\u001b[0m \u001b[0mself\u001b[0m\u001b[0;34m.\u001b[0m\u001b[0mnum_classes\u001b[0m\u001b[0;34m)\u001b[0m\u001b[0;34m,\u001b[0m \u001b[0mdevice\u001b[0m\u001b[0;34m=\u001b[0m\u001b[0mx\u001b[0m\u001b[0;34m.\u001b[0m\u001b[0mdevice\u001b[0m\u001b[0;34m)\u001b[0m\u001b[0;34m,\u001b[0m \u001b[0mS\u001b[0m\u001b[0;34m\u001b[0m\u001b[0;34m\u001b[0m\u001b[0m\n\u001b[1;32m    129\u001b[0m                 )\n",
      "\u001b[0;32m~/d3pm/d3pm_sc/d3pm.py\u001b[0m in \u001b[0;36mp_sample\u001b[0;34m(self, x, t, cond, noise, S)\u001b[0m\n\u001b[1;32m    104\u001b[0m         \u001b[0;31m# predict prev(x_t)\u001b[0m\u001b[0;34m\u001b[0m\u001b[0;34m\u001b[0m\u001b[0m\n\u001b[1;32m    105\u001b[0m         \u001b[0mpredicted_x0_logits\u001b[0m \u001b[0;34m=\u001b[0m \u001b[0mself\u001b[0m\u001b[0;34m.\u001b[0m\u001b[0mmodel_predict\u001b[0m\u001b[0;34m(\u001b[0m\u001b[0mx\u001b[0m\u001b[0;34m,\u001b[0m \u001b[0mt\u001b[0m\u001b[0;34m,\u001b[0m \u001b[0mcond\u001b[0m\u001b[0;34m,\u001b[0m \u001b[0mS\u001b[0m\u001b[0;34m)\u001b[0m\u001b[0;34m\u001b[0m\u001b[0;34m\u001b[0m\u001b[0m\n\u001b[0;32m--> 106\u001b[0;31m         \u001b[0mpred_q_posterior_logits\u001b[0m \u001b[0;34m=\u001b[0m \u001b[0mself\u001b[0m\u001b[0;34m.\u001b[0m\u001b[0mq_posterior_logits\u001b[0m\u001b[0;34m(\u001b[0m\u001b[0mpredicted_x0_logits\u001b[0m\u001b[0;34m,\u001b[0m \u001b[0mx\u001b[0m\u001b[0;34m,\u001b[0m \u001b[0mt\u001b[0m\u001b[0;34m,\u001b[0m \u001b[0mS\u001b[0m\u001b[0;34m)\u001b[0m\u001b[0;34m\u001b[0m\u001b[0;34m\u001b[0m\u001b[0m\n\u001b[0m\u001b[1;32m    107\u001b[0m         \u001b[0;31m# sample\u001b[0m\u001b[0;34m\u001b[0m\u001b[0;34m\u001b[0m\u001b[0m\n\u001b[1;32m    108\u001b[0m         \u001b[0mnoise\u001b[0m \u001b[0;34m=\u001b[0m \u001b[0mtorch\u001b[0m\u001b[0;34m.\u001b[0m\u001b[0mclip\u001b[0m\u001b[0;34m(\u001b[0m\u001b[0mnoise\u001b[0m\u001b[0;34m,\u001b[0m \u001b[0mself\u001b[0m\u001b[0;34m.\u001b[0m\u001b[0meps\u001b[0m\u001b[0;34m,\u001b[0m \u001b[0;36m1.0\u001b[0m\u001b[0;34m)\u001b[0m\u001b[0;34m\u001b[0m\u001b[0;34m\u001b[0m\u001b[0m\n",
      "\u001b[0;32m~/d3pm/d3pm_sc/d3pm.py\u001b[0m in \u001b[0;36mq_posterior_logits\u001b[0;34m(self, x_0, x_t, t, S)\u001b[0m\n\u001b[1;32m     61\u001b[0m         \u001b[0mx_0_logits\u001b[0m \u001b[0;34m=\u001b[0m \u001b[0mconvert_to_distribution\u001b[0m\u001b[0;34m(\u001b[0m\u001b[0mx_0\u001b[0m\u001b[0;34m,\u001b[0m \u001b[0mself\u001b[0m\u001b[0;34m.\u001b[0m\u001b[0mnum_classes\u001b[0m\u001b[0;34m,\u001b[0m \u001b[0mself\u001b[0m\u001b[0;34m.\u001b[0m\u001b[0meps\u001b[0m\u001b[0;34m)\u001b[0m\u001b[0;34m\u001b[0m\u001b[0;34m\u001b[0m\u001b[0m\n\u001b[1;32m     62\u001b[0m         \u001b[0mfact1\u001b[0m \u001b[0;34m=\u001b[0m \u001b[0mself\u001b[0m\u001b[0;34m.\u001b[0m\u001b[0mK\u001b[0m\u001b[0;34m.\u001b[0m\u001b[0mT\u001b[0m\u001b[0;34m[\u001b[0m\u001b[0mx_t\u001b[0m\u001b[0;34m,\u001b[0m \u001b[0;34m:\u001b[0m\u001b[0;34m]\u001b[0m \u001b[0;31m# x_t | x_{t-1}\u001b[0m\u001b[0;34m\u001b[0m\u001b[0;34m\u001b[0m\u001b[0m\n\u001b[0;32m---> 63\u001b[0;31m         \u001b[0mtrans_mats\u001b[0m \u001b[0;34m=\u001b[0m \u001b[0mself\u001b[0m\u001b[0;34m.\u001b[0m\u001b[0mK_powers\u001b[0m\u001b[0;34m[\u001b[0m\u001b[0mS\u001b[0m \u001b[0;34m-\u001b[0m \u001b[0;36m1\u001b[0m\u001b[0;34m,\u001b[0m \u001b[0;34m:\u001b[0m\u001b[0;34m,\u001b[0m \u001b[0;34m:\u001b[0m\u001b[0;34m]\u001b[0m \u001b[0;31m# make sure we ignore S=0 later!\u001b[0m\u001b[0;34m\u001b[0m\u001b[0;34m\u001b[0m\u001b[0m\n\u001b[0m\u001b[1;32m     64\u001b[0m         \u001b[0msoftmaxed\u001b[0m \u001b[0;34m=\u001b[0m \u001b[0mtorch\u001b[0m\u001b[0;34m.\u001b[0m\u001b[0msoftmax\u001b[0m\u001b[0;34m(\u001b[0m\u001b[0mx_0_logits\u001b[0m\u001b[0;34m,\u001b[0m \u001b[0mdim\u001b[0m\u001b[0;34m=\u001b[0m\u001b[0;34m-\u001b[0m\u001b[0;36m1\u001b[0m\u001b[0;34m)\u001b[0m  \u001b[0;31m# bs, ..., num_classes\u001b[0m\u001b[0;34m\u001b[0m\u001b[0;34m\u001b[0m\u001b[0m\n\u001b[1;32m     65\u001b[0m         \u001b[0mfact2\u001b[0m \u001b[0;34m=\u001b[0m \u001b[0mtorch\u001b[0m\u001b[0;34m.\u001b[0m\u001b[0meinsum\u001b[0m\u001b[0;34m(\u001b[0m\u001b[0;34m\"b...c,b...cd->b...d\"\u001b[0m\u001b[0;34m,\u001b[0m \u001b[0msoftmaxed\u001b[0m\u001b[0;34m,\u001b[0m \u001b[0mtrans_mats\u001b[0m\u001b[0;34m)\u001b[0m \u001b[0;31m# x_{t-1} | x_{0}\u001b[0m\u001b[0;34m\u001b[0m\u001b[0;34m\u001b[0m\u001b[0m\n",
      "\u001b[0;31mOutOfMemoryError\u001b[0m: CUDA out of memory. Tried to allocate 37.50 GiB. GPU 0 has a total capacity of 23.64 GiB of which 764.50 MiB is free. Including non-PyTorch memory, this process has 22.89 GiB memory in use. Of the allocated memory 19.92 GiB is allocated by PyTorch, and 2.79 GiB is reserved by PyTorch but unallocated. If reserved but unallocated memory is large try setting PYTORCH_CUDA_ALLOC_CONF=expandable_segments:True to avoid fragmentation.  See documentation for Memory Management  (https://pytorch.org/docs/stable/notes/cuda.html#environment-variables)"
     ]
    }
   ],
   "source": [
    "import gc\n",
    "torch.cuda.empty_cache()\n",
    "gc.collect()\n",
    "torch.cuda.empty_cache()\n",
    "gc.collect()\n",
    "\n",
    "n_samples = 200\n",
    "\n",
    "cond = torch.zeros(n_samples).cuda().to(torch.int64)\n",
    "# init_noise = torch.randint(0, N, (n_samples, n_channel, 32, 32)).cuda() # uniform\n",
    "init_noise = N + 0*torch.randint(0, N, (n_samples, n_channel, 32, 32)).cuda() # masking\n",
    "\n",
    "images = d3pm.sample_with_image_sequence(\n",
    "    init_noise, cond, stride=1\n",
    ")\n",
    "images = torch.cat([im[None, ...] for im in images], 0)\n",
    "images = torch.cat([init_noise[None, ...], images], 0)\n",
    "diffs = (images[1:] != images[:-1]).reshape(n_T-1, n_samples, -1)"
   ]
  },
  {
   "cell_type": "code",
   "execution_count": 93,
   "id": "abc54e48-fe3b-4e53-8314-75ca2ad5d72e",
   "metadata": {},
   "outputs": [
    {
     "data": {
      "text/plain": [
       "Text(0.5, 0, 'Step')"
      ]
     },
     "execution_count": 93,
     "metadata": {},
     "output_type": "execute_result"
    },
    {
     "data": {
      "image/png": "[encoded data removed]",
      "text/plain": [
       "<Figure size 216x216 with 1 Axes>"
      ]
     },
     "metadata": {
      "needs_background": "light"
     },
     "output_type": "display_data"
    }
   ],
   "source": [
    "fracs = (images == N).reshape(n_T, n_samples, -1).float().cpu().mean(-1).mean(-1)\n",
    "plt.figure(figsize=[3, 3])\n",
    "plt.plot(fracs, color='black')\n",
    "plt.ylim(0, 1.02)\n",
    "plt.xlim(0, n_T)\n",
    "plt.ylabel(\"fraction masked\")\n",
    "plt.xlabel(\"Step\")"
   ]
  },
  {
   "cell_type": "code",
   "execution_count": 89,
   "id": "01fd068f-eab6-49b9-9236-fbfc77ca9e1f",
   "metadata": {},
   "outputs": [
    {
     "data": {
      "text/plain": [
       "[<matplotlib.lines.Line2D at 0x7fe5f8244fa0>]"
      ]
     },
     "execution_count": 89,
     "metadata": {},
     "output_type": "execute_result"
    },
    {
     "data": {
      "image/png": "[encoded data removed]",
      "text/plain": [
       "<Figure size 360x360 with 1 Axes>"
      ]
     },
     "metadata": {
      "needs_background": "light"
     },
     "output_type": "display_data"
    },
    {
     "data": {
      "image/png": "[encoded data removed]",
      "text/plain": [
       "<Figure size 360x360 with 1 Axes>"
      ]
     },
     "metadata": {
      "needs_background": "light"
     },
     "output_type": "display_data"
    },
    {
     "data": {
      "image/png": "[encoded data removed]",
      "text/plain": [
       "<Figure size 432x288 with 1 Axes>"
      ]
     },
     "metadata": {
      "needs_background": "light"
     },
     "output_type": "display_data"
    }
   ],
   "source": [
    "r1 = diffs.cpu().numpy().mean(-1).mean(-1)[::-1]\n",
    "r2 = d3pm.beta_t[1:].cpu().numpy()# * (1-gamma)\n",
    "plt.figure(figsize=[5, 5])\n",
    "plt.semilogy(r1, label=\"Empirical\", color='black')\n",
    "plt.semilogy(r2, label=\"Analytic\", color='blue')\n",
    "plt.xlabel(\"time step\")\n",
    "plt.ylabel(\"p(mut)\")\n",
    "plt.legend()\n",
    "# plt.savefig(\"figures/schedule_comparison.png\")\n",
    "\n",
    "plt.figure(figsize=[5, 5])\n",
    "plt.semilogy(r1[:10], label=\"Empirical\", color='black')\n",
    "plt.semilogy(r2[:10], label=\"Analytic\", color='blue')\n",
    "plt.xlabel(\"time step\")\n",
    "plt.ylabel(\"p(mut)\")\n",
    "plt.legend()\n",
    "# plt.savefig(\"figures/schedule_comparison_zoom.png\")\n",
    "\n",
    "plt.figure()\n",
    "plt.semilogy(r1/r2, color='black')\n",
    "plt.plot([0, 1000], np.ones(2))"
   ]
  },
  {
   "cell_type": "code",
   "execution_count": null,
   "id": "d21ddb14-0d3d-4688-9d60-a8935ec4f652",
   "metadata": {},
   "outputs": [],
   "source": []
  }
 ],
 "metadata": {
  "kernelspec": {
   "display_name": "evodiff",
   "language": "python",
   "name": "evodiff"
  },
  "language_info": {
   "codemirror_mode": {
    "name": "ipython",
    "version": 3
   },
   "file_extension": ".py",
   "mimetype": "text/x-python",
   "name": "python",
   "nbconvert_exporter": "python",
   "pygments_lexer": "ipython3",
   "version": "3.10.12"
  }
 },
 "nbformat": 4,
 "nbformat_minor": 5
}
