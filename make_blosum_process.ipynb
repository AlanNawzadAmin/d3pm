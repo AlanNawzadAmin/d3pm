{
 "cells": [
  {
   "cell_type": "code",
   "execution_count": null,
   "id": "9d622d05-5030-4166-b8b8-0fdea6a391d8",
   "metadata": {},
   "outputs": [],
   "source": [
    "from evodiff.utils import Tokenizer\n",
    "import numpy as np\n",
    "\n",
    "beta = 1\n",
    "alpha = 0.0001\n",
    "gamma = 0\n",
    "\n",
    "tokenizer = Tokenizer()\n",
    "# from https://web.expasy.org/protscale/pscale/A.A.Swiss-Prot.html\n",
    "aa_freq = np.array([8.25, 5.53, 4.06, 5.45, 1.37, 3.93, 6.75,\n",
    "                    7.07, 2.27, 5.96, 9.66, 5.84, 2.42, 3.86,\n",
    "                    4.70, 6.56, 5.34, 1.08, 2.92, 6.87] + 11*[0]) / 100 \n",
    "blosum_alphabet = np.array(list('ARNDCQEGHILKMFPSTWYVBZXJOU-'))\n",
    "tok_alphabet = np.array(tokenizer.alphabet)\n",
    "with open('/scratch/aa11803/d3pm/data/blosum62-special-MSA.mat') as f:\n",
    "    load_matrix = np.array([line.split()[1:] for line in f if line[0] in blosum_alphabet], dtype=int)\n",
    "map_ = blosum_alphabet[:, None] == tok_alphabet[None, :]\n",
    "blosum_matrix = np.zeros((len(tok_alphabet), len(tok_alphabet)))\n",
    "for i, ind_i in enumerate(np.argmax(map_, axis=1)):\n",
    "    for j, ind_j in enumerate(np.argmax(map_, axis=1)):\n",
    "        blosum_matrix[ind_i, ind_j] = load_matrix[i, j]\n",
    "\n",
    "cond_liks = (2. ** (blosum_matrix/2)) * aa_freq[None, :] # X_ij = BLOSUM_ij * p(aa_j) = p(aa_j | aa_i)\n",
    "cond_liks = cond_liks ** beta\n",
    "cond_liks = cond_liks / cond_liks.sum(-1)[:, None]\n",
    "\n",
    "L = cond_liks - np.eye(len(cond_liks))\n",
    "l, V = np.linalg.eig(cond_liks[:20, :20])\n",
    "V_inv = np.linalg.inv(V)\n",
    "K = (V * (l**alpha)[None, :]) @ V_inv\n",
    "K[K<0] = 0\n",
    "K = K / K.sum(-1)[:, None]\n",
    "L[:20, :20] = (K - np.eye(len(K))) / alpha\n",
    "L[20:] *= -np.diagonal(L).min()"
   ]
  },
  {
   "cell_type": "code",
   "execution_count": null,
   "id": "891882a7-1ddd-431f-92db-71213878f124",
   "metadata": {},
   "outputs": [],
   "source": [
    "from matplotlib import pyplot as plt\n",
    "\n",
    "plt.figure()\n",
    "plt.imshow(L, cmap='bwr', vmin=-1, vmax=1)\n",
    "plt.colorbar()\n",
    "plt.xticks(np.arange(len(L)), tok_alphabet)\n",
    "plt.yticks(np.arange(len(L)), tok_alphabet)\n",
    "\n",
    "plt.figure()\n",
    "plt.imshow(L+ np.eye(len(cond_liks)), cmap='Blues', vmin=0, vmax=1)\n",
    "plt.colorbar()\n",
    "plt.xticks(np.arange(len(L)), tok_alphabet)\n",
    "plt.yticks(np.arange(len(L)), tok_alphabet)\n",
    "\n",
    "from d3pm_sc.utils import get_inf_gen\n",
    "L = get_inf_gen({'type': 'blosum', 'beta':beta, 'normalize': False, 'alpha':alpha}, 31)\n",
    "plt.figure()\n",
    "plt.imshow(L, cmap='bwr', vmin=-1, vmax=1)\n",
    "plt.colorbar()\n",
    "\n",
    "y = aa_freq\n",
    "for i in range(100000):\n",
    "    y = cond_liks.T @ y\n",
    "plt.figure(figsize=[5, 3])\n",
    "plt.plot(y, label='stationary', color='blue')\n",
    "plt.plot(aa_freq, label='background freq', color='black')\n",
    "plt.xlabel(\"AA\")\n",
    "plt.xticks(np.arange(len(y)), tok_alphabet)\n",
    "plt.ylabel(\"freq\")\n",
    "plt.ylim(0, 0.11)\n",
    "plt.legend()"
   ]
  },
  {
   "cell_type": "code",
   "execution_count": null,
   "id": "a3d4d53d-baca-46d4-8b5c-51e83862b51d",
   "metadata": {},
   "outputs": [],
   "source": [
    "K = L / ((-np.diagonal(L).min()) / (1-gamma)) + np.eye(len(L))\n",
    "\n",
    "plt.figure()\n",
    "plt.imshow(K, cmap='Blues', vmin=0, vmax=1)\n",
    "plt.colorbar()\n",
    "plt.xticks(np.arange(len(L)), tok_alphabet[:len(L)]);\n",
    "plt.yticks(np.arange(len(L)), tok_alphabet[:len(L)]);\n",
    "\n",
    "plt.figure()\n",
    "plt.plot(np.diagonal(K))\n",
    "plt.ylim(0, 1)"
   ]
  },
  {
   "cell_type": "markdown",
   "id": "c3aeafcc-d4cb-4cd4-a438-f7e38d3cf225",
   "metadata": {},
   "source": [
    "# look at seq data"
   ]
  },
  {
   "cell_type": "code",
   "execution_count": null,
   "id": "c73a96e1-7fc1-480b-8b7e-df7a9b846261",
   "metadata": {},
   "outputs": [],
   "source": [
    "from sequence_models.datasets import UniRefDataset\n",
    "\n",
    "train_dataset = UniRefDataset('/vast/aa11803/uniref50_data/', 'train', structure=False, max_len=1024)\n",
    "test_dataset = UniRefDataset('/vast/aa11803/uniref50_data/', 'test', structure=False, max_len=1024)"
   ]
  },
  {
   "cell_type": "markdown",
   "id": "09819b2c-9560-47ff-9c35-f8c5839b0351",
   "metadata": {},
   "source": [
    "# look at dataloaders"
   ]
  },
  {
   "cell_type": "code",
   "execution_count": null,
   "id": "26518d1d-0a4a-42b7-8d8c-89909af961ad",
   "metadata": {},
   "outputs": [],
   "source": [
    "%load_ext autoreload\n",
    "%autoreload 2\n",
    "    \n",
    "from omegaconf import OmegaConf\n",
    "import data\n",
    "from evodiff.utils import Tokenizer\n",
    "\n",
    "cfg = OmegaConf.load('configs/basic_protein.yaml')\n",
    "cfg.train.batch_size = 128 // 4\n",
    "\n",
    "num_classes = cfg.data.N\n",
    "cfg.train.pack = False\n",
    "\n",
    "##### Load data\n",
    "train_dataloader, test_dataloader = data.get_dataloaders(cfg)\n",
    "tokenizer = Tokenizer()"
   ]
  },
  {
   "cell_type": "code",
   "execution_count": null,
   "id": "3880db9f-2742-441c-83de-5a91e5584263",
   "metadata": {},
   "outputs": [],
   "source": [
    "t = next(iter(train_dataloader))"
   ]
  },
  {
   "cell_type": "code",
   "execution_count": null,
   "id": "3fd5533b-f67d-4c4c-a2d5-9afbe870ce69",
   "metadata": {},
   "outputs": [],
   "source": [
    "tokenizer.untokenize(t[0][0])"
   ]
  },
  {
   "cell_type": "code",
   "execution_count": null,
   "id": "2eea9c39-7537-4204-8b67-e22772e46f4e",
   "metadata": {},
   "outputs": [],
   "source": [
    "1 / t[1].mean()"
   ]
  },
  {
   "cell_type": "code",
   "execution_count": null,
   "id": "c03750d9-1afe-4aef-82a6-34cb7a422fdd",
   "metadata": {},
   "outputs": [],
   "source": []
  }
 ],
 "metadata": {
  "kernelspec": {
   "display_name": "evodiff",
   "language": "python",
   "name": "evodiff"
  },
  "language_info": {
   "codemirror_mode": {
    "name": "ipython",
    "version": 3
   },
   "file_extension": ".py",
   "mimetype": "text/x-python",
   "name": "python",
   "nbconvert_exporter": "python",
   "pygments_lexer": "ipython3",
   "version": "3.8.5"
  }
 },
 "nbformat": 4,
 "nbformat_minor": 5
}
