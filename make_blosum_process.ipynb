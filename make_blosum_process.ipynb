{
 "cells": [
  {
   "cell_type": "code",
   "execution_count": null,
   "id": "9d622d05-5030-4166-b8b8-0fdea6a391d8",
   "metadata": {},
   "outputs": [],
   "source": [
    "from evodiff.utils import Tokenizer\n",
    "import numpy as np\n",
    "\n",
    "beta = 1\n",
    "\n",
    "tokenizer = Tokenizer()\n",
    "# from https://web.expasy.org/protscale/pscale/A.A.Swiss-Prot.html\n",
    "aa_freq = np.array([8.25, 5.53, 4.06, 5.45, 1.37, 3.93, 6.75,\n",
    "                    7.07, 2.27, 5.96, 9.66, 5.84, 2.42, 3.86,\n",
    "                    4.70, 6.56, 5.34, 1.08, 2.92, 6.87] + 11*[0]) / 100 \n",
    "blosum_alphabet = np.array(list('ARNDCQEGHILKMFPSTWYVBZXJOU-'))\n",
    "tok_alphabet = np.array(tokenizer.alphabet)\n",
    "with open('/scratch/aa11803/d3pm/data/blosum62-special-MSA.mat') as f:\n",
    "    load_matrix = np.array([line.split()[1:] for line in f if line[0] in blosum_alphabet], dtype=int)\n",
    "map_ = blosum_alphabet[:, None] == tok_alphabet[None, :]\n",
    "blosum_matrix = np.zeros((len(tok_alphabet), len(tok_alphabet)))\n",
    "for i, ind_i in enumerate(np.argmax(map_, axis=1)):\n",
    "    for j, ind_j in enumerate(np.argmax(map_, axis=1)):\n",
    "        blosum_matrix[ind_i, ind_j] = load_matrix[i, j]\n",
    "\n",
    "cond_liks = (2. ** (blosum_matrix/2)) * aa_freq[None, :] # X_ij = BLOSUM_ij * p(aa_j) = p(aa_j | aa_i)\n",
    "cond_liks = cond_liks ** beta\n",
    "cond_liks = cond_liks / cond_liks.sum(-1)[:, None]\n",
    "\n",
    "L = cond_liks - np.eye(len(cond_liks))\n"
   ]
  },
  {
   "cell_type": "code",
   "execution_count": null,
   "id": "891882a7-1ddd-431f-92db-71213878f124",
   "metadata": {},
   "outputs": [],
   "source": [
    "from matplotlib import pyplot as plt\n",
    "\n",
    "plt.figure()\n",
    "plt.imshow(L, cmap='bwr', vmin=-1, vmax=1)\n",
    "plt.colorbar()\n",
    "\n",
    "from d3pm_sc.utils import get_inf_gen\n",
    "L = get_inf_gen({'type': 'blosum', 'beta':1, 'normalize': False}, 31)\n",
    "plt.figure()\n",
    "plt.imshow(L, cmap='bwr', vmin=-1, vmax=1)\n",
    "plt.colorbar()\n",
    "\n",
    "y = aa_freq\n",
    "for i in range(100000):\n",
    "    y = cond_liks.T @ y\n",
    "plt.figure(figsize=[5, 3])\n",
    "plt.plot(y, label='stationary', color='blue')\n",
    "plt.plot(aa_freq, label='background freq', color='black')\n",
    "plt.xlabel(\"AA\")\n",
    "plt.xticks(np.arange(len(y)), tok_alphabet)\n",
    "plt.ylabel(\"freq\")\n",
    "plt.ylim(0, 0.11)\n",
    "plt.legend()"
   ]
  },
  {
   "cell_type": "code",
   "execution_count": null,
   "id": "c73a96e1-7fc1-480b-8b7e-df7a9b846261",
   "metadata": {},
   "outputs": [],
   "source": []
  }
 ],
 "metadata": {
  "kernelspec": {
   "display_name": "evodiff",
   "language": "python",
   "name": "evodiff"
  },
  "language_info": {
   "codemirror_mode": {
    "name": "ipython",
    "version": 3
   },
   "file_extension": ".py",
   "mimetype": "text/x-python",
   "name": "python",
   "nbconvert_exporter": "python",
   "pygments_lexer": "ipython3",
   "version": "3.8.5"
  }
 },
 "nbformat": 4,
 "nbformat_minor": 5
}
