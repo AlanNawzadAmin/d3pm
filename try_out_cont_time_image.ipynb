{
 "cells": [
  {
   "cell_type": "code",
   "execution_count": null,
   "id": "9ef5ef31-444c-4091-88a1-f5b59d6e492e",
   "metadata": {},
   "outputs": [],
   "source": [
    "%load_ext autoreload\n",
    "%autoreload 2\n",
    "\n",
    "import numpy as np\n",
    "from matplotlib import pyplot as plt\n",
    "\n",
    "from d3pm_sc.ct_sched_cond import ScheduleCondition\n",
    "from d3pm_sc.sedd import SEDD\n",
    "from d3pm_sc.masking_diffusion import MaskingDiffusion\n",
    "from d3pm_sc.d3pm_classic import D3PMClassic\n",
    "from d3pm_sc.unet import KingmaUNet, UNet, SimpleUNet, GigaUNet\n",
    "from d3pm_sc import utils\n",
    "from pytorch_lightning import Trainer\n",
    "from pytorch_lightning.loggers import WandbLogger\n",
    "\n",
    "import torch\n",
    "from torch.utils.data import DataLoader, random_split\n",
    "from torchvision import transforms\n",
    "from torchvision.datasets import MNIST, CIFAR10\n",
    "\n",
    "import wandb\n",
    "wandb.login(key=\"6a47f093d2a55e4f4e85b33767423f2db66355b8\")\n"
   ]
  },
  {
   "cell_type": "code",
   "execution_count": null,
   "id": "df9e6afe-cdfd-420c-b9b7-a69c45656461",
   "metadata": {},
   "outputs": [],
   "source": [
    "from nets import get_model_setup\n",
    "from data import get_dataloaders\n",
    "from omegaconf import OmegaConf\n",
    "import data\n",
    "\n",
    "cfg = OmegaConf.load('configs/basic.yaml')\n",
    "cfg.train.batch_size = cfg.train.batch_size//2\n",
    "cfg.model.model = 'SEDD'\n",
    "\n",
    "##### Load data\n",
    "torch.manual_seed(cfg.model.seed)\n",
    "train_dataloader, test_dataloader = data.get_dataloaders(cfg)\n",
    "tokenizer = train_dataloader.tokenizer if hasattr(train_dataloader, \"tokenizer\") else None\n",
    "\n",
    "##### Setup x0_model\n",
    "x0_model_class, nn_params = get_model_setup(cfg, tokenizer) \n",
    "\n",
    "#### Pick model\n",
    "model = SEDD(\n",
    "    x0_model_class,\n",
    "    nn_params,\n",
    "    num_classes=len(tokenizer) if tokenizer else cfg.data.N,\n",
    "    hybrid_loss_coeff=cfg.model.hybrid_loss_coeff,\n",
    "    gamma=cfg.model.gamma,\n",
    "    forward_kwargs=OmegaConf.to_container(cfg.model.forward_kwargs, resolve=True),\n",
    "    schedule_type=cfg.model.schedule_type,\n",
    "    logistic_pars=cfg.model.logistic_pars,\n",
    "    fix_x_t_bias=cfg.model.fix_x_t_bias,\n",
    "    n_T=cfg.model.n_T,\n",
    "    t_max=cfg.model.t_max,\n",
    "    seed=cfg.model.seed,\n",
    "    sedd_param=cfg.model.sedd_param,\n",
    "    eff_num_classes=cfg.model.eff_num_classes,\n",
    "    input_logits=cfg.model.input_logits,\n",
    "    tokenizer=tokenizer if cfg.data.data != 'uniref50' else Tokenizer(),\n",
    "    **OmegaConf.to_container(cfg.train, resolve=True),\n",
    ")\n",
    "# model = ScheduleCondition.load_from_checkpoint('checkpoints/prime-sweep-1/epoch=33-step=11968.ckpt')"
   ]
  },
  {
   "cell_type": "code",
   "execution_count": null,
   "id": "ca680940-d10d-4f13-bddd-512d59b91c73",
   "metadata": {},
   "outputs": [],
   "source": [
    "model.pre_configure_model(train_dataloader)"
   ]
  },
  {
   "cell_type": "code",
   "execution_count": null,
   "id": "0bdcb556-feb8-4a80-be82-61a98f5c691c",
   "metadata": {},
   "outputs": [],
   "source": [
    "steps = (torch.arange(1000, dtype=torch.float32) / 1000)\n",
    "betas = model.beta(steps)\n",
    "mla = model.log_alpha(steps)\n",
    "alpha_bar = torch.exp(mla)\n",
    "L = utils.get_inf_gen(OmegaConf.to_container(cfg.model.forward_kwargs, resolve=True), cfg.data.N)\n",
    "\n",
    "fig, ax = plt.subplots(1, 4, figsize=[12, 3])\n",
    "ax[0].semilogy(betas, label=\"Hazard\", color='black')\n",
    "ax[0].legend()\n",
    "\n",
    "ax[1].semilogy(-mla, label=\"E[S]\", color='black')\n",
    "ax[1].legend()\n",
    "\n",
    "ax[2].plot(alpha_bar, label=\"p(unmut)\", color='black')\n",
    "ax[2].legend()\n",
    "\n",
    "ax[3].imshow(L, vmin=-0.1, vmax=0.1, cmap='bwr')"
   ]
  },
  {
   "cell_type": "code",
   "execution_count": null,
   "id": "be842a7f-aee0-4e96-b885-f54daf0e2083",
   "metadata": {},
   "outputs": [],
   "source": [
    "from pytorch_lightning import Trainer\n",
    "from pytorch_lightning.loggers import WandbLogger\n",
    "\n",
    "wandb_logger = WandbLogger(project=\"debugging\")\n",
    "lightning_model = model\n",
    "torch.set_float32_matmul_precision('high')\n",
    "\n",
    "# from pytorch_lightning.profilers import PyTorchProfiler\n",
    "# profiler = PyTorchProfiler(\n",
    "#     on_trace_ready=torch.profiler.tensorboard_trace_handler('./log'),\n",
    "#     schedule=torch.profiler.schedule(wait=1, warmup=1, active=10, repeat=2)\n",
    "# )\n",
    "trainer = Trainer(max_epochs=1, accelerator='auto',\n",
    "                  devices=torch.cuda.device_count(),\n",
    "                  # val_check_interval=1,\n",
    "                  logger=wandb_logger)#, profiler=profiler)\n",
    "trainer.fit(lightning_model, train_dataloader, test_dataloader)"
   ]
  },
  {
   "cell_type": "code",
   "execution_count": null,
   "id": "bdbadd67-27e6-4473-be73-3da103536320",
   "metadata": {},
   "outputs": [],
   "source": [
    "\n",
    "import wandb\n",
    "wandb.finish()"
   ]
  },
  {
   "cell_type": "code",
   "execution_count": null,
   "id": "9215ccb6-fefa-4d95-95a8-3576af0a19f9",
   "metadata": {},
   "outputs": [],
   "source": []
  }
 ],
 "metadata": {
  "kernelspec": {
   "display_name": "evodiff",
   "language": "python",
   "name": "evodiff"
  },
  "language_info": {
   "codemirror_mode": {
    "name": "ipython",
    "version": 3
   },
   "file_extension": ".py",
   "mimetype": "text/x-python",
   "name": "python",
   "nbconvert_exporter": "python",
   "pygments_lexer": "ipython3",
   "version": "3.8.5"
  }
 },
 "nbformat": 4,
 "nbformat_minor": 5
}
