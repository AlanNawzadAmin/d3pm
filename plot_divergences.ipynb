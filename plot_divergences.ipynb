{
 "cells": [
  {
   "cell_type": "code",
   "execution_count": null,
   "id": "6aee724f-b775-49e0-91be-9e48bf66af3a",
   "metadata": {},
   "outputs": [],
   "source": [
    "import numpy as np\n",
    "import matplotlib.pyplot as plt\n",
    "import torch"
   ]
  },
  {
   "cell_type": "code",
   "execution_count": null,
   "id": "98a8f4c3-4735-4e56-b611-ccdd9fd7594d",
   "metadata": {},
   "outputs": [],
   "source": [
    "evo_fwd = np.load(\"/scratch/aa11803/d3pm/save_alphas/evodiff_fwd.npy\")\n",
    "evo_bwd = np.load(\"/scratch/aa11803/d3pm/save_alphas/evodiff_bwd.npy\")\n",
    "tau_fwd = np.load(\"/scratch/aa11803/d3pm/save_alphas/tauldr_fwd_nst32768.npy\")\n",
    "tau_bwd = np.load(\"/scratch/aa11803/d3pm/save_alphas/tauldr_rr_hist_nst32768_nsa100.npy\")[::-1]"
   ]
  },
  {
   "cell_type": "code",
   "execution_count": null,
   "id": "e1ec3c2d-f9ee-4ae0-aa83-fc0fb143e552",
   "metadata": {},
   "outputs": [],
   "source": [
    "lw = 2\n",
    "\n",
    "def moving_average(x, window=1):\n",
    "    return torch.nn.functional.avg_pool1d(x.unsqueeze(0), window, stride=1, padding=window//2).squeeze(0)\n",
    "\n",
    "w = 1\n",
    "bwd = evo_bwd * len(evo_bwd)\n",
    "fwd = evo_fwd * len(evo_bwd)\n",
    "ts = np.linspace(0.0, 1, len(evo_bwd))\n",
    "\n",
    "\n",
    "fig, ax = plt.subplots(1, 2, figsize=[14, 2.7])\n",
    "\n",
    "ax[0].plot(ts, 0*ts, color='black', ls='--')\n",
    "ax[0].plot(ts, moving_average(torch.tensor(bwd - fwd), w),\n",
    "         lw=lw, color='black')\n",
    "ax[0].set_ylabel(\"Rate error\", fontsize=20)\n",
    "ax[0].set_xlabel(\"t\", fontsize=20, labelpad=xlp)\n",
    "ax[0].set_xticks([0, 1], [0, 1],fontsize=15)\n",
    "ax[0].tick_params(axis='both', which='major', labelsize=20)\n",
    "ax[0].set_xlim(0, 1)\n",
    "ax[0].set_ylim(-0.85, 0.1)\n",
    "\n",
    "\n",
    "w = 2 * (int(32768*0.003) // 2) + 1\n",
    "min_t = 0.01\n",
    "ts = np.linspace(0.001, 1, len(tau_bwd))\n",
    "bwd = tau_bwd[ts > min_t]\n",
    "fwd = tau_fwd[ts > min_t]\n",
    "ts = ts[ts > min_t]\n",
    "\n",
    "ax[1].plot(ts, 0*ts, color='black', ls='--')\n",
    "ax[1].plot(ts, moving_average(torch.tensor(bwd - fwd), w),\n",
    "         lw=lw, color='black')\n",
    "ax[1].set_ylabel(\"Rate error\", fontsize=20)\n",
    "ax[1].set_xlabel(\"t\", fontsize=20, labelpad=xlp)\n",
    "ax[1].set_xticks([0, 1], [0, 1],fontsize=15)\n",
    "ax[1].tick_params(axis='both', which='major', labelsize=20)\n",
    "ax[1].set_xlim(0, 1)\n",
    "ax[1].set_ylim(-0.6, 6.5)\n",
    "plt.tight_layout()\n",
    "\n",
    "plt.savefig(\"figures/divergence.pdf\")"
   ]
  },
  {
   "cell_type": "code",
   "execution_count": null,
   "id": "e910c4c3-39e5-4808-ab5c-add4cbb49249",
   "metadata": {},
   "outputs": [],
   "source": []
  }
 ],
 "metadata": {
  "kernelspec": {
   "display_name": "scud",
   "language": "python",
   "name": "scud"
  },
  "language_info": {
   "codemirror_mode": {
    "name": "ipython",
    "version": 3
   },
   "file_extension": ".py",
   "mimetype": "text/x-python",
   "name": "python",
   "nbconvert_exporter": "python",
   "pygments_lexer": "ipython3",
   "version": "3.12.9"
  }
 },
 "nbformat": 4,
 "nbformat_minor": 5
}
