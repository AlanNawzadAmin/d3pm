{
 "cells": [
  {
   "cell_type": "code",
   "execution_count": null,
   "id": "2454b6eb-3526-4b56-9778-43dbab97d66e",
   "metadata": {},
   "outputs": [],
   "source": [
    "import os\n",
    "import numpy as np\n",
    "\n",
    "for i in np.arange(54150113, 54150172+1):\n",
    "    os.system(f\"scancel {i}\")"
   ]
  },
  {
   "cell_type": "code",
   "execution_count": null,
   "id": "8e9ba050-b344-43a8-9dc1-398d4b3f9777",
   "metadata": {},
   "outputs": [],
   "source": [
    "import subprocess\n",
    "import sys\n",
    "\n",
    "def detup_sweep(gpu_num, config_name, sweep_id=None):\n",
    "    if sweep_id is None:\n",
    "        result = subprocess.run(['wandb', 'sweep', f'configs/{config_name}.yaml'], capture_output=True, text=True)\n",
    "        sweep_id = str(result).split('/')[-1].split('\\\\')[0]\n",
    "    script = f\"\"\"#!/bin/bash\n",
    "    \n",
    "    source ~/.bash_profile 2>/dev/null || source ~/.bashrc\n",
    "    eval \"$(conda shell.bash hook)\"\n",
    "    conda activate evodiff\n",
    "    wandb agent --name {config_name} alanamin/d3pm/{sweep_id}\"\"\"\n",
    "    script_path = f'scripts/{config_name}_{sweep_id}.sh'\n",
    "    with open(script_path, 'w+') as f:\n",
    "        f.write(script)\n",
    "    subprocess.run(['chmod', '+x', script_path])\n",
    "    print(\"Sweep id:\", sweep_id, \"\\nCommand:\")\n",
    "    print(f\"cd ~/d3pm; nohup bash -c 'CUDA_VISIBLE_DEVICES={gpu_num} ~/d3pm/{script_path}' > ~/d3pm/outputs/{config_name}_{sweep_id}.log 2>&1 &\")"
   ]
  },
  {
   "cell_type": "code",
   "execution_count": null,
   "id": "5516dba1-d674-4995-ac75-36b83091cd30",
   "metadata": {},
   "outputs": [],
   "source": [
    "gpu_num = 1\n",
    "config_name = 'sweep_gamma_cifar_params_agent_2'\n",
    "sweep_id = \"x38oy66z\"\n",
    "detup_sweep(gpu_num, config_name, sweep_id)"
   ]
  },
  {
   "cell_type": "markdown",
   "id": "b08a7f70-192f-499f-b8ac-db5a3832ff0a",
   "metadata": {},
   "source": [
    "## slurm"
   ]
  },
  {
   "cell_type": "code",
   "execution_count": null,
   "id": "40645d0b-8e3d-48b2-b363-c918d07b9a76",
   "metadata": {},
   "outputs": [],
   "source": [
    "import numpy as np\n",
    "import os\n",
    "import subprocess\n",
    "import wandb\n",
    "\n",
    "wandb.login(key='6a47f093d2a55e4f4e85b33767423f2db66355b8')\n",
    "\n",
    "def create_slurm_job(config_name, sweep_id=None, a100=False, n_gpus=1, n_cpus=32,\n",
    "                     run=False, time=48, memory=250, num_nodes=1):\n",
    "    # Create a new wandb sweep if sweep_id is not provided\n",
    "    if sweep_id is None:\n",
    "        result = subprocess.run(['wandb', 'sweep', '--entity', 'alanamin', '--name', config_name, f'configs/{config_name}.yaml'], capture_output=True, text=True)\n",
    "        print(result)\n",
    "        sweep_id = str(result).split('/')[-1].split('\\\\')[0]\n",
    "\n",
    "    rand = np.random.randint(1000000)\n",
    "    # Create a SLURM job script\n",
    "    slurm_script = f\"\"\"#!/bin/bash\n",
    "#SBATCH --job-name=sweeps_{sweep_id}_{rand}\n",
    "#SBATCH --output=/scratch/aa11803/d3pm/slurm_out/slurm_{sweep_id}_{rand}_%j.out\n",
    "#SBATCH --error=/scratch/aa11803/d3pm/slurm_out/slurm_{sweep_id}_{rand}_%j.err\n",
    "#SBATCH --time={time}:00:00\n",
    "#SBATCH --ntasks=1\n",
    "#SBATCH --mem={memory}GB\n",
    "#SBATCH --nodes={num_nodes}\n",
    "#SBATCH --cpus-per-task={n_cpus}\n",
    "#SBATCH --gres=gpu:{'a100:' if a100 else ''}{n_gpus}\n",
    "#SBATCH --mail-user=aa11803@nyu.edu\n",
    "#SBATCH --mail-type=ALL\n",
    "\n",
    "umask 000\n",
    "cd /scratch/aa11803/d3pm\n",
    "source /scratch/aa11803/.bashrc\n",
    "conda activate scud\n",
    "export WANDB_API_KEY=6a47f093d2a55e4f4e85b33767423f2db66355b8\n",
    "\n",
    "srun wandb agent alanamin/d3pm/{sweep_id}\n",
    "\"\"\"\n",
    "\n",
    "    # Write the SLURM script to a file\n",
    "    script_filename = f\"/scratch/aa11803/d3pm/slurm_scripts/slurm_job_{sweep_id}_{rand}.sh\"\n",
    "    with open(script_filename, 'w') as f:\n",
    "        f.write(slurm_script)\n",
    "\n",
    "    # Submit the SLURM job\n",
    "    print('sbatch ' + script_filename)\n",
    "    if run:\n",
    "        subprocess.run(['sbatch', script_filename])\n",
    "\n",
    "    return sweep_id\n"
   ]
  },
  {
   "cell_type": "markdown",
   "id": "1a2bb8e4-ddca-4ba1-992a-6ed2e9029fbb",
   "metadata": {},
   "source": [
    "### small cifar"
   ]
  },
  {
   "cell_type": "code",
   "execution_count": null,
   "id": "b7c8d960-5015-4e5f-aad2-7fe4d5ce007d",
   "metadata": {},
   "outputs": [],
   "source": [
    "# config_name = 'sweep_process_cifar_small_sigma'\n",
    "# sweep_id = None\n",
    "# id_ = create_slurm_job(config_name, sweep_id)\n",
    "# for i in range(1):\n",
    "#     create_slurm_job(None, id_)\n",
    "# print(config_name, id_)\n",
    "\n",
    "# config_name = 'sweep_gamma_cifar'\n",
    "# sweep_id = None\n",
    "# id_ = create_slurm_job(config_name, sweep_id)\n",
    "# for i in range(5):\n",
    "#     create_slurm_job(None, id_)\n",
    "# print(config_name, id_)\n",
    "\n",
    "config_name = 'sweep_gamma_cifar_gaussian_0.05'\n",
    "sweep_id = None\n",
    "id_ = create_slurm_job(config_name, sweep_id)\n",
    "for i in range(15):\n",
    "    create_slurm_job(None, id_)\n",
    "print(config_name, id_)"
   ]
  },
  {
   "cell_type": "markdown",
   "id": "0141a4f2-8d17-4743-bf91-0b1ba57cb7b4",
   "metadata": {},
   "source": [
    "### big cifar"
   ]
  },
  {
   "cell_type": "code",
   "execution_count": null,
   "id": "a59ea471-961b-4f34-8425-6c2387e204bb",
   "metadata": {},
   "outputs": [],
   "source": [
    "# config_name = 'baselines/full_scale_cifar_uniform'\n",
    "# create_slurm_job(config_name, None, a100=True, n_gpus=2, run=True)\n",
    "config_name = 'baselines/full_scale_cifar'\n",
    "create_slurm_job(config_name, None, a100=True, n_gpus=2, run=True)"
   ]
  },
  {
   "cell_type": "code",
   "execution_count": null,
   "id": "986ae6f6-f558-4edd-8835-c59286e4d2cd",
   "metadata": {},
   "outputs": [],
   "source": [
    "config_name = 'baselines/full_scale_cifar_mask'\n",
    "create_slurm_job(config_name, None, a100=True, n_gpus=2, run=True)"
   ]
  },
  {
   "cell_type": "code",
   "execution_count": null,
   "id": "54462db6-bbf8-4f10-87ce-bf309c311683",
   "metadata": {},
   "outputs": [],
   "source": [
    "config_name = 'full_scale_cifar_fast_nolap'\n",
    "create_slurm_job(config_name, None, a100=True, n_gpus=2, run=True)\n",
    "# config_name = 'full_scale_cifar_uniform'\n",
    "# create_slurm_job(config_name, None, a100=True, n_gpus=2, run=True)"
   ]
  },
  {
   "cell_type": "markdown",
   "id": "8ccf440f-52c5-4848-8af8-c16b6c7a831b",
   "metadata": {},
   "source": [
    "### protein"
   ]
  },
  {
   "cell_type": "code",
   "execution_count": null,
   "id": "8d94aa7a-1d26-4ae2-98e3-5dfbdf6aea7e",
   "metadata": {},
   "outputs": [],
   "source": [
    "###### long prot\n",
    "\n",
    "# config_name = 'sweep_process_protein_pack_long'\n",
    "# sweep_id = None\n",
    "# id_ = create_slurm_job(config_name, sweep_id, run=True)\n",
    "# for i in range(1):\n",
    "#     create_slurm_job(None, id_, a100=True, run=True)\n",
    "# print(config_name, id_)\n",
    "\n",
    "\n",
    "# config_name = 'sweep_process_protein_pack_dit_long'\n",
    "# sweep_id = None\n",
    "# id_ = create_slurm_job(config_name, sweep_id, run=True)\n",
    "# for i in range(1):\n",
    "#     create_slurm_job(None, id_, a100=True, run=True)\n",
    "# print(config_name, id_)\n",
    "\n",
    "##### baselines\n",
    "# config_name = 'sweep_process_protein_pack_long_unif'\n",
    "# id_ = create_slurm_job(config_name, sweep_id, run=True, a100=True)\n",
    "# print(config_name, id_)\n",
    "\n",
    "\n",
    "# config_name = 'sweep_process_protein_pack_dit_long_unif'\n",
    "# id_ = create_slurm_job(config_name, sweep_id, run=True, a100=True)\n",
    "# print(config_name, id_)\n",
    "\n",
    "# for id_ in ['dco9qnz9']:#, '380xy0wr']:\n",
    "#     id_ = create_slurm_job(None, id_, run=True, a100=True)"
   ]
  },
  {
   "cell_type": "code",
   "execution_count": null,
   "id": "2051ac42-fcab-4925-897e-d6acfb091db5",
   "metadata": {},
   "outputs": [],
   "source": [
    "from torch import nn"
   ]
  },
  {
   "cell_type": "code",
   "execution_count": null,
   "id": "67d25214-9680-45a0-8651-df9406eabcd7",
   "metadata": {},
   "outputs": [],
   "source": [
    "a = nn.Embedding(300, 100)"
   ]
  },
  {
   "cell_type": "code",
   "execution_count": null,
   "id": "53127432-fcae-4927-8164-23261e71ec39",
   "metadata": {},
   "outputs": [],
   "source": [
    "a.weight"
   ]
  },
  {
   "cell_type": "code",
   "execution_count": null,
   "id": "11a9bb85-d78f-41f3-a048-d166cac8a397",
   "metadata": {},
   "outputs": [],
   "source": []
  },
  {
   "cell_type": "code",
   "execution_count": null,
   "id": "31145e8a-cc86-4704-ba16-8b74f8681b82",
   "metadata": {},
   "outputs": [],
   "source": [
    "# # # # ##### big prot\n",
    "\n",
    "# for bb in ['']:\n",
    "#     for mod in ['scud', 'sedd']:\n",
    "#         config_name = 'big_protein_model_'+mod+bb\n",
    "#         sweep_id = None\n",
    "#         id_ = create_slurm_job(config_name, sweep_id, a100=True, n_gpus=2, run=False, time=48)\n",
    "#         # for i in range(2):\n",
    "#         #     create_slurm_job(None, id_, a100=True, n_gpus=2, run=False, time=48)\n",
    "#         print(config_name, id_)\n",
    "\n",
    "#### big prot\n",
    "\n",
    "config_name = 'big_protein'\n",
    "sweep_id = None\n",
    "id_ = create_slurm_job(config_name, sweep_id, a100=True, n_gpus=2, run=False, time=48)\n",
    "for i in range(10):\n",
    "    create_slurm_job(None, id_, a100=True, n_gpus=2, run=False, time=48)\n",
    "print(config_name, id_)"
   ]
  },
  {
   "cell_type": "code",
   "execution_count": null,
   "id": "cb2c72ca-da6f-45a6-89a2-7d2f9ed464fe",
   "metadata": {},
   "outputs": [],
   "source": [
    "###### short prot\n",
    "\n",
    "# config_name = 'sweep_gamma_protein_pack_no_pack'\n",
    "# sweep_id = '9coizz8e'\n",
    "# id_ = create_slurm_job(config_name, sweep_id, run=False, time=24)\n",
    "# for i in range(10):\n",
    "#     create_slurm_job(None, id_, a100=True, run=False, time=24)\n",
    "# print(config_name, id_)\n",
    "\n",
    "\n",
    "config_name = 'sweep_process_protein_pack'\n",
    "sweep_id = None\n",
    "id_ = create_slurm_job(config_name, sweep_id, run=False)\n",
    "for i in range(5):\n",
    "    create_slurm_job(None, id_, a100=True, run=False)\n",
    "print(config_name, id_)"
   ]
  },
  {
   "cell_type": "markdown",
   "id": "48411972-e3f7-4d75-9ac6-6514befd1799",
   "metadata": {},
   "source": [
    "### language"
   ]
  },
  {
   "cell_type": "code",
   "execution_count": null,
   "id": "0fb956c2-c538-4f5d-bd41-497340363250",
   "metadata": {},
   "outputs": [],
   "source": [
    "config_name = 'sweep_process_lm1b_other_options'\n",
    "sweep_id = 'zm21nzrj'\n",
    "id_ = create_slurm_job(config_name, sweep_id, run=False)\n",
    "for i in range(30):\n",
    "    create_slurm_job(None, id_, a100=True, run=False)\n",
    "print(config_name, id_)\n",
    "\n",
    "\n",
    "# config_name = 'test_param_process_lm1b'\n",
    "# sweep_id = None\n",
    "# id_ = create_slurm_job(config_name, sweep_id, run=True)\n",
    "# for i in range(4):\n",
    "    # create_slurm_job(None, 'u5k82zlj', a100=True, run=True)\n",
    "# print(config_name, id_)"
   ]
  },
  {
   "cell_type": "code",
   "execution_count": null,
   "id": "72e4f9e2-b24e-49b3-ac76-7ca10552a7a6",
   "metadata": {},
   "outputs": [],
   "source": [
    "config_name = 'test_param_process_with_unif_lm1b'\n",
    "sweep_id = None\n",
    "id_ = create_slurm_job(config_name, sweep_id, run=True)\n",
    "for i in range(2):\n",
    "    create_slurm_job(None, id_, a100=True, run=True)\n",
    "print(config_name, id_)"
   ]
  },
  {
   "cell_type": "markdown",
   "id": "56637eba-5ea7-46fb-abb9-609f289cb911",
   "metadata": {
    "jp-MarkdownHeadingCollapsed": true
   },
   "source": [
    "## Make masking and sedd"
   ]
  },
  {
   "cell_type": "code",
   "execution_count": null,
   "id": "dd3eecde-b6a5-4322-b5a0-b772d3be8755",
   "metadata": {},
   "outputs": [],
   "source": [
    "import yaml\n",
    "\n",
    "def make_baseline_configs(config_name, include_md=True):\n",
    "    # Load the existing configuration\n",
    "    with open(f'configs/{config_name}.yaml', 'r') as file:\n",
    "        config = yaml.safe_load(file)\n",
    "    \n",
    "    if 'model.gamma' in config['parameters']:\n",
    "        del config['parameters']['model.gamma']\n",
    "    \n",
    "    config['parameters']['architecture.nn_params.time_embed_dim'] = {'value': 512}\n",
    "    config['parameters']['model.model'] = {'values': include_md * ['MaskingDiffusion'] + ['SEDD']}\n",
    "    \n",
    "    # Save the modified configuration\n",
    "    with open(f'configs/baselines/{config_name}.yaml', 'w') as file:\n",
    "        yaml.dump(config, file, default_flow_style=False)\n",
    "    return f'baselines/{config_name}'"
   ]
  },
  {
   "cell_type": "code",
   "execution_count": null,
   "id": "4bf9c00d-fe13-48b5-9413-35f99315aba4",
   "metadata": {},
   "outputs": [],
   "source": [
    "config_name = 'full_scale_cifar'\n",
    "config_name = make_baseline_configs(config_name, include_md=False)\n",
    "create_slurm_job(config_name, None, a100=True, n_gpus=1)\n",
    "\n",
    "config_name = 'full_scale_cifar_0.1'\n",
    "config_name = make_baseline_configs(config_name, include_md=False)\n",
    "create_slurm_job(config_name, None, a100=True, n_gpus=1, run=True)"
   ]
  },
  {
   "cell_type": "code",
   "execution_count": null,
   "id": "769fba10-8734-44af-b7a1-053d9dbfc823",
   "metadata": {},
   "outputs": [],
   "source": [
    "# config_name = 'sweep_process_cifar_small_sigma'\n",
    "# config_name = make_baseline_configs(config_name, include_md=False)\n",
    "# create_slurm_job(config_name, None)\n",
    "# config_name = 'sweep_gamma_cifar'\n",
    "# config_name = make_baseline_configs(config_name, include_md=True)\n",
    "# create_slurm_job(config_name, None)\n",
    "# config_name = 'sweep_gamma_cifar_gaussian'\n",
    "# config_name = make_baseline_configs(config_name, include_md=False)\n",
    "# create_slurm_job(config_name, None)\n",
    "# config_name = 'sweep_gamma_cifar_gaussian_0.1'\n",
    "# config_name = make_baseline_configs(config_name, include_md=False)\n",
    "# create_slurm_job(config_name, None)"
   ]
  },
  {
   "cell_type": "code",
   "execution_count": null,
   "id": "30294c40-2d58-4be9-884f-282c47cdaa74",
   "metadata": {},
   "outputs": [],
   "source": [
    "for i in range(3):\n",
    "    create_slurm_job(None, 'ky01q6ds', run=False)"
   ]
  },
  {
   "cell_type": "markdown",
   "id": "96ceeb19-19c7-4e47-a4a2-d077e57ed69a",
   "metadata": {},
   "source": [
    "# sampling"
   ]
  },
  {
   "cell_type": "code",
   "execution_count": null,
   "id": "4fe7a70e-2f2e-460e-be81-ce30d7c250e5",
   "metadata": {},
   "outputs": [],
   "source": [
    "import numpy as np\n",
    "import os\n",
    "\n",
    "def create_slurm_job(seed, nc, sweep_id=None, a100=False, n_gpus=1,\n",
    "                     run=False, time=24, memory=50):\n",
    "    rand = np.random.randint(1000000)\n",
    "    # Create a SLURM job script\n",
    "    slurm_script = f\"\"\"#!/bin/bash\n",
    "#SBATCH --job-name=sample_seed{seed}\n",
    "#SBATCH --output=/scratch/aa11803/d3pm/slurm_out/slurm_sample_seed{seed}_%j.out\n",
    "#SBATCH --error=/scratch/aa11803/d3pm/slurm_out/slurm_sample_seed{seed}_%j.err\n",
    "#SBATCH --time={time}:00:00\n",
    "#SBATCH --ntasks=1\n",
    "#SBATCH --mem={memory}GB\n",
    "#SBATCH --nodes=1\n",
    "#SBATCH --cpus-per-task=1\n",
    "#SBATCH --gres=gpu:{'a100:' if a100 else ''}1\n",
    "#SBATCH --mail-user=aa11803@nyu.edu\n",
    "#SBATCH --mail-type=ALL\n",
    "\n",
    "umask 000\n",
    "cd /scratch/aa11803/d3pm\n",
    "source /scratch/aa11803/.bashrc\n",
    "conda activate scud\n",
    "\n",
    "python3 sample.py model.seed={seed} sample.n_corrector_steps={nc}\n",
    "\"\"\"\n",
    "\n",
    "    # Write the SLURM script to a file\n",
    "    script_filename = f\"/scratch/aa11803/d3pm/slurm_scripts/slurm_job_sample_seed{seed}_nc{nc}.sh\"\n",
    "    with open(script_filename, 'w') as f:\n",
    "        f.write(slurm_script)\n",
    "\n",
    "    # Submit the SLURM job\n",
    "    print('sbatch ' + script_filename)\n",
    "    if run:\n",
    "        subprocess.run(['sbatch', script_filename])\n",
    "\n",
    "    return sweep_id\n"
   ]
  },
  {
   "cell_type": "code",
   "execution_count": null,
   "id": "cf5cf6ae-c438-41e0-bf57-40cf79c5addc",
   "metadata": {},
   "outputs": [],
   "source": [
    "for nc in [0, 10, 3]:\n",
    "    seed=19\n",
    "    create_slurm_job(seed, nc)\n",
    "\n",
    "# for nc in [10, 1, 3]:\n",
    "#     for seed in range(19):\n",
    "#         create_slurm_job(seed, nc)"
   ]
  },
  {
   "cell_type": "markdown",
   "id": "d8225900-2e41-469d-94ff-4d56b8fd2f2f",
   "metadata": {},
   "source": [
    "# tauLDR"
   ]
  },
  {
   "cell_type": "code",
   "execution_count": null,
   "id": "e4943325-390f-4292-9579-3c6e49e7cf60",
   "metadata": {},
   "outputs": [],
   "source": [
    "import numpy as np\n",
    "import os\n",
    "\n",
    "def create_slurm_job(sweep_id=None, a100=True, n_gpus=1,\n",
    "                     run=False, time=12, memory=100):\n",
    "    rand = np.random.randint(1000000)\n",
    "    # Create a SLURM job script\n",
    "    slurm_script = f\"\"\"#!/bin/bash\n",
    "#SBATCH --job-name=tauldr_sample\n",
    "#SBATCH --output=/scratch/aa11803/d3pm/slurm_out/slurm_tauldr_sample_%j.out\n",
    "#SBATCH --error=/scratch/aa11803/d3pm/slurm_out/slurm_tauldr_sample_%j.err\n",
    "#SBATCH --time={time}:00:00\n",
    "#SBATCH --ntasks=1\n",
    "#SBATCH --mem={memory}GB\n",
    "#SBATCH --nodes=1\n",
    "#SBATCH --cpus-per-task=1\n",
    "#SBATCH --gres=gpu:{'a100:' if a100 else ''}1\n",
    "#SBATCH --mail-user=aa11803@nyu.edu\n",
    "#SBATCH --mail-type=ALL\n",
    "\n",
    "umask 000\n",
    "cd /scratch/aa11803/tauLDR\n",
    "source /scratch/aa11803/.bashrc\n",
    "conda activate scud\n",
    "\n",
    "python3 sample_tauldr.py\n",
    "\"\"\"\n",
    "\n",
    "    # Write the SLURM script to a file\n",
    "    script_filename = f\"/scratch/aa11803/d3pm/slurm_scripts/slurm_tauldr_sample.sh\"\n",
    "    with open(script_filename, 'w') as f:\n",
    "        f.write(slurm_script)\n",
    "\n",
    "    # Submit the SLURM job\n",
    "    print('sbatch ' + script_filename)\n",
    "    if run:\n",
    "        subprocess.run(['sbatch', script_filename])\n",
    "\n",
    "    return sweep_id\n",
    "\n",
    "create_slurm_job()"
   ]
  },
  {
   "cell_type": "code",
   "execution_count": null,
   "id": "03f06772-6853-42ab-b17f-c8ff846a246e",
   "metadata": {},
   "outputs": [],
   "source": []
  }
 ],
 "metadata": {
  "kernelspec": {
   "display_name": "scud",
   "language": "python",
   "name": "scud"
  },
  "language_info": {
   "codemirror_mode": {
    "name": "ipython",
    "version": 3
   },
   "file_extension": ".py",
   "mimetype": "text/x-python",
   "name": "python",
   "nbconvert_exporter": "python",
   "pygments_lexer": "ipython3",
   "version": "3.12.9"
  }
 },
 "nbformat": 4,
 "nbformat_minor": 5
}
