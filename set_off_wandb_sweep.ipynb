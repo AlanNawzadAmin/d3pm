{
 "cells": [
  {
   "cell_type": "code",
   "execution_count": 28,
   "id": "8e9ba050-b344-43a8-9dc1-398d4b3f9777",
   "metadata": {},
   "outputs": [],
   "source": [
    "import subprocess\n",
    "import sys\n",
    "\n",
    "def detup_sweep(gpu_num, config_name):\n",
    "    result = subprocess.run(['wandb', 'sweep', f'configs/{config_name}.yaml'], capture_output=True, text=True)\n",
    "    sweep_id = str(result).split('/')[-1].split('\\\\')[0]\n",
    "    script = \"\"\"#!/bin/bash\n",
    "    \n",
    "    source ~/.bash_profile 2>/dev/null || source ~/.bashrc\n",
    "    eval \"$(conda shell.bash hook)\"\n",
    "    conda activate evodiff\n",
    "    wandb agent alanamin/d3pm/\"\"\" + str(sweep_id)\n",
    "    script_path = f'scripts/{config_name}_{sweep_id}.sh'\n",
    "    with open(script_path, 'w+') as f:\n",
    "        f.write(script)\n",
    "    subprocess.run(['chmod', '+x', script_path])\n",
    "    print(\"Sweep id:\", sweep_id, \"\\nCommand:\")\n",
    "    print(f\"cd ~/d3pm; nohup bash -c 'CUDA_VISIBLE_DEVICES={gpu_num} ~/d3pm/{script_path}' > ~/d3pm/outputs/{config_name}_{sweep_id}.log 2>&1 &\")"
   ]
  },
  {
   "cell_type": "code",
   "execution_count": 31,
   "id": "5516dba1-d674-4995-ac75-36b83091cd30",
   "metadata": {},
   "outputs": [
    {
     "name": "stdout",
     "output_type": "stream",
     "text": [
      "Sweep id: tqlupjj4 \n",
      "Command:\n",
      "nohup bash -c 'CUDA_VISIBLE_DEVICES=2 ~/d3pm/scripts/sweep_gamma_cifar_process_tqlupjj4.sh' > ~/d3pm/outputs/sweep_gamma_cifar_process_tqlupjj4.log 2>&1 &\n"
     ]
    }
   ],
   "source": [
    "gpu_num = 2\n",
    "config_name = 'sweep_gamma_cifar_process'\n",
    "detup_sweep(gpu_num, config_name)"
   ]
  },
  {
   "cell_type": "code",
   "execution_count": null,
   "id": "ce49ee3f-c45f-4c2e-b03a-e3bfd760807d",
   "metadata": {},
   "outputs": [],
   "source": []
  }
 ],
 "metadata": {
  "kernelspec": {
   "display_name": "Python 3 (ipykernel)",
   "language": "python",
   "name": "python3"
  },
  "language_info": {
   "codemirror_mode": {
    "name": "ipython",
    "version": 3
   },
   "file_extension": ".py",
   "mimetype": "text/x-python",
   "name": "python",
   "nbconvert_exporter": "python",
   "pygments_lexer": "ipython3",
   "version": "3.12.3"
  }
 },
 "nbformat": 4,
 "nbformat_minor": 5
}
