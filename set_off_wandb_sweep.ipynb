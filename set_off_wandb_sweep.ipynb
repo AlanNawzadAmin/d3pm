{
 "cells": [
  {
   "cell_type": "code",
   "execution_count": null,
   "id": "8e9ba050-b344-43a8-9dc1-398d4b3f9777",
   "metadata": {},
   "outputs": [],
   "source": [
    "import subprocess\n",
    "import sys\n",
    "\n",
    "def detup_sweep(gpu_num, config_name, sweep_id=None):\n",
    "    if sweep_id is None:\n",
    "        result = subprocess.run(['wandb', 'sweep', f'configs/{config_name}.yaml'], capture_output=True, text=True)\n",
    "        sweep_id = str(result).split('/')[-1].split('\\\\')[0]\n",
    "    script = f\"\"\"#!/bin/bash\n",
    "    \n",
    "    source ~/.bash_profile 2>/dev/null || source ~/.bashrc\n",
    "    eval \"$(conda shell.bash hook)\"\n",
    "    conda activate evodiff\n",
    "    wandb agent --name {config_name} alanamin/d3pm/{sweep_id}\"\"\"\n",
    "    script_path = f'scripts/{config_name}_{sweep_id}.sh'\n",
    "    with open(script_path, 'w+') as f:\n",
    "        f.write(script)\n",
    "    subprocess.run(['chmod', '+x', script_path])\n",
    "    print(\"Sweep id:\", sweep_id, \"\\nCommand:\")\n",
    "    print(f\"cd ~/d3pm; nohup bash -c 'CUDA_VISIBLE_DEVICES={gpu_num} ~/d3pm/{script_path}' > ~/d3pm/outputs/{config_name}_{sweep_id}.log 2>&1 &\")"
   ]
  },
  {
   "cell_type": "code",
   "execution_count": null,
   "id": "5516dba1-d674-4995-ac75-36b83091cd30",
   "metadata": {},
   "outputs": [],
   "source": [
    "gpu_num = 1\n",
    "config_name = 'sweep_gamma_cifar_params_agent_2'\n",
    "sweep_id = \"x38oy66z\"\n",
    "detup_sweep(gpu_num, config_name, sweep_id)"
   ]
  },
  {
   "cell_type": "markdown",
   "id": "b08a7f70-192f-499f-b8ac-db5a3832ff0a",
   "metadata": {},
   "source": [
    "## slurm"
   ]
  },
  {
   "cell_type": "code",
   "execution_count": null,
   "id": "40645d0b-8e3d-48b2-b363-c918d07b9a76",
   "metadata": {},
   "outputs": [],
   "source": [
    "import numpy as np\n",
    "import os\n",
    "import subprocess\n",
    "import wandb\n",
    "\n",
    "def create_slurm_job(config_name, sweep_id=None, a100=False, n_gpus=1, n_cpus=32, run=False, time=48):\n",
    "    # Create a new wandb sweep if sweep_id is not provided\n",
    "    if sweep_id is None:\n",
    "        result = subprocess.run(['wandb', 'sweep', '--name', config_name, f'configs/{config_name}.yaml'], capture_output=True, text=True)\n",
    "        print(result)\n",
    "        sweep_id = str(result).split('/')[-1].split('\\\\')[0]\n",
    "\n",
    "    rand = np.random.randint(1000000)\n",
    "    # Create a SLURM job script\n",
    "    slurm_script = f\"\"\"#!/bin/bash\n",
    "#SBATCH --job-name=sweeps{rand}\n",
    "#SBATCH --output=slurm_out/slurm_{sweep_id}_{rand}_%j.out\n",
    "#SBATCH --error=slurm_out/slurm_{sweep_id}_{rand}_%j.err\n",
    "#SBATCH --time={time}:00:00\n",
    "#SBATCH --ntasks=1\n",
    "#SBATCH --mem=100GB\n",
    "#SBATCH --cpus-per-task={n_cpus}\n",
    "#SBATCH --gres=gpu:{'a100:' if a100 else ''}{n_gpus}\n",
    "\n",
    "\n",
    "# Activate your virtual environment if needed\n",
    "cd /scratch/aa11803/d3pm\n",
    "source /scratch/aa11803/.bashrc\n",
    "conda activate evodiff\n",
    "\n",
    "# Run the wandb agent\n",
    "wandb agent alanamin/d3pm/{sweep_id}\n",
    "\"\"\"\n",
    "\n",
    "    # Write the SLURM script to a file\n",
    "    script_filename = f\"/scratch/aa11803/d3pm/slurm_scripts/slurm_job_{sweep_id}_{rand}.sh\"\n",
    "    with open(script_filename, 'w') as f:\n",
    "        f.write(slurm_script)\n",
    "\n",
    "    # Submit the SLURM job\n",
    "    print('sbatch ' + script_filename)\n",
    "    if run:\n",
    "        subprocess.run(['sbatch', script_filename])\n",
    "\n",
    "    return sweep_id\n"
   ]
  },
  {
   "cell_type": "code",
   "execution_count": null,
   "id": "b7c8d960-5015-4e5f-aad2-7fe4d5ce007d",
   "metadata": {},
   "outputs": [],
   "source": [
    "# config_name = 'sweep_process_cifar_small_sigma'\n",
    "# sweep_id = None\n",
    "# id_ = create_slurm_job(config_name, sweep_id)\n",
    "# for i in range(1):\n",
    "#     create_slurm_job(None, id_)\n",
    "# print(config_name, id_)\n",
    "\n",
    "# config_name = 'sweep_gamma_cifar'\n",
    "# sweep_id = None\n",
    "# id_ = create_slurm_job(config_name, sweep_id)\n",
    "# for i in range(5):\n",
    "#     create_slurm_job(None, id_)\n",
    "# print(config_name, id_)\n",
    "\n",
    "config_name = 'sweep_gamma_cifar_gaussian_0.05'\n",
    "sweep_id = None\n",
    "id_ = create_slurm_job(config_name, sweep_id)\n",
    "for i in range(15):\n",
    "    create_slurm_job(None, id_)\n",
    "print(config_name, id_)"
   ]
  },
  {
   "cell_type": "code",
   "execution_count": null,
   "id": "1a344ce4-a253-48ca-95a3-037e15b87439",
   "metadata": {},
   "outputs": [],
   "source": [
    "config_name = 'full_scale_cifar_0.1'\n",
    "sweep_id = None\n",
    "create_slurm_job(config_name, sweep_id, a100=True, n_gpus=2, run=True)"
   ]
  },
  {
   "cell_type": "code",
   "execution_count": null,
   "id": "4fc22bec-b540-434c-86f2-30611e2d732e",
   "metadata": {},
   "outputs": [],
   "source": [
    "config_name = 'sweep_process_protein_pack_long'\n",
    "sweep_id = None\n",
    "create_slurm_job(config_name, sweep_id)"
   ]
  },
  {
   "cell_type": "code",
   "execution_count": null,
   "id": "54462db6-bbf8-4f10-87ce-bf309c311683",
   "metadata": {},
   "outputs": [],
   "source": [
    "config_name = 'full_scale_cifar'\n",
    "create_slurm_job(config_name, None, a100=True, n_gpus=2, run=True)\n",
    "config_name = 'full_scale_cifar_0.1'\n",
    "create_slurm_job(config_name, None, a100=True, n_gpus=2, run=True)"
   ]
  },
  {
   "cell_type": "code",
   "execution_count": null,
   "id": "c719a717-b3ad-4dac-9e62-a7ddad26932f",
   "metadata": {},
   "outputs": [],
   "source": [
    "config_name = 'sweep_process_protein_pack_long'\n",
    "sweep_id = None\n",
    "id_ = create_slurm_job(config_name, sweep_id, run=True)\n",
    "for i in range(1):\n",
    "    create_slurm_job(None, id_, a100=True, run=True)\n",
    "print(config_name, id_)\n",
    "\n",
    "\n",
    "config_name = 'sweep_process_protein_pack_dit_long'\n",
    "sweep_id = None\n",
    "id_ = create_slurm_job(config_name, sweep_id, run=True)\n",
    "for i in range(1):\n",
    "    create_slurm_job(None, id_, a100=True, run=True)\n",
    "print(config_name, id_)"
   ]
  },
  {
   "cell_type": "code",
   "execution_count": null,
   "id": "8d94aa7a-1d26-4ae2-98e3-5dfbdf6aea7e",
   "metadata": {},
   "outputs": [],
   "source": [
    "config_name = 'sweep_process_protein_pack_long_unif'\n",
    "id_ = create_slurm_job(config_name, sweep_id, run=True, a100=True)\n",
    "print(config_name, id_)\n",
    "\n",
    "\n",
    "config_name = 'sweep_process_protein_pack_dit_long_unif'\n",
    "id_ = create_slurm_job(config_name, sweep_id, run=True, a100=True)\n",
    "print(config_name, id_)"
   ]
  },
  {
   "cell_type": "code",
   "execution_count": null,
   "id": "95547e7b-dc24-4350-aeca-7a62a1c7a3ff",
   "metadata": {},
   "outputs": [],
   "source": [
    "import torch\n",
    "import multiprocessing\n",
    "\n",
    "multiprocessing.cpu_count()\n"
   ]
  },
  {
   "cell_type": "code",
   "execution_count": null,
   "id": "cb2c72ca-da6f-45a6-89a2-7d2f9ed464fe",
   "metadata": {},
   "outputs": [],
   "source": [
    "config_name = 'sweep_process_protein_pack'\n",
    "sweep_id = None\n",
    "id_ = create_slurm_job(config_name, sweep_id, run=True)\n",
    "for i in range(8):\n",
    "    create_slurm_job(None, id_, a100=True, run=True)\n",
    "print(config_name, id_)\n",
    "\n",
    "\n",
    "config_name = 'sweep_process_protein_pack_dit'\n",
    "sweep_id = None\n",
    "id_ = create_slurm_job(config_name, sweep_id, run=True)\n",
    "for i in range(8):\n",
    "    create_slurm_job(None, id_, a100=True, run=True)\n",
    "print(config_name, id_)"
   ]
  },
  {
   "cell_type": "code",
   "execution_count": null,
   "id": "0fb956c2-c538-4f5d-bd41-497340363250",
   "metadata": {},
   "outputs": [],
   "source": [
    "# config_name = 'sweep_process_lm1b'\n",
    "# sweep_id = None\n",
    "# id_ = create_slurm_job(config_name, sweep_id, run=True)\n",
    "for i in range(10):\n",
    "    create_slurm_job(None, 'g32mi62v', a100=True, run=True)\n",
    "# print(config_name, id_)\n",
    "\n",
    "\n",
    "# config_name = 'test_param_process_lm1b'\n",
    "# sweep_id = None\n",
    "# id_ = create_slurm_job(config_name, sweep_id, run=True)\n",
    "for i in range(4):\n",
    "    create_slurm_job(None, 'u5k82zlj', a100=True, run=True)\n",
    "# print(config_name, id_)"
   ]
  },
  {
   "cell_type": "markdown",
   "id": "56637eba-5ea7-46fb-abb9-609f289cb911",
   "metadata": {},
   "source": [
    "## Make masking and sedd"
   ]
  },
  {
   "cell_type": "code",
   "execution_count": null,
   "id": "dd3eecde-b6a5-4322-b5a0-b772d3be8755",
   "metadata": {},
   "outputs": [],
   "source": [
    "import yaml\n",
    "\n",
    "def make_baseline_configs(config_name, include_md=True):\n",
    "    # Load the existing configuration\n",
    "    with open(f'configs/{config_name}.yaml', 'r') as file:\n",
    "        config = yaml.safe_load(file)\n",
    "    \n",
    "    if 'model.gamma' in config['parameters']:\n",
    "        del config['parameters']['model.gamma']\n",
    "    \n",
    "    config['parameters']['architecture.nn_params.time_embed_dim'] = {'value': 512}\n",
    "    config['parameters']['model.model'] = {'values': include_md * ['MaskingDiffusion'] + ['SEDD']}\n",
    "    \n",
    "    # Save the modified configuration\n",
    "    with open(f'configs/baselines/{config_name}.yaml', 'w') as file:\n",
    "        yaml.dump(config, file, default_flow_style=False)\n",
    "    return f'baselines/{config_name}'"
   ]
  },
  {
   "cell_type": "code",
   "execution_count": null,
   "id": "4bf9c00d-fe13-48b5-9413-35f99315aba4",
   "metadata": {},
   "outputs": [],
   "source": [
    "config_name = 'full_scale_cifar'\n",
    "config_name = make_baseline_configs(config_name, include_md=False)\n",
    "create_slurm_job(config_name, None, a100=True, n_gpus=1)\n",
    "\n",
    "config_name = 'full_scale_cifar_0.1'\n",
    "config_name = make_baseline_configs(config_name, include_md=False)\n",
    "create_slurm_job(config_name, None, a100=True, n_gpus=1, run=True)"
   ]
  },
  {
   "cell_type": "code",
   "execution_count": null,
   "id": "769fba10-8734-44af-b7a1-053d9dbfc823",
   "metadata": {},
   "outputs": [],
   "source": [
    "# config_name = 'sweep_process_cifar_small_sigma'\n",
    "# config_name = make_baseline_configs(config_name, include_md=False)\n",
    "# create_slurm_job(config_name, None)\n",
    "# config_name = 'sweep_gamma_cifar'\n",
    "# config_name = make_baseline_configs(config_name, include_md=True)\n",
    "# create_slurm_job(config_name, None)\n",
    "# config_name = 'sweep_gamma_cifar_gaussian'\n",
    "# config_name = make_baseline_configs(config_name, include_md=False)\n",
    "# create_slurm_job(config_name, None)\n",
    "config_name = 'sweep_gamma_cifar_gaussian_0.1'\n",
    "config_name = make_baseline_configs(config_name, include_md=False)\n",
    "create_slurm_job(config_name, None)"
   ]
  },
  {
   "cell_type": "code",
   "execution_count": null,
   "id": "30294c40-2d58-4be9-884f-282c47cdaa74",
   "metadata": {},
   "outputs": [],
   "source": [
    "for i in range(3):\n",
    "    create_slurm_job(None, 'ky01q6ds', run=False)"
   ]
  },
  {
   "cell_type": "code",
   "execution_count": null,
   "id": "ff0f7b6c-00f1-470c-a80f-d8fba677694a",
   "metadata": {},
   "outputs": [],
   "source": []
  }
 ],
 "metadata": {
  "kernelspec": {
   "display_name": "evodiff",
   "language": "python",
   "name": "evodiff"
  },
  "language_info": {
   "codemirror_mode": {
    "name": "ipython",
    "version": 3
   },
   "file_extension": ".py",
   "mimetype": "text/x-python",
   "name": "python",
   "nbconvert_exporter": "python",
   "pygments_lexer": "ipython3",
   "version": "3.8.5"
  }
 },
 "nbformat": 4,
 "nbformat_minor": 5
}
