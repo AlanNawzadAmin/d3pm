{
 "cells": [
  {
   "cell_type": "code",
   "execution_count": null,
   "id": "7284ba7a-2018-411d-86ae-d0143464ea79",
   "metadata": {},
   "outputs": [],
   "source": [
    "singularity exec \\\n",
    "  --overlay /vast/work/public/ml-datasets/imagenet/imagenet-train.sqf:ro \\\n",
    "  --overlay /vast/work/public/ml-datasets/imagenet/imagenet-val.sqf:ro\\\n",
    "  /scratch/work/public/singularity/cuda11.1-cudnn8-devel-ubuntu18.04.sif /bin/bash"
   ]
  }
 ],
 "metadata": {
  "kernelspec": {
   "display_name": "Python 3 (ipykernel)",
   "language": "python",
   "name": "python3"
  },
  "language_info": {
   "codemirror_mode": {
    "name": "ipython",
    "version": 3
   },
   "file_extension": ".py",
   "mimetype": "text/x-python",
   "name": "python",
   "nbconvert_exporter": "python",
   "pygments_lexer": "ipython3",
   "version": "3.11.5"
  }
 },
 "nbformat": 4,
 "nbformat_minor": 5
}
