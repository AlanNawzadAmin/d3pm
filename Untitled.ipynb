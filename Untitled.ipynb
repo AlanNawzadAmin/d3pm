{
 "cells": [
  {
   "cell_type": "code",
   "execution_count": null,
   "id": "2d0f731e-a3fc-40ac-9008-02185d82aa58",
   "metadata": {},
   "outputs": [],
   "source": [
    "import numpy as np\n",
    "from matplotlib import pyplot as plt"
   ]
  },
  {
   "cell_type": "code",
   "execution_count": null,
   "id": "db621f3b-1b86-4cca-8823-2afbd6988b6b",
   "metadata": {},
   "outputs": [],
   "source": [
    "N = 1000\n",
    "M = np.random.randn(N, N) / np.sqrt(N)\n",
    "l = np.linalg.eig(M)[0]\n",
    "plt.figure(figsize=[3, 3])\n",
    "plt.plot(np.real(l), np.imag(l), '.', alpha=0.2)\n",
    "b = 2\n",
    "plt.xlim(-b, b)\n",
    "plt.ylim(-b, b)"
   ]
  },
  {
   "cell_type": "code",
   "execution_count": null,
   "id": "5c38745b-4b51-4bcd-b62a-2bf451ca46d4",
   "metadata": {},
   "outputs": [],
   "source": []
  }
 ],
 "metadata": {
  "kernelspec": {
   "display_name": "evodiff",
   "language": "python",
   "name": "evodiff"
  },
  "language_info": {
   "codemirror_mode": {
    "name": "ipython",
    "version": 3
   },
   "file_extension": ".py",
   "mimetype": "text/x-python",
   "name": "python",
   "nbconvert_exporter": "python",
   "pygments_lexer": "ipython3",
   "version": "3.8.5"
  }
 },
 "nbformat": 4,
 "nbformat_minor": 5
}
