{
 "cells": [
  {
   "cell_type": "code",
   "execution_count": null,
   "id": "48f22c8c-530a-42bb-b7ed-2c3f8c3a485f",
   "metadata": {},
   "outputs": [],
   "source": [
    "%load_ext autoreload\n",
    "%autoreload 2\n",
    "    \n",
    "import numpy as np\n",
    "from matplotlib import pyplot as plt\n",
    "import torch\n",
    "from d3pm_sc.inception_score import inception_score, preproc, fid_score, load_real_data\n",
    "\n",
    "def imgtrans(x):\n",
    "    x = np.transpose(x, (1,2,0))\n",
    "    return x"
   ]
  },
  {
   "cell_type": "code",
   "execution_count": null,
   "id": "a103f457-0798-4506-97ae-6b7eb96b49be",
   "metadata": {},
   "outputs": [],
   "source": [
    "def load(fname):\n",
    "    try:\n",
    "        return np.load(fname)\n",
    "    except FileNotFoundError:\n",
    "        return []\n",
    "\n",
    "nc = 3\n",
    "T = 1\n",
    "seeds = np.arange(20)\n",
    "path = f'samples/arxiv_cifar_scud_nc{nc}_T{T}'\n",
    "ims = np.concatenate([load(path+f'_s{seed}.npy') for seed in seeds\n",
    "                      if len(load(path+f'_s{seed}.npy'))>0])\n",
    "print(\"N images:\", len(ims))\n",
    "\n",
    "a_x = 8\n",
    "a_y = 16\n",
    "fig, ax = plt.subplots(a_x, a_y, figsize=(0.7*a_y, 0.7*a_x))\n",
    "plt.subplots_adjust(wspace=0, hspace=0)\n",
    "for i in range(a_x):\n",
    "    for j in range(a_y):\n",
    "        ax[i, j].imshow(imgtrans(ims[a_y * i + j]))\n",
    "        ax[i, j].set_xticks([], [])\n",
    "        ax[i, j].set_yticks([], [])\n",
    "        # ax[i, j].axis('off')\n",
    "# plt.tightlayou\n",
    "plt.savefig(\"figures/samples.pdf\")"
   ]
  },
  {
   "cell_type": "code",
   "execution_count": null,
   "id": "4ff055de-4863-46c7-aac2-29e7fe1b8844",
   "metadata": {},
   "outputs": [],
   "source": [
    "score = inception_score(ims)"
   ]
  },
  {
   "cell_type": "code",
   "execution_count": null,
   "id": "0087d205-ac9c-4aaf-aa0c-2faf862ce664",
   "metadata": {},
   "outputs": [],
   "source": [
    "score"
   ]
  },
  {
   "cell_type": "code",
   "execution_count": null,
   "id": "2830fc49-e125-411a-9a79-f9ec4313a3a4",
   "metadata": {},
   "outputs": [],
   "source": [
    "score"
   ]
  },
  {
   "cell_type": "code",
   "execution_count": null,
   "id": "610c62e6-4028-4697-9a89-b1b3a83da067",
   "metadata": {},
   "outputs": [],
   "source": [
    "score"
   ]
  },
  {
   "cell_type": "code",
   "execution_count": null,
   "id": "0f1b22ea-99c6-4983-86ca-765ea272e118",
   "metadata": {},
   "outputs": [],
   "source": [
    "lw = 3\n",
    "ms = 15\n",
    "\n",
    "plt.figure(figsize=(3, 3))\n",
    "plt.plot([7.5931, 7.9604, 8.0083], color='blue', lw=3, markersize=ms, marker='.', label='SCUD Gaussian')\n",
    "xs = np.arange(-1, 4)\n",
    "plt.plot(xs, np.ones(len(xs)) * 6.78, color='grey', lw=lw, label=\"D3PM Masking\")\n",
    "plt.plot(xs, np.ones(len(xs)) * 8.56, color='grey', ls='--', lw=lw, label=\"D3PM Gaussian\")\n",
    "plt.plot([0, 2], [8.74, 9.49], color='black', lw=lw, label=\"$\\\\tau$LDR\", markersize=ms, marker='.')\n",
    "# plt.plot(xs, np.ones(len(xs)) * 9.49, color='black', ls='--', lw=lw)\n",
    "plt.xticks([0, 1, 2], [1, 3, 10], fontsize=15)\n",
    "plt.xlim(-0.1, 2.1)\n",
    "plt.yticks(fontsize=15)\n",
    "plt.legend(fontsize=15, bbox_to_anchor=(1, 0.5), loc='center left')\n",
    "plt.ylabel(\"IS\", fontsize=15)\n",
    "plt.xlabel(\"N resampling\", fontsize=15)"
   ]
  },
  {
   "cell_type": "code",
   "execution_count": null,
   "id": "78bfa67e-fb10-49bc-bfd8-7305d2d7f9f2",
   "metadata": {},
   "outputs": [],
   "source": [
    "score"
   ]
  },
  {
   "cell_type": "code",
   "execution_count": null,
   "id": "a50a6ae4-684a-40f1-afd2-f16f400436e4",
   "metadata": {},
   "outputs": [],
   "source": [
    "real_ims = load_real_data(50000)"
   ]
  },
  {
   "cell_type": "code",
   "execution_count": null,
   "id": "7c06f4b1-4293-4998-aeb5-386ec7bbb299",
   "metadata": {},
   "outputs": [],
   "source": [
    "score = fid_score(ims, real_ims)"
   ]
  },
  {
   "cell_type": "code",
   "execution_count": null,
   "id": "01054901-7658-490d-9876-49c79b3306e5",
   "metadata": {},
   "outputs": [],
   "source": [
    "score"
   ]
  },
  {
   "cell_type": "code",
   "execution_count": null,
   "id": "e638703f-00ff-48c0-9a2b-ed7a98b54909",
   "metadata": {},
   "outputs": [],
   "source": []
  }
 ],
 "metadata": {
  "kernelspec": {
   "display_name": "scud",
   "language": "python",
   "name": "scud"
  },
  "language_info": {
   "codemirror_mode": {
    "name": "ipython",
    "version": 3
   },
   "file_extension": ".py",
   "mimetype": "text/x-python",
   "name": "python",
   "nbconvert_exporter": "python",
   "pygments_lexer": "ipython3",
   "version": "3.12.9"
  }
 },
 "nbformat": 4,
 "nbformat_minor": 5
}
