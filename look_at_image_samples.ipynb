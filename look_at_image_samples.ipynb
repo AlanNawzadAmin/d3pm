{
 "cells": [
  {
   "cell_type": "code",
   "execution_count": null,
   "id": "48f22c8c-530a-42bb-b7ed-2c3f8c3a485f",
   "metadata": {},
   "outputs": [],
   "source": [
    "%load_ext autoreload\n",
    "%autoreload 2\n",
    "    \n",
    "import numpy as np\n",
    "from matplotlib import pyplot as plt\n",
    "import torch\n",
    "from d3pm_sc.inception_score import inception_score, preproc, fid_score, load_real_data\n",
    "\n",
    "def imgtrans(x):\n",
    "    x = np.transpose(x, (1,2,0))\n",
    "    return x"
   ]
  },
  {
   "cell_type": "code",
   "execution_count": null,
   "id": "a103f457-0798-4506-97ae-6b7eb96b49be",
   "metadata": {},
   "outputs": [],
   "source": [
    "nc = 1\n",
    "T = 1\n",
    "seeds = [1, 0]\n",
    "path = f'samples/Nov25_cifar_scud_nc{nc}_T{T}'\n",
    "ims = np.concatenate([np.load(path+f'_s{seed}.npy') for seed in seeds])\n",
    "print(\"N images:\", len(ims))\n",
    "\n",
    "a_x = 16\n",
    "a_y = 8\n",
    "fig, ax = plt.subplots(a_x, a_y, figsize=(a_y, a_x))\n",
    "# plt.subplots_adjust(wspace=0, hspace=0)\n",
    "for i in range(a_x):\n",
    "    for j in range(a_y):\n",
    "        ax[i, j].imshow(imgtrans(ims[a_y * i + j]))\n",
    "        ax[i, j].axis('off')"
   ]
  },
  {
   "cell_type": "code",
   "execution_count": null,
   "id": "4ff055de-4863-46c7-aac2-29e7fe1b8844",
   "metadata": {},
   "outputs": [],
   "source": [
    "score = inception_score(ims[:1952])"
   ]
  },
  {
   "cell_type": "code",
   "execution_count": null,
   "id": "0087d205-ac9c-4aaf-aa0c-2faf862ce664",
   "metadata": {},
   "outputs": [],
   "source": [
    "score"
   ]
  },
  {
   "cell_type": "code",
   "execution_count": null,
   "id": "2830fc49-e125-411a-9a79-f9ec4313a3a4",
   "metadata": {},
   "outputs": [],
   "source": [
    "score"
   ]
  },
  {
   "cell_type": "code",
   "execution_count": null,
   "id": "610c62e6-4028-4697-9a89-b1b3a83da067",
   "metadata": {},
   "outputs": [],
   "source": [
    "score"
   ]
  },
  {
   "cell_type": "code",
   "execution_count": null,
   "id": "78bfa67e-fb10-49bc-bfd8-7305d2d7f9f2",
   "metadata": {},
   "outputs": [],
   "source": [
    "score"
   ]
  },
  {
   "cell_type": "code",
   "execution_count": null,
   "id": "a50a6ae4-684a-40f1-afd2-f16f400436e4",
   "metadata": {},
   "outputs": [],
   "source": [
    "real_ims = load_real_data(10000)"
   ]
  },
  {
   "cell_type": "code",
   "execution_count": null,
   "id": "7c06f4b1-4293-4998-aeb5-386ec7bbb299",
   "metadata": {},
   "outputs": [],
   "source": [
    "score = fid_score(ims, real_ims)"
   ]
  },
  {
   "cell_type": "code",
   "execution_count": null,
   "id": "01054901-7658-490d-9876-49c79b3306e5",
   "metadata": {},
   "outputs": [],
   "source": [
    "score"
   ]
  },
  {
   "cell_type": "code",
   "execution_count": null,
   "id": "66d789a5-eff8-40fe-a6ae-023390718969",
   "metadata": {},
   "outputs": [],
   "source": []
  }
 ],
 "metadata": {
  "kernelspec": {
   "display_name": "evodiff",
   "language": "python",
   "name": "evodiff"
  },
  "language_info": {
   "codemirror_mode": {
    "name": "ipython",
    "version": 3
   },
   "file_extension": ".py",
   "mimetype": "text/x-python",
   "name": "python",
   "nbconvert_exporter": "python",
   "pygments_lexer": "ipython3",
   "version": "3.8.5"
  }
 },
 "nbformat": 4,
 "nbformat_minor": 5
}
