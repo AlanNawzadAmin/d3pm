{
 "cells": [
  {
   "cell_type": "code",
   "execution_count": null,
   "id": "5809fe2a-b675-46c4-b62f-dbe718ee24c6",
   "metadata": {},
   "outputs": [],
   "source": [
    "%load_ext autoreload\n",
    "%autoreload 2\n",
    "\n",
    "from matplotlib import pyplot as plt\n",
    "\n",
    "from d3pm_sc.mutual_info_schedule import get_a_b_func_cont, get_a_b_func_sc\n",
    "from d3pm_sc import utils\n",
    "\n",
    "import torch\n",
    "\n",
    "N = 8\n",
    "forward_kwargs = {\"type\":\"uniform\",\n",
    "                  \"normalized\": True,\n",
    "                  \"bandwidth\":1/5}"
   ]
  },
  {
   "cell_type": "code",
   "execution_count": null,
   "id": "a0a684bf-5b8e-4e5c-8362-bfdb12d660de",
   "metadata": {},
   "outputs": [],
   "source": [
    "gamma = 1/8\n",
    "\n",
    "L = utils.get_inf_gens(forward_kwargs, N)\n",
    "rate = - (L.diagonal().min()) / (1-gamma) # L^* in sec 6.6 of the notes\n",
    "K = L / rate + torch.eye(N)\n",
    "# p0 = torch.randn(len(L)) ** 2\n",
    "# p0 = p0 / p0.sum()\n",
    "log_alpha, beta, mi, precompute_mis = get_a_b_func_sc(K, p0)\n",
    "\n",
    "ts = torch.linspace(0.001, 0.999, 1000) \n",
    "int_ts = -log_alpha(ts)\n",
    "mis = mi(int_ts)\n",
    "alphas = torch.exp(-int_ts)\n",
    "log_betas = torch.log(beta(ts))\n",
    "log_betas_norm = log_betas - log_betas.min()\n",
    "\n",
    "plt.figure(figsize=[3, 3])\n",
    "plt.plot(ts, mis.detach(), color='black')\n",
    "plt.plot(ts, alphas.detach(), color='red')\n",
    "plt.plot(ts, torch.exp(-int_ts/rate), color='red', ls='--')\n",
    "plt.plot(ts, log_betas_norm.detach() / log_betas_norm.max(), color='blue')\n",
    "plt.ylabel(\"MI\")\n",
    "plt.xlabel(\"time\")\n",
    "plt.ylim(0, 1.1)\n",
    "plt.xlim(0, 1)\n",
    "\n",
    "fig, ax = plt.subplots(1, 4, figsize=[9, 2])\n",
    "ax[0].semilogy(ts, int_ts, color='purple')\n",
    "ax[0].semilogy(ts, int_ts/rate, color='purple', ls='--')\n",
    "ax[1].semilogy(ts, alphas, color='red')\n",
    "ax[1].semilogy(ts, torch.exp(-int_ts/rate), color='red', ls='--')\n",
    "ax[2].semilogy(ts, torch.exp(log_betas), color='blue')\n",
    "ax[2].semilogy(ts, torch.exp(log_betas)/rate, color='blue', ls = '--')\n",
    "ax[3].semilogy(ts, torch.exp(log_betas)/int_ts, color='grey')\n",
    "plt.tight_layout()"
   ]
  },
  {
   "cell_type": "code",
   "execution_count": null,
   "id": "9d8a4bd7-e024-41ea-a919-4e6fa1d8a9f4",
   "metadata": {},
   "outputs": [],
   "source": [
    "L = utils.get_inf_gens(forward_kwargs, N)\n",
    "rate = - (L.diagonal().min()) / (1-gamma) # L^* in sec 6.6 of the notes\n",
    "K = L / rate + torch.eye(N)\n",
    "# p0 = torch.randn(len(L)) ** 2\n",
    "# p0 = p0 / p0.sum()\n",
    "log_alpha, beta, mi = get_a_b_func_cont(L, p0)\n",
    "\n",
    "ts = torch.linspace(0.001, 0.999, 1000) \n",
    "int_ts = -log_alpha(ts)\n",
    "mis = mi(int_ts)\n",
    "alphas = torch.exp(-int_ts)\n",
    "log_betas = torch.log(beta(ts))\n",
    "log_betas_norm = log_betas - log_betas.min()\n",
    "\n",
    "plt.figure(figsize=[3, 3])\n",
    "plt.plot(ts, mis.detach(), color='black')\n",
    "plt.plot(ts, alphas.detach(), color='red')\n",
    "plt.plot(ts, log_betas_norm.detach() / log_betas_norm.max(), color='blue')\n",
    "plt.ylabel(\"MI\")\n",
    "plt.xlabel(\"time\")\n",
    "plt.ylim(0, 1.1)\n",
    "plt.xlim(0, 1)\n",
    "\n",
    "fig, ax = plt.subplots(1, 4, figsize=[9, 2])\n",
    "ax[0].semilogy(ts, int_ts, color='purple')\n",
    "ax[1].semilogy(ts, alphas, color='red')\n",
    "ax[2].semilogy(ts, torch.exp(log_betas), color='blue')\n",
    "ax[3].semilogy(ts, torch.exp(log_betas)/int_ts, color='grey')\n",
    "plt.tight_layout()"
   ]
  },
  {
   "cell_type": "code",
   "execution_count": null,
   "id": "3c72d116-0703-440c-83b0-f779f188597e",
   "metadata": {},
   "outputs": [],
   "source": [
    "%timeit int_ts = -log_alpha(ts)\n"
   ]
  },
  {
   "cell_type": "code",
   "execution_count": null,
   "id": "c16b5bc0-9f60-4750-b6f2-61bf43ccefac",
   "metadata": {},
   "outputs": [],
   "source": [
    "%timeit int_ts = beta(ts)\n"
   ]
  },
  {
   "cell_type": "code",
   "execution_count": null,
   "id": "31777502-f3ec-41ff-9788-138b5a42bee2",
   "metadata": {},
   "outputs": [],
   "source": []
  }
 ],
 "metadata": {
  "kernelspec": {
   "display_name": "evodiff",
   "language": "python",
   "name": "evodiff"
  },
  "language_info": {
   "codemirror_mode": {
    "name": "ipython",
    "version": 3
   },
   "file_extension": ".py",
   "mimetype": "text/x-python",
   "name": "python",
   "nbconvert_exporter": "python",
   "pygments_lexer": "ipython3",
   "version": "3.8.5"
  }
 },
 "nbformat": 4,
 "nbformat_minor": 5
}
