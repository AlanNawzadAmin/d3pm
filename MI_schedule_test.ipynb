{
 "cells": [
  {
   "cell_type": "code",
   "execution_count": null,
   "id": "5809fe2a-b675-46c4-b62f-dbe718ee24c6",
   "metadata": {},
   "outputs": [],
   "source": [
    "%load_ext autoreload\n",
    "%autoreload 2\n",
    "\n",
    "from matplotlib import pyplot as plt\n",
    "\n",
    "from d3pm_sc.mutual_info_schedule import get_a_b_func_cont, get_a_b_func_sc, get_a_b_func_mi\n",
    "from d3pm_sc import utils\n",
    "\n",
    "import torch\n",
    "\n",
    "N = 128\n",
    "forward_kwargs = {\"type\":\"uniform\",\n",
    "                  \"normalized\": True,\n",
    "                  \"bandwidth\":0.01}"
   ]
  },
  {
   "cell_type": "code",
   "execution_count": null,
   "id": "a0a684bf-5b8e-4e5c-8362-bfdb12d660de",
   "metadata": {},
   "outputs": [],
   "source": [
    "gamma = 0\n",
    "\n",
    "_, K, rate = utils.get_L_and_K(forward_kwargs, N, gamma)\n",
    "p0 = torch.randn(len(K)) ** 2\n",
    "p0 = p0 / p0.sum()\n",
    "log_alpha, beta, mi, precompute_mis = get_a_b_func_sc(K, p0)\n",
    "\n",
    "ts = torch.linspace(0.001, 0.999, 1000) \n",
    "int_ts = -log_alpha(ts)\n",
    "mis = mi(int_ts)\n",
    "alphas = torch.exp(-int_ts)\n",
    "log_betas = torch.log(beta(ts))\n",
    "log_betas_norm = log_betas - log_betas.min()\n",
    "\n",
    "plt.figure(figsize=[3, 3])\n",
    "plt.plot(ts, mis.detach(), color='black')\n",
    "plt.plot(ts, alphas.detach(), color='red')\n",
    "plt.plot(ts, torch.exp(-int_ts/rate), color='red', ls='--')\n",
    "plt.plot(ts, log_betas_norm.detach() / log_betas_norm.max(), color='blue')\n",
    "plt.ylabel(\"MI\")\n",
    "plt.xlabel(\"time\")\n",
    "plt.ylim(0, 1.1)\n",
    "plt.xlim(0, 1)\n",
    "\n",
    "fig, ax = plt.subplots(1, 4, figsize=[9, 2])\n",
    "ax[0].semilogy(ts, int_ts, color='purple')\n",
    "ax[0].semilogy(ts, int_ts/rate, color='purple', ls='--')\n",
    "ax[1].semilogy(ts, alphas, color='red')\n",
    "ax[1].semilogy(ts, torch.exp(-int_ts/rate), color='red', ls='--')\n",
    "ax[2].semilogy(ts, torch.exp(log_betas), color='blue')\n",
    "ax[2].semilogy(ts, torch.exp(log_betas)/rate, color='blue', ls = '--')\n",
    "ax[3].semilogy(ts, torch.exp(log_betas)/int_ts, color='grey')\n",
    "plt.tight_layout()"
   ]
  },
  {
   "cell_type": "code",
   "execution_count": null,
   "id": "400642c1-cfd1-4ce6-a9e3-6f3a59c5adb9",
   "metadata": {},
   "outputs": [],
   "source": [
    "p0 = torch.tensor([0.0072, 0.0039, 0.0035, 0.0037, 0.0039, 0.0041, 0.0042, 0.0046, 0.0048,\n",
    "        0.0050, 0.0052, 0.0055, 0.0057, 0.0060, 0.0062, 0.0065, 0.0066, 0.0067,\n",
    "        0.0068, 0.0073, 0.0075, 0.0079, 0.0079, 0.0081, 0.0083, 0.0085, 0.0087,\n",
    "        0.0090, 0.0094, 0.0096, 0.0099, 0.0100, 0.0101, 0.0104, 0.0105, 0.0108,\n",
    "        0.0108, 0.0110, 0.0110, 0.0110, 0.0112, 0.0111, 0.0111, 0.0110, 0.0111,\n",
    "        0.0112, 0.0111, 0.0111, 0.0110, 0.0111, 0.0111, 0.0113, 0.0112, 0.0112,\n",
    "        0.0113, 0.0109, 0.0114, 0.0108, 0.0109, 0.0109, 0.0108, 0.0107, 0.0108,\n",
    "        0.0105, 0.0105, 0.0103, 0.0102, 0.0102,dd 0.0101, 0.0102, 0.0099, 0.0096,\n",
    "        0.0093, 0.0093, 0.0091, 0.0097, 0.0090, 0.0091, 0.0087, 0.0090, 0.0083,\n",
    "        0.0083, 0.0080, 0.0081, 0.0080, 0.0076, 0.0076, 0.0075, 0.0072, 0.0076,\n",
    "        0.0073, 0.0069, 0.0070, 0.0068, 0.0066, 0.0063, 0.0061, 0.0059, 0.0057,\n",
    "        0.0057, 0.0056, 0.0054, 0.0053, 0.0050, 0.0049, 0.0050, 0.0049, 0.0048,\n",
    "        0.0053, 0.0046, 0.0044, 0.0041, 0.0043, 0.0043, 0.0046, 0.0045, 0.0044,\n",
    "        0.0042, 0.0040, 0.0041, 0.0042, 0.0043, 0.0036, 0.0034, 0.0032, 0.0040,\n",
    "        0.0065, 0.0174])"
   ]
  },
  {
   "cell_type": "code",
   "execution_count": null,
   "id": "6390a443-0810-4255-9961-ff8f4c8023dc",
   "metadata": {},
   "outputs": [],
   "source": [
    "plt.plot(p0)"
   ]
  },
  {
   "cell_type": "code",
   "execution_count": null,
   "id": "9d8a4bd7-e024-41ea-a919-4e6fa1d8a9f4",
   "metadata": {},
   "outputs": [],
   "source": [
    "L, _, _ = utils.get_L_and_K(forward_kwargs, N, 0)\n",
    "# p0 = torch.randn(len(L)) ** 2\n",
    "# p0 = p0 / p0.sum()\n",
    "log_alpha, beta, mi = get_a_b_func_mi(L, p0, \"SEDD\")\n",
    "\n",
    "ts = torch.linspace(0.0001, 0.999, 1000) \n",
    "int_ts = -log_alpha(ts)\n",
    "mis = mi(int_ts)\n",
    "alphas = torch.exp(-int_ts)\n",
    "log_betas = torch.log(beta(ts))\n",
    "log_betas_norm = log_betas - log_betas.min()\n",
    "\n",
    "plt.figure(figsize=[3, 3])\n",
    "plt.plot(ts, mis.detach(), color='black')\n",
    "plt.plot(ts, alphas.detach(), color='red')\n",
    "plt.plot(ts, log_betas_norm.detach() / log_betas_norm.max(), color='blue')\n",
    "plt.ylabel(\"MI\")\n",
    "plt.xlabel(\"time\")\n",
    "plt.ylim(0, 1.1)\n",
    "plt.xlim(0, 1)\n",
    "\n",
    "fig, ax = plt.subplots(1, 4, figsize=[9, 2])\n",
    "ax[0].semilogy(ts, int_ts, color='purple')\n",
    "ax[1].semilogy(ts, alphas, color='red')\n",
    "ax[2].semilogy(ts, torch.exp(log_betas), color='blue')\n",
    "ax[3].semilogy(ts, torch.exp(log_betas)/int_ts, color='grey')\n",
    "plt.tight_layout()"
   ]
  },
  {
   "cell_type": "code",
   "execution_count": null,
   "id": "3c72d116-0703-440c-83b0-f779f188597e",
   "metadata": {},
   "outputs": [],
   "source": [
    "%timeit int_ts = -log_alpha(ts)\n"
   ]
  },
  {
   "cell_type": "code",
   "execution_count": null,
   "id": "c16b5bc0-9f60-4750-b6f2-61bf43ccefac",
   "metadata": {},
   "outputs": [],
   "source": [
    "%timeit int_ts = beta(ts)\n"
   ]
  },
  {
   "cell_type": "code",
   "execution_count": null,
   "id": "31777502-f3ec-41ff-9788-138b5a42bee2",
   "metadata": {},
   "outputs": [],
   "source": []
  }
 ],
 "metadata": {
  "kernelspec": {
   "display_name": "evodiff",
   "language": "python",
   "name": "evodiff"
  },
  "language_info": {
   "codemirror_mode": {
    "name": "ipython",
    "version": 3
   },
   "file_extension": ".py",
   "mimetype": "text/x-python",
   "name": "python",
   "nbconvert_exporter": "python",
   "pygments_lexer": "ipython3",
   "version": "3.8.5"
  }
 },
 "nbformat": 4,
 "nbformat_minor": 5
}
