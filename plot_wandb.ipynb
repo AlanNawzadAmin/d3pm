{
 "cells": [
  {
   "cell_type": "code",
   "execution_count": null,
   "id": "0a6be614-2a86-485e-9419-b9f1d8066463",
   "metadata": {},
   "outputs": [],
   "source": [
    "import wandb\n",
    "import pandas as pd\n",
    "import matplotlib.pyplot as plt\n",
    "from tqdm import tqdm\n",
    "import numpy as np\n",
    "\n",
    "wandb.init(project=\"d3pm\")\n",
    "api = wandb.Api()"
   ]
  },
  {
   "cell_type": "markdown",
   "id": "556643b7-906c-4a5b-98e8-ab4339d73ab4",
   "metadata": {},
   "source": [
    "# MNIST N=4 $\\gamma$ sweeps"
   ]
  },
  {
   "cell_type": "code",
   "execution_count": null,
   "id": "9e950a30-14f4-422b-a816-0c673fcb36b6",
   "metadata": {},
   "outputs": [],
   "source": [
    "sweep = api.sweep(\"alanamin/d3pm/vx0qgfmh\")\n",
    "runs = sweep.runs"
   ]
  },
  {
   "cell_type": "code",
   "execution_count": null,
   "id": "71cea97f-eacc-4a2d-bbad-4ade350bee06",
   "metadata": {},
   "outputs": [],
   "source": [
    "epoch = 6\n",
    "\n",
    "data = []\n",
    "for run in tqdm(runs):\n",
    "    history = run.scan_history()\n",
    "    epoch_data = [row for row in history if row.get('epoch') == epoch][-1]\n",
    "    data.append({\n",
    "        'config': run.config,\n",
    "        'summary': run.summary,\n",
    "        'metrics': epoch_data#.get('val_l01')\n",
    "    })"
   ]
  },
  {
   "cell_type": "code",
   "execution_count": null,
   "id": "4d8efbaf-26ce-482d-81aa-981e750c7490",
   "metadata": {},
   "outputs": [],
   "source": [
    "df = pd.DataFrame(data, columns=['config', 'summary', 'metrics'])\n",
    "df = pd.DataFrame({'gamma': df['config'].apply(lambda x: x['gamma']),\n",
    "                   'x_t_param': df['config'].apply(lambda x: x['model.fix_x_t_bias']),\n",
    "                   'nll': df['metrics'].apply(lambda x: x['val_l01']),\n",
    "                   'final_nll': df['metrics'].apply(lambda x: x['val_l01']),})"
   ]
  },
  {
   "cell_type": "code",
   "execution_count": null,
   "id": "a80ece2f-eb2c-42f6-8611-24bc456fb579",
   "metadata": {},
   "outputs": [],
   "source": [
    "plt.figure(figsize=[3, 3])\n",
    "plt.plot(df[df['x_t_param']==True]['gamma'], df[df['x_t_param']==True]['nll'], label='x_t param')\n",
    "plt.plot(df[df['x_t_param']==False]['gamma'], df[df['x_t_param']==False]['nll'], label='x_t-d param')\n",
    "plt.ylabel(f\"NLL per bit (epoch {epoch})\")\n",
    "plt.xlabel(\"$\\gamma$\")\n",
    "plt.legend()"
   ]
  },
  {
   "cell_type": "markdown",
   "id": "db1bac66-74d7-42b2-9b3b-69364bdec8f7",
   "metadata": {},
   "source": [
    "# MNIST N=10 $\\gamma$ sweeps"
   ]
  },
  {
   "cell_type": "code",
   "execution_count": null,
   "id": "a80dab16-24b0-4894-a183-0da1eae1546d",
   "metadata": {},
   "outputs": [],
   "source": [
    "sweep = api.sweep(\"alanamin/d3pm/q547s1vh\")\n",
    "runs = sweep.runs"
   ]
  },
  {
   "cell_type": "code",
   "execution_count": null,
   "id": "63e32718-2bde-4b7f-94f9-6285fa834925",
   "metadata": {},
   "outputs": [],
   "source": [
    "epoch = 10\n",
    "\n",
    "data = []\n",
    "for run in tqdm(runs):\n",
    "    history = run.scan_history()\n",
    "    epoch_data = [row for row in history if row.get('epoch') == epoch][-1]\n",
    "    data.append({\n",
    "        'config': run.config,\n",
    "        'summary': run.summary,\n",
    "        'metrics': epoch_data#.get('val_l01')\n",
    "    })"
   ]
  },
  {
   "cell_type": "code",
   "execution_count": null,
   "id": "6430fb8c-a281-4b2d-bc00-18689fcbea8d",
   "metadata": {},
   "outputs": [],
   "source": [
    "df = pd.DataFrame(data, columns=['config', 'summary', 'metrics'])\n",
    "df = pd.DataFrame({'gamma': df['config'].apply(lambda x: x['gamma']),\n",
    "                   'x_t_param': df['config'].apply(lambda x: x['model.fix_x_t_bias']),\n",
    "                   'nll': df['metrics'].apply(lambda x: x['val_l01']),\n",
    "                   'final_nll': df['metrics'].apply(lambda x: x['val_l01']),})"
   ]
  },
  {
   "cell_type": "code",
   "execution_count": null,
   "id": "720437e5-2245-4925-8dbc-296c45b66676",
   "metadata": {},
   "outputs": [],
   "source": [
    "plt.figure(figsize=[3, 3])\n",
    "plt.plot(df[df['x_t_param']==True]['gamma'], df[df['x_t_param']==True]['nll'], label='x_t param')\n",
    "plt.plot(df[df['x_t_param']==False]['gamma'], df[df['x_t_param']==False]['nll'], label='x_t-d param')\n",
    "plt.ylabel(f\"NLL per bit (epoch {epoch})\")\n",
    "plt.xlabel(\"$\\gamma$\")\n",
    "plt.legend()\n",
    "\n",
    "plt.figure(figsize=[3, 3])\n",
    "plt.plot(df[df['x_t_param']==True]['gamma'], df[df['x_t_param']==True]['nll'], label='x_t param')\n",
    "plt.plot(df[df['x_t_param']==False]['gamma'], df[df['x_t_param']==False]['nll'], label='x_t-d param')\n",
    "plt.ylabel(f\"NLL per bit (epoch {epoch})\")\n",
    "plt.xlabel(\"$\\gamma$\")\n",
    "plt.ylim(0.45, 0.5)\n",
    "plt.legend()"
   ]
  },
  {
   "cell_type": "markdown",
   "id": "4bc60bb6-8925-4e89-8df7-aa9050e1873e",
   "metadata": {},
   "source": [
    "MNIST seems to be a bad testground as we basically fit the data perfectly."
   ]
  },
  {
   "cell_type": "markdown",
   "id": "24b19384-7873-42bc-b833-43e7829ef6dd",
   "metadata": {},
   "source": [
    "# CIFAR $\\gamma$ sweeps"
   ]
  },
  {
   "cell_type": "markdown",
   "id": "05e9aa65-2022-4754-8670-d1c7d5992a20",
   "metadata": {},
   "source": [
    "Here I use the x_t-d param"
   ]
  },
  {
   "cell_type": "code",
   "execution_count": null,
   "id": "dfca18e7-fd8e-4784-bf81-f5c7a950d0b0",
   "metadata": {},
   "outputs": [],
   "source": [
    "sweep = api.sweep(\"alanamin/d3pm/sqb25jtc\")\n",
    "runs = sweep.runs"
   ]
  },
  {
   "cell_type": "code",
   "execution_count": null,
   "id": "310c3f0f-33c3-44d9-b21a-49bcb6d0033d",
   "metadata": {},
   "outputs": [],
   "source": [
    "epoch = 0\n",
    "\n",
    "data = []\n",
    "for run in tqdm(runs):\n",
    "    history = run.scan_history()\n",
    "    epoch_data = next((row for row in reversed(list(history)) if row.get('epoch') == epoch), None)\n",
    "    if epoch_data:\n",
    "        data.append({\n",
    "            'config': run.config,\n",
    "            'summary': run.summary,\n",
    "            'metrics': epoch_data#.get('val_l01')\n",
    "        })"
   ]
  },
  {
   "cell_type": "code",
   "execution_count": null,
   "id": "a75a0cda-af4e-4a82-85ba-4c03267da946",
   "metadata": {},
   "outputs": [],
   "source": [
    "df = pd.DataFrame(data, columns=['config', 'summary', 'metrics'])\n",
    "df = pd.DataFrame({'gamma': df['config'].apply(lambda x: x['gamma']),\n",
    "                   'train.lr': df['config'].apply(lambda x: x['train.lr']),\n",
    "                   'nll': df['metrics'].apply(lambda x: x['val_l01']),\n",
    "                   'final_nll': df['metrics'].apply(lambda x: x['val_l01']),})"
   ]
  },
  {
   "cell_type": "code",
   "execution_count": null,
   "id": "7cdbfae4-68c8-40f0-8727-10adab6f526f",
   "metadata": {},
   "outputs": [],
   "source": [
    "plt.figure(figsize=[3, 3])\n",
    "plt.plot(df[df['train.lr']==0.001]['gamma'], df[df['train.lr']==0.001]['final_nll'], label='lr=0.001')\n",
    "plt.plot(df[df['train.lr']==0.0001]['gamma'], df[df['train.lr']==0.0001]['final_nll'], label='lr=0.0001')\n",
    "plt.ylabel(f\"NLL per bit (final epoch)\")\n",
    "plt.xlabel(\"$\\gamma$\")\n",
    "plt.legend()\n",
    "plt.ylim(3.85, 4.55)"
   ]
  },
  {
   "cell_type": "markdown",
   "id": "71d8b2af-b898-4c23-886b-1710553cd91e",
   "metadata": {},
   "source": [
    "# CIFAR $\\sigma$ sweep"
   ]
  },
  {
   "cell_type": "code",
   "execution_count": null,
   "id": "d69ce94a-e78c-4b6c-babb-75f0f2f264e0",
   "metadata": {},
   "outputs": [],
   "source": [
    "sweep = api.sweep(\"alanamin/d3pm/3tfeu0us\")\n",
    "runs = sweep.runs"
   ]
  },
  {
   "cell_type": "code",
   "execution_count": null,
   "id": "7017ec18-4920-40e9-b02e-2ef223470b28",
   "metadata": {},
   "outputs": [],
   "source": [
    "epoch = 0\n",
    "\n",
    "data = []\n",
    "for run in tqdm(runs):\n",
    "    history = run.scan_history()\n",
    "    epoch_data = next((row for row in reversed(list(history)) if row.get('epoch') == epoch), None)\n",
    "    if epoch_data:\n",
    "        data.append({\n",
    "            'config': run.config,\n",
    "            'summary': run.summary,\n",
    "            'metrics': epoch_data#.get('val_l01')\n",
    "        })"
   ]
  },
  {
   "cell_type": "code",
   "execution_count": null,
   "id": "029c07d3-0416-4a2c-bcee-ccc592621a25",
   "metadata": {},
   "outputs": [],
   "source": [
    "df = pd.DataFrame(data, columns=['config', 'summary', 'metrics'])\n",
    "df = pd.DataFrame({'sigma': df['config'].apply(lambda x: x['model.forward_kwargs.bandwidth']),\n",
    "                   'normalized': df['config'].apply(lambda x: x['model.forward_kwargs.normalized']),\n",
    "                   'train.lr': df['config'].apply(lambda x: x['train.lr']),\n",
    "                   'final_nll': df['metrics'].apply(lambda x: x['val_l01']),})"
   ]
  },
  {
   "cell_type": "code",
   "execution_count": null,
   "id": "d946d113-821f-4335-b7d8-a21e26772472",
   "metadata": {},
   "outputs": [],
   "source": [
    "plt.figure(figsize=[3, 3])\n",
    "cond = np.logical_and(df['train.lr']==0.001, df['normalized']==True)\n",
    "plt.plot(df[cond]['sigma'], df[cond]['final_nll'], label='lr=0.001, normalized', color='blue')\n",
    "cond = np.logical_and(df['train.lr']==0.0001, df['normalized']==True)\n",
    "plt.plot(df[cond]['sigma'], df[cond]['final_nll'], label='lr=0.0001, normalized', color='blue', ls='--')\n",
    "cond = np.logical_and(df['train.lr']==0.001, df['normalized']==False)\n",
    "plt.plot(df[cond]['sigma'], df[cond]['final_nll'], label='lr=0.001', color='orange')\n",
    "cond = np.logical_and(df['train.lr']==0.0001, df['normalized']==False)\n",
    "plt.plot(df[cond]['sigma'], df[cond]['final_nll'], label='lr=0.0001', color='orange', ls='--')\n",
    "plt.ylabel(f\"NLL per bit (final epoch)\")\n",
    "plt.xlabel(\"$\\sigma$\")\n",
    "plt.legend()"
   ]
  },
  {
   "cell_type": "markdown",
   "id": "2789dd63-db24-4c4c-a10c-e569346603c4",
   "metadata": {},
   "source": [
    "Clear benefit to smaller bandwidths, and looks like normalization helps as well"
   ]
  },
  {
   "cell_type": "markdown",
   "id": "866c7e05-d2fa-47eb-9797-5c8fccea6f4d",
   "metadata": {},
   "source": [
    "# CIFAR parameter runs"
   ]
  },
  {
   "cell_type": "code",
   "execution_count": null,
   "id": "f0250d2a-1d9b-4ec7-803d-cb80961a6b3f",
   "metadata": {},
   "outputs": [],
   "source": [
    "sweep = api.sweep(\"alanamin/d3pm/x38oy66z\")\n",
    "runs = sweep.runs"
   ]
  },
  {
   "cell_type": "code",
   "execution_count": null,
   "id": "02f3bcce-de7a-4129-8b96-e16d5b0c2ac4",
   "metadata": {},
   "outputs": [],
   "source": [
    "epoch = 0\n",
    "\n",
    "data = []\n",
    "for run in tqdm(runs):\n",
    "    history = run.scan_history()\n",
    "    epoch_data = next((row for row in reversed(list(history)) if row.get('epoch') == epoch), None)\n",
    "    if epoch_data:\n",
    "        data.append({\n",
    "            'config': run.config,\n",
    "            'summary': run.summary,\n",
    "            'metrics': epoch_data#.get('val_l01')\n",
    "        })"
   ]
  },
  {
   "cell_type": "code",
   "execution_count": null,
   "id": "976dcf9c-d664-446e-ab2d-4af72f376e22",
   "metadata": {},
   "outputs": [],
   "source": [
    "df = pd.DataFrame(data, columns=['config', 'summary', 'metrics'])\n",
    "df = pd.DataFrame({'s_dim': df['config'].apply(lambda x: x['architecture.s_dim']),\n",
    "                   'hybrid': df['config'].apply(lambda x: x['model.hybrid_loss_coeff']),\n",
    "                   'logistic_pars': df['config'].apply(lambda x: x['model.logistic_pars']),\n",
    "                   'train.lr': df['config'].apply(lambda x: x['train.lr']),\n",
    "                   'final_nll': df['metrics'].apply(lambda x: x['val_l01']),})"
   ]
  },
  {
   "cell_type": "code",
   "execution_count": null,
   "id": "ca736092-d979-4b07-b4b1-f1991ad87bc9",
   "metadata": {},
   "outputs": [],
   "source": [
    "for lr in [0.001, 0.0001]:\n",
    "    plt.figure(figsize=[3, 3])\n",
    "    for hlc in [0.00, 0.01, 0.1]:\n",
    "        for lp in [True, False]:\n",
    "            cond = np.logical_and(np.logical_and(\n",
    "                df['train.lr']==lr, df['hybrid']==hlc), df['logistic_pars']==lp)\n",
    "            label = f'hlc={hlc},lp={lp}'\n",
    "            color = 'blue' if lp else 'orange'\n",
    "            ls = '-' if hlc==0 else ('--' if hlc==0.01 else ':')\n",
    "            plt.plot(df[cond]['s_dim'], df[cond]['final_nll'],\n",
    "                     label=label, color=color, ls=ls)\n",
    "    plt.ylabel(f\"NLL per bit (final epoch)\")\n",
    "    plt.xlabel(\"s_dim\")\n",
    "    plt.legend(loc='center left', bbox_to_anchor=(1, 0.5))\n",
    "    plt.title(f\"lr={lr}\")\n",
    "    plt.ylim(3.85, 4.25)"
   ]
  },
  {
   "cell_type": "code",
   "execution_count": null,
   "id": "7797b518-9142-45c5-b512-0342a5e9966f",
   "metadata": {},
   "outputs": [],
   "source": []
  }
 ],
 "metadata": {
  "kernelspec": {
   "display_name": "evodiff",
   "language": "python",
   "name": "evodiff"
  },
  "language_info": {
   "codemirror_mode": {
    "name": "ipython",
    "version": 3
   },
   "file_extension": ".py",
   "mimetype": "text/x-python",
   "name": "python",
   "nbconvert_exporter": "python",
   "pygments_lexer": "ipython3",
   "version": "3.8.5"
  }
 },
 "nbformat": 4,
 "nbformat_minor": 5
}
