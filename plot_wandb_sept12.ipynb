{
 "cells": [
  {
   "cell_type": "code",
   "execution_count": null,
   "id": "0a6be614-2a86-485e-9419-b9f1d8066463",
   "metadata": {},
   "outputs": [],
   "source": [
    "import wandb\n",
    "import pandas as pd\n",
    "import matplotlib.pyplot as plt\n",
    "from tqdm import tqdm\n",
    "import numpy as np\n",
    "\n",
    "wandb.init(project=\"d3pm\")\n",
    "api = wandb.Api()\n",
    "\n",
    "def split_df(df, x_axis, y_axis, cond=None):\n",
    "    if cond is not None:\n",
    "        df = df[cond]\n",
    "    dat = np.array([(s[0], np.nanmean(np.float64(s[1][y_axis])), np.nanstd(np.float64(s[1][y_axis])))\n",
    "                    for s in df.groupby(x_axis)])\n",
    "    return dat.T\n",
    "\n",
    "def load_from_dict(key):\n",
    "    def f(x):\n",
    "        try:\n",
    "            if isinstance(key, list):\n",
    "                for k in key:\n",
    "                    x = x[k]\n",
    "                return x\n",
    "            else:\n",
    "                return x[key]\n",
    "        except KeyError:\n",
    "            return np.nan\n",
    "    return f"
   ]
  },
  {
   "cell_type": "markdown",
   "id": "556643b7-906c-4a5b-98e8-ab4339d73ab4",
   "metadata": {},
   "source": [
    "# CIFAR N=4 $\\gamma$ sweeps"
   ]
  },
  {
   "cell_type": "code",
   "execution_count": null,
   "id": "9e950a30-14f4-422b-a816-0c673fcb36b6",
   "metadata": {},
   "outputs": [],
   "source": [
    "sweep = api.sweep(\"alanamin/d3pm/rqz6fqqg\")\n",
    "runs = sweep.runs"
   ]
  },
  {
   "cell_type": "code",
   "execution_count": null,
   "id": "4d8efbaf-26ce-482d-81aa-981e750c7490",
   "metadata": {},
   "outputs": [],
   "source": [
    "data = [{'config': run.config,\n",
    "        'summary': run.summary,}\n",
    "        for run in runs]\n",
    "\n",
    "df = pd.DataFrame(data, columns=['config', 'summary'])\n",
    "df = pd.DataFrame({'seed': df['config'].apply(lambda x: x['model.seed']),\n",
    "                   'gamma': df['config'].apply(lambda x: x['model.gamma']),\n",
    "                   'x_t_param': df['config'].apply(lambda x: x['model.fix_x_t_bias']),\n",
    "                   'nll': df['summary'].apply(load_from_dict('val_l01')),})"
   ]
  },
  {
   "cell_type": "code",
   "execution_count": null,
   "id": "a80ece2f-eb2c-42f6-8611-24bc456fb579",
   "metadata": {},
   "outputs": [],
   "source": [
    "plt.figure(figsize=[3, 3])\n",
    "cond = df['x_t_param']==False\n",
    "x, y, yerr = split_df(df, 'gamma', 'nll', cond)\n",
    "plt.errorbar(x, y, yerr, label='x_t-d param')\n",
    "cond = df['x_t_param']==True\n",
    "x, y, yerr = split_df(df, 'gamma', 'nll', cond)\n",
    "plt.errorbar(x, y, yerr, label='x_t param')\n",
    "plt.ylabel(f\"NLL per bit (epoch {epoch})\")\n",
    "plt.xlabel(\"$\\gamma$\")\n",
    "plt.legend()"
   ]
  },
  {
   "cell_type": "markdown",
   "id": "14058b73-2cbe-4bca-93f1-6e6c18152e96",
   "metadata": {},
   "source": [
    "# CIFAR N=8 $\\gamma$ sweeps"
   ]
  },
  {
   "cell_type": "code",
   "execution_count": null,
   "id": "203e2434-f743-4496-8314-0799c17e634f",
   "metadata": {},
   "outputs": [],
   "source": [
    "sweep = api.sweep(\"alanamin/d3pm/t44pmy1u\")\n",
    "runs = sweep.runs"
   ]
  },
  {
   "cell_type": "code",
   "execution_count": null,
   "id": "9f6cdf84-a616-4be0-8f2f-ab18f4922435",
   "metadata": {},
   "outputs": [],
   "source": [
    "data = [{'config': run.config,\n",
    "        'summary': run.summary,}\n",
    "        for run in runs]\n",
    "\n",
    "df = pd.DataFrame(data, columns=['config', 'summary'])\n",
    "df = pd.DataFrame({'seed': df['config'].apply(lambda x: x['model.seed']),\n",
    "                   'gamma': df['config'].apply(lambda x: x['model.gamma']),\n",
    "                   'nll': df['summary'].apply(load_from_dict('val_l01')),})"
   ]
  },
  {
   "cell_type": "code",
   "execution_count": null,
   "id": "e67debd5-9c8e-4ff4-9b68-ddd409f23fe4",
   "metadata": {},
   "outputs": [],
   "source": [
    "plt.figure(figsize=[3, 3])\n",
    "x, y, yerr = split_df(df, 'gamma', 'nll')\n",
    "plt.errorbar(x, y, yerr)\n",
    "plt.ylabel(f\"NLL per bit (epoch {epoch})\")\n",
    "plt.xlabel(\"$\\gamma$\")\n",
    "plt.legend()"
   ]
  },
  {
   "cell_type": "markdown",
   "id": "d340d32d-a4f0-4d5b-bb06-f488876744af",
   "metadata": {},
   "source": [
    "# CIFAR N=8 struct $\\gamma$ sweeps"
   ]
  },
  {
   "cell_type": "code",
   "execution_count": null,
   "id": "310fbbcf-5e2b-4537-8833-e101792e734d",
   "metadata": {},
   "outputs": [],
   "source": [
    "sweep = api.sweep(\"alanamin/d3pm/a8ba8kbd\")\n",
    "runs = sweep.runs"
   ]
  },
  {
   "cell_type": "code",
   "execution_count": null,
   "id": "a55f63cf-05f0-4909-8fef-1bdbfa59b3cd",
   "metadata": {},
   "outputs": [],
   "source": [
    "data = [{'config': run.config,\n",
    "        'summary': run.summary,}\n",
    "        for run in runs]\n",
    "\n",
    "df = pd.DataFrame(data, columns=['config', 'summary'])\n",
    "df = pd.DataFrame({'seed': df['config'].apply(lambda x: x['model.seed']),\n",
    "                   'gamma': df['config'].apply(lambda x: x['model.gamma']),\n",
    "                   'nll': df['summary'].apply(load_from_dict('val_l01')),})"
   ]
  },
  {
   "cell_type": "code",
   "execution_count": null,
   "id": "018e5f9f-8ec9-4e25-9f25-3dd373f3cc04",
   "metadata": {},
   "outputs": [],
   "source": [
    "plt.figure(figsize=[3, 3])\n",
    "x, y, yerr = split_df(df, 'gamma', 'nll')\n",
    "plt.errorbar(x, y, yerr)\n",
    "plt.ylabel(f\"NLL per bit (epoch {epoch})\")\n",
    "plt.xlabel(\"$\\gamma$\")\n",
    "plt.legend()"
   ]
  },
  {
   "cell_type": "markdown",
   "id": "24b19384-7873-42bc-b833-43e7829ef6dd",
   "metadata": {},
   "source": [
    "# CIFAR N=128 $\\gamma$ sweeps"
   ]
  },
  {
   "cell_type": "code",
   "execution_count": null,
   "id": "74d0ab77-f121-4517-a757-5412eda09a2a",
   "metadata": {},
   "outputs": [],
   "source": [
    "sweep = api.sweep(\"alanamin/d3pm/29h93dqv\")\n",
    "runs = sweep.runs"
   ]
  },
  {
   "cell_type": "code",
   "execution_count": null,
   "id": "99a2feee-dfad-40c9-9942-a709ee602b4e",
   "metadata": {},
   "outputs": [],
   "source": [
    "data = [{'config': run.config,\n",
    "        'summary': run.summary,}\n",
    "        for run in runs]\n",
    "\n",
    "df = pd.DataFrame(data, columns=['config', 'summary'])\n",
    "df = pd.DataFrame({'seed': df['config'].apply(lambda x: x['model.seed']),\n",
    "                   'gamma': df['config'].apply(lambda x: x['model.gamma']),\n",
    "                   'nll': df['summary'].apply(load_from_dict('val_l01')),})"
   ]
  },
  {
   "cell_type": "code",
   "execution_count": null,
   "id": "f0961efc-f96d-4a92-a89c-9c555b59a269",
   "metadata": {},
   "outputs": [],
   "source": [
    "plt.figure(figsize=[3, 3])\n",
    "x, y, yerr = split_df(df, 'gamma', 'nll')\n",
    "plt.errorbar(x, y, yerr)\n",
    "plt.ylabel(f\"NLL per bit (epoch {epoch})\")\n",
    "plt.xlabel(\"$\\gamma$\")\n",
    "plt.legend()"
   ]
  },
  {
   "cell_type": "markdown",
   "id": "71d8b2af-b898-4c23-886b-1710553cd91e",
   "metadata": {},
   "source": [
    "# CIFAR $\\sigma$ sweep"
   ]
  },
  {
   "cell_type": "code",
   "execution_count": null,
   "id": "3a783e44-136a-4124-ba09-8bfbf556df37",
   "metadata": {},
   "outputs": [],
   "source": [
    "sweep = api.sweep(\"alanamin/d3pm/mguwxwxd\")\n",
    "runs = sweep.runs"
   ]
  },
  {
   "cell_type": "code",
   "execution_count": null,
   "id": "f4ed2e24-0c87-4e61-ab42-c19cea48ffa0",
   "metadata": {},
   "outputs": [],
   "source": [
    "data = [{'config': run.config,\n",
    "        'summary': run.summary,}\n",
    "        for run in runs]\n",
    "\n",
    "df = pd.DataFrame(data, columns=['config', 'summary'])\n",
    "df = pd.DataFrame({'seed': df['config'].apply(lambda x: x['model.seed']),\n",
    "                   'sigma': df['config'].apply(load_from_dict(['forward_kwargs', 'bandwidth'])),\n",
    "                   'normalized': df['config'].apply(load_from_dict(['forward_kwargs', 'normalized'])),\n",
    "                   'nll': df['summary'].apply(load_from_dict('val_l01')),\n",
    "                   'kl1': (df['summary'].apply(load_from_dict('val_l01'))\n",
    "                           +df['summary'].apply(load_from_dict('val_l1'))),})"
   ]
  },
  {
   "cell_type": "code",
   "execution_count": null,
   "id": "c0845159-4aac-4613-89a9-d4ec5e341ca7",
   "metadata": {},
   "outputs": [],
   "source": [
    "plt.figure(figsize=[3, 3])\n",
    "cond = df['normalized']==True\n",
    "x, y, yerr = split_df(df, 'sigma', 'nll', cond)\n",
    "plt.errorbar(x, y, yerr, label='Normalized')\n",
    "cond = df['normalized']==False\n",
    "x, y, yerr = split_df(df, 'sigma', 'nll', cond)\n",
    "plt.errorbar(x, y, yerr, label='Not normalized')\n",
    "plt.ylabel(f\"NLL per bit (epoch {epoch})\")\n",
    "plt.xlabel(\"$\\gamma$\")\n",
    "plt.legend()\n",
    "\n",
    "plt.figure(figsize=[3, 3])\n",
    "cond = df['normalized']==True\n",
    "x, y, yerr = split_df(df, 'sigma', 'kl1', cond)\n",
    "plt.errorbar(x, y, yerr, label='Normalized')\n",
    "cond = df['normalized']==False\n",
    "x, y, yerr = split_df(df, 'sigma', 'kl1', cond)\n",
    "plt.errorbar(x, y, yerr, label='Not normalized')\n",
    "plt.ylabel(f\"NLL per bit (epoch {epoch})\")\n",
    "plt.xlabel(\"$\\gamma$\")\n",
    "plt.legend()"
   ]
  },
  {
   "cell_type": "markdown",
   "id": "866c7e05-d2fa-47eb-9797-5c8fccea6f4d",
   "metadata": {},
   "source": [
    "# CIFAR parameter runs"
   ]
  },
  {
   "cell_type": "code",
   "execution_count": null,
   "id": "f0250d2a-1d9b-4ec7-803d-cb80961a6b3f",
   "metadata": {},
   "outputs": [],
   "source": [
    "sweep = api.sweep(\"alanamin/d3pm/83mp27zv\")\n",
    "runs = sweep.runs"
   ]
  },
  {
   "cell_type": "code",
   "execution_count": null,
   "id": "02f3bcce-de7a-4129-8b96-e16d5b0c2ac4",
   "metadata": {},
   "outputs": [],
   "source": [
    "data = [{'config': run.config,\n",
    "        'summary': run.summary,}\n",
    "        for run in runs]\n",
    "\n",
    "df = pd.DataFrame(data, columns=['config', 'summary'])\n",
    "df = pd.DataFrame({'seed': df['config'].apply(lambda x: x['model.seed']),\n",
    "                   't_emb': df['config'].apply(load_from_dict(['nn_params', 'time_embed_dim'])),\n",
    "                   's_dim': df['config'].apply(load_from_dict(['nn_params', 's_dim'])),\n",
    "                   'hybrid': df['config'].apply(load_from_dict('hybrid_loss_coeff')),\n",
    "                   'logistic_pars': df['config'].apply(load_from_dict('logistic_pars')),\n",
    "                   'nll': df['summary'].apply(load_from_dict('val_l01')),})"
   ]
  },
  {
   "cell_type": "code",
   "execution_count": null,
   "id": "ca736092-d979-4b07-b4b1-f1991ad87bc9",
   "metadata": {},
   "outputs": [],
   "source": [
    "for hlc in [0.00, 0.01, 0.1]:\n",
    "    # plt.figure(figsize=[3, 3])\n",
    "    for temb in [0, 128]:\n",
    "        for lp in [True, False]:\n",
    "            cond = np.logical_and(np.logical_and(\n",
    "                df['t_emb']==temb, df['hybrid']==hlc), df['logistic_pars']==lp)\n",
    "            label = f'temb={temb},lp={lp},hlc={hlc}'\n",
    "            alpha = 0.1 if hlc == 0.1 else ( 0.5 if hlc==0.01 else 1)\n",
    "            color = 'blue' if lp else 'orange'\n",
    "            ls = '-' if temb==0 else '--'\n",
    "            x, y, yerr = split_df(df, 's_dim', 'nll', cond)\n",
    "            plt.errorbar(x, y, yerr, alpha=alpha,\n",
    "                         label=label, color=color, ls=ls)\n",
    "            plt.semilogx()\n",
    "    plt.ylabel(f\"NLL per bit (final epoch)\")\n",
    "    plt.xlabel(\"s_dim\")\n",
    "    plt.legend(loc='center left', bbox_to_anchor=(1, 0.5))\n",
    "    plt.title(f\"hlc={hlc}\")\n",
    "    plt.ylim(2.04, 2.17)"
   ]
  },
  {
   "cell_type": "markdown",
   "id": "dab13c62-bccf-4157-b179-070e1d98853a",
   "metadata": {},
   "source": [
    "Overall: CIFAR n=4 doesn't look good but that's with the wrong param. CIFAR N=8 is still not done, **I'll need to accelerate both of these and get the comparison to SEDD and masking asap**.\n",
    "CIFAR n=4 with big sdim also failed, **will need to debug.**\n",
    "*then we can say we do better than masking and interpolate between SEDD and masking.*\n",
    "\n",
    "N=128 and structure sweeps worked and look as expected, **but I need to get SEDD comparison working**. *Then we can say adding transition info helps*\n",
    "\n",
    "sigma sweep looks very strange we're doing bad. Is this because I changed schedule? **Will look at D3PM and change schedule if needed.** *then we can say structure helps*\n",
    "\n",
    "Say when not using lp, nothing makes a big difference, but when using lp and with small hybrid loss, a bigger s_dim helps. Will continue running and run anything new at sdim 128. **I'll run a smaller scan dropping the hybrid, and testing 64 and 128 sdim.**"
   ]
  },
  {
   "cell_type": "code",
   "execution_count": null,
   "id": "665b7ad7-1c83-4ac9-baaa-cf04be3dc7a1",
   "metadata": {},
   "outputs": [],
   "source": []
  }
 ],
 "metadata": {
  "kernelspec": {
   "display_name": "evodiff",
   "language": "python",
   "name": "evodiff"
  },
  "language_info": {
   "codemirror_mode": {
    "name": "ipython",
    "version": 3
   },
   "file_extension": ".py",
   "mimetype": "text/x-python",
   "name": "python",
   "nbconvert_exporter": "python",
   "pygments_lexer": "ipython3",
   "version": "3.10.12"
  }
 },
 "nbformat": 4,
 "nbformat_minor": 5
}
