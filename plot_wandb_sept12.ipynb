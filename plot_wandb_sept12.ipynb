{
 "cells": [
  {
   "cell_type": "code",
   "execution_count": null,
   "id": "0a6be614-2a86-485e-9419-b9f1d8066463",
   "metadata": {},
   "outputs": [],
   "source": [
    "import wandb\n",
    "import pandas as pd\n",
    "import matplotlib.pyplot as plt\n",
    "from tqdm import tqdm\n",
    "import numpy as np\n",
    "\n",
    "wandb.init(project=\"d3pm\")\n",
    "api = wandb.Api()\n",
    "\n",
    "def split_df(df, x_axis, y_axis, cond=None, median=False):\n",
    "    if cond is not None:\n",
    "        df = df[cond]\n",
    "    y = lambda s: (np.nanmean(np.float64(s[1][y_axis])) if not median else\n",
    "         np.nanmedian(np.float64(s[1][y_axis])))\n",
    "    dat = np.array([(s[0], y(s), np.nanstd(np.float64(s[1][y_axis])))\n",
    "                    for s in df.groupby(x_axis)])\n",
    "    return dat.T\n",
    "\n",
    "def load_from_dict(key):\n",
    "    def f(x):\n",
    "        try:\n",
    "            if isinstance(key, list):\n",
    "                for k in key:\n",
    "                    x = x[k]\n",
    "                return x\n",
    "            else:\n",
    "                return x[key]\n",
    "        except KeyError:\n",
    "            return np.nan\n",
    "    return f\n",
    "\n",
    "def geq(x, y):\n",
    "    if x is None:\n",
    "        return False\n",
    "    else:\n",
    "        return x >= y"
   ]
  },
  {
   "cell_type": "code",
   "execution_count": null,
   "id": "d8d5ade5-99cb-4221-895e-da8173a29b0d",
   "metadata": {},
   "outputs": [],
   "source": [
    "def load_data(runs, average_n_ep=4):\n",
    "    data = []\n",
    "    for run in tqdm(runs):\n",
    "        history = run.scan_history()\n",
    "        epoch_data = [row for row in history\n",
    "                      if (geq(row.get('epoch'), run.config['n_epoch']-average_n_ep)\n",
    "                          and row.get('val_l01') is not None)]\n",
    "        if epoch_data:\n",
    "            average_dict = {key: np.mean([d[key] for d in epoch_data if key in d if isinstance(d[key], float)])\n",
    "                            for key in set().union(*epoch_data)}\n",
    "            data.append({\n",
    "                'config': run.config,\n",
    "                'summary': run.summary,\n",
    "                'metrics': average_dict\n",
    "            })\n",
    "    return data"
   ]
  },
  {
   "cell_type": "markdown",
   "id": "556643b7-906c-4a5b-98e8-ab4339d73ab4",
   "metadata": {},
   "source": [
    "<!-- # CIFAR N=4 $\\gamma$ sweeps -->"
   ]
  },
  {
   "cell_type": "code",
   "execution_count": null,
   "id": "9e950a30-14f4-422b-a816-0c673fcb36b6",
   "metadata": {},
   "outputs": [],
   "source": [
    "sweep_1 = api.sweep(\"alanamin/d3pm/rqz6fqqg\")\n",
    "runs_1 = sweep_1.runs\n",
    "\n",
    "# use logparse, larger sdim, better schedule\n",
    "sweep_2 = api.sweep(\"alanamin/d3pm/6hzm5l3w\")\n",
    "runs_2 = sweep_2.runs\n",
    "\n",
    "# use film, u_inject\n",
    "sweep_3 = api.sweep(\"alanamin/d3pm/jltfpmv3\")\n",
    "runs_3 = sweep_3.runs\n",
    "\n",
    "# use film, u_inject\n",
    "sweep_3_xtd = api.sweep(\"alanamin/d3pm/7ki50x5s\")\n",
    "runs_3_xtd = sweep_3_xtd.runs\n",
    "\n",
    "# try 1:bas2ns4k, try 3:wjs4rx72\n",
    "sweep_baseline = api.sweep(\"alanamin/d3pm/wjs4rx72\") # try 1\n",
    "runs_baseline = sweep_baseline.runs"
   ]
  },
  {
   "cell_type": "code",
   "execution_count": null,
   "id": "4d8efbaf-26ce-482d-81aa-981e750c7490",
   "metadata": {},
   "outputs": [],
   "source": [
    "data_1 = load_data(runs_1, 4)\n",
    "data_2 = load_data(runs_2, 4)\n",
    "data_3 = load_data(runs_3, 4)\n",
    "data_3_xtd = load_data(runs_3_xtd, 4)\n",
    "data_baseline = load_data(runs_baseline, 4)\n",
    "\n",
    "df = pd.DataFrame(data_1, columns=['config', 'summary', 'metrics'])\n",
    "df_1 = pd.DataFrame({'seed': df['config'].apply(lambda x: x['model.seed']),\n",
    "                   'gamma': df['config'].apply(lambda x: x['model.gamma']),\n",
    "                   'x_t_param': df['config'].apply(lambda x: x['model.fix_x_t_bias']),\n",
    "                   'nll': df['metrics'].apply(load_from_dict('val_l01')),})\n",
    "\n",
    "df = pd.DataFrame(data_2, columns=['config', 'summary', 'metrics'])\n",
    "df_2 = pd.DataFrame({'seed': df['config'].apply(lambda x: x['model.seed']),\n",
    "                   'gamma': df['config'].apply(lambda x: x['model.gamma']),\n",
    "                   'nll': df['metrics'].apply(load_from_dict('val_l01')),})\n",
    "\n",
    "df = pd.DataFrame(data_3, columns=['config', 'summary', 'metrics'])\n",
    "df_3 = pd.DataFrame({'seed': df['config'].apply(lambda x: x['model.seed']),\n",
    "                   'gamma': df['config'].apply(lambda x: x['model.gamma']),\n",
    "                   'nll': df['metrics'].apply(load_from_dict('val_l01')),})\n",
    "\n",
    "df = pd.DataFrame(data_3_xtd, columns=['config', 'summary', 'metrics'])\n",
    "df_3_xtd = pd.DataFrame({'seed': df['config'].apply(lambda x: x['model.seed']),\n",
    "                   'gamma': df['config'].apply(lambda x: x['model.gamma']),\n",
    "                   'nll': df['metrics'].apply(load_from_dict('val_l01')),})\n",
    "\n",
    "df_bl = pd.DataFrame(data_baseline, columns=['config', 'summary', 'metrics'])\n",
    "df_bl = pd.DataFrame({'seed': df_bl['config'].apply(lambda x: x['model.seed']),\n",
    "                            'model': df_bl['config'].apply(lambda x: x['model.model']),\n",
    "                            'nll': df_bl['metrics'].apply(load_from_dict('val_l01')),})"
   ]
  },
  {
   "cell_type": "code",
   "execution_count": null,
   "id": "a80ece2f-eb2c-42f6-8611-24bc456fb579",
   "metadata": {},
   "outputs": [],
   "source": [
    "plt.figure(figsize=[3, 3])\n",
    "cond = df_1['x_t_param']==False\n",
    "x, y, yerr = split_df(df_1, 'gamma', 'nll', cond)\n",
    "plt.errorbar(x, y, yerr, label='x_t-d param, try=1', color='blue')\n",
    "cond = df_1['x_t_param']==True\n",
    "x, y, yerr = split_df(df_1, 'gamma', 'nll', cond)\n",
    "plt.errorbar(x, y, yerr, label='x_t param, try=1', color='blue', ls='--')\n",
    "x, y, yerr = split_df(df_2, 'gamma', 'nll')\n",
    "plt.errorbar(x, y, yerr, label='try=2', color='green')\n",
    "x, y, yerr = split_df(df_3, 'gamma', 'nll')\n",
    "plt.errorbar(x, y, yerr, label='x_t-d param, try=3', color='red')\n",
    "x, y, yerr = split_df(df_3_xtd, 'gamma', 'nll')\n",
    "plt.errorbar(x, y, yerr, label='x_t param, try=3', color='red', ls='--')\n",
    "x, y, yerr = split_df(df_bl, 'model', 'nll')\n",
    "plt.errorbar([1], y[x=='SEDD'].astype(float), yerr[x=='SEDD'].astype(float), label='SEDD', color='black')\n",
    "plt.errorbar([1/4], y[x=='MaskingDiffusion'].astype(float), yerr[x=='MaskingDiffusion'].astype(float), label='MD', color='black')\n",
    "plt.ylabel(f\"NLL per bit\")\n",
    "plt.xlabel(\"$\\gamma$\")\n",
    "plt.legend(loc='center left', bbox_to_anchor=(1, 0.5))"
   ]
  },
  {
   "cell_type": "markdown",
   "id": "86165047-8b83-401f-9218-08d22467c78f",
   "metadata": {},
   "source": [
    "Seems we are now Asymptoting to SEDD -- great!\n",
    "Seems adding unet helped out further away from uniform.\n",
    "I'm now rerunning SEDD and try 1 to finish them off.\n",
    "\n",
    "- Worrying try 2 did worse than try 1! How did this happen? Did the schedule mess things up?\n",
    "\n",
    "  \n",
    "  It's because we optimized for large N\n",
    "  \n",
    "- Also why is $x_t$ param is doing better! probably because of adding one-hot! Just noticed we're not doing logistic parse! One more try!\n"
   ]
  },
  {
   "cell_type": "markdown",
   "id": "14058b73-2cbe-4bca-93f1-6e6c18152e96",
   "metadata": {},
   "source": [
    "# CIFAR N=8 $\\gamma$ sweeps"
   ]
  },
  {
   "cell_type": "code",
   "execution_count": null,
   "id": "203e2434-f743-4496-8314-0799c17e634f",
   "metadata": {},
   "outputs": [],
   "source": [
    "sweep_1 = api.sweep(\"alanamin/d3pm/t44pmy1u\")\n",
    "runs_1 = sweep_1.runs\n",
    "sweep_2 = api.sweep(\"alanamin/d3pm/l0giaov0\")\n",
    "runs_2 = sweep_2.runs\n",
    "sweep_3 = api.sweep(\"alanamin/d3pm/b9kpcexa\")\n",
    "runs_3 = sweep_3.runs\n",
    "\n",
    "# try 1:54s5x1dd, try 3:q3syz2ac\n",
    "sweep_baseline = api.sweep(\"alanamin/d3pm/q3syz2ac\") \n",
    "runs_baseline = sweep_baseline.runs"
   ]
  },
  {
   "cell_type": "code",
   "execution_count": null,
   "id": "9f6cdf84-a616-4be0-8f2f-ab18f4922435",
   "metadata": {},
   "outputs": [],
   "source": [
    "data_1 = load_data(runs_1, 4)\n",
    "data_2 = load_data(runs_2, 4)\n",
    "data_3 = load_data(runs_3, 4)\n",
    "data_baseline = load_data(runs_baseline, 4)\n",
    "\n",
    "df = pd.DataFrame(data_1, columns=['config', 'summary', 'metrics'])\n",
    "df_1 = pd.DataFrame({'seed': df['config'].apply(lambda x: x['model.seed']),\n",
    "                   'gamma': df['config'].apply(lambda x: x['model.gamma']),\n",
    "                   'nll': df['metrics'].apply(load_from_dict('val_l01')),})\n",
    "\n",
    "df = pd.DataFrame(data_2, columns=['config', 'summary', 'metrics'])\n",
    "df_2 = pd.DataFrame({'seed': df['config'].apply(lambda x: x['model.seed']),\n",
    "                   'gamma': df['config'].apply(lambda x: x['model.gamma']),\n",
    "                   'nll': df['metrics'].apply(load_from_dict('val_l01')),})\n",
    "df = pd.DataFrame(data_3, columns=['config', 'summary', 'metrics'])\n",
    "df_3 = pd.DataFrame({'seed': df['config'].apply(lambda x: x['model.seed']),\n",
    "                   'gamma': df['config'].apply(lambda x: x['model.gamma']),\n",
    "                   'nll': df['metrics'].apply(load_from_dict('val_l01')),})\n",
    "\n",
    "df_bl = pd.DataFrame(data_baseline, columns=['config', 'summary', 'metrics'])\n",
    "df_bl = pd.DataFrame({'seed': df_bl['config'].apply(lambda x: x['model.seed']),\n",
    "                            'model': df_bl['config'].apply(lambda x: x['model.model']),\n",
    "                            'nll': df_bl['metrics'].apply(load_from_dict('val_l01')),})"
   ]
  },
  {
   "cell_type": "code",
   "execution_count": null,
   "id": "e67debd5-9c8e-4ff4-9b68-ddd409f23fe4",
   "metadata": {},
   "outputs": [],
   "source": [
    "plt.figure(figsize=[3, 3])\n",
    "x, y, yerr = split_df(df_1, 'gamma', 'nll')\n",
    "plt.errorbar(x, y, yerr, label=\"try=1\")\n",
    "x, y, yerr = split_df(df_2, 'gamma', 'nll')\n",
    "plt.errorbar(x, y, yerr, label=\"try=2\", color='green')\n",
    "x, y, yerr = split_df(df_3, 'gamma', 'nll')\n",
    "plt.errorbar(x, y, yerr, label=\"try=3\", color='red')\n",
    "x, y, yerr = split_df(df_bl, 'model', 'nll')\n",
    "plt.errorbar([1], y[x=='SEDD'].astype(float), yerr[x=='SEDD'].astype(float), label='SEDD', color='black')\n",
    "plt.errorbar([1/8], y[x=='MaskingDiffusion'].astype(float), yerr[x=='MaskingDiffusion'].astype(float), label='MD', color='black')\n",
    "plt.ylabel(f\"NLL per bit\")\n",
    "plt.xlabel(\"$\\gamma$\")\n",
    "plt.legend(loc='center left', bbox_to_anchor=(1, 0.5))"
   ]
  },
  {
   "cell_type": "markdown",
   "id": "d340d32d-a4f0-4d5b-bb06-f488876744af",
   "metadata": {},
   "source": [
    "# CIFAR N=8 struct $\\gamma$ sweeps"
   ]
  },
  {
   "cell_type": "code",
   "execution_count": null,
   "id": "310fbbcf-5e2b-4537-8833-e101792e734d",
   "metadata": {},
   "outputs": [],
   "source": [
    "sweep_1 = api.sweep(\"alanamin/d3pm/a8ba8kbd\")\n",
    "runs_1 = sweep_1.runs\n",
    "sweep_3 = api.sweep(\"alanamin/d3pm/bo0tuxvi\")\n",
    "runs_3 = sweep_3.runs\n",
    "\n",
    "sweep_baseline = api.sweep(\"alanamin/d3pm/ibfzma6j\") # try 1\n",
    "runs_baseline = sweep_baseline.runs"
   ]
  },
  {
   "cell_type": "code",
   "execution_count": null,
   "id": "a55f63cf-05f0-4909-8fef-1bdbfa59b3cd",
   "metadata": {},
   "outputs": [],
   "source": [
    "data_1 = load_data(runs_1, 4)\n",
    "data_3 = load_data(runs_3, 4)\n",
    "data_baseline = load_data(runs_baseline, 4)\n",
    "\n",
    "df = pd.DataFrame(data_1, columns=['config', 'summary', 'metrics'])\n",
    "df_1 = pd.DataFrame({'seed': df['config'].apply(lambda x: x['model.seed']),\n",
    "                   'gamma': df['config'].apply(lambda x: x['model.gamma']),\n",
    "                   'nll': df['metrics'].apply(load_from_dict('val_l01')),})\n",
    "df = pd.DataFrame(data_3, columns=['config', 'summary', 'metrics'])\n",
    "df_3 = pd.DataFrame({'seed': df['config'].apply(lambda x: x['model.seed']),\n",
    "                   'gamma': df['config'].apply(lambda x: x['model.gamma']),\n",
    "                   'nll': df['metrics'].apply(load_from_dict('val_l01')),})\n",
    "\n",
    "df_bl = pd.DataFrame(data_baseline, columns=['config', 'summary', 'metrics'])\n",
    "df_bl = pd.DataFrame({'seed': df_bl['config'].apply(lambda x: x['model.seed']),\n",
    "                            'model': df_bl['config'].apply(lambda x: x['model.model']),\n",
    "                            'nll': df_bl['metrics'].apply(load_from_dict('val_l01')),})"
   ]
  },
  {
   "cell_type": "code",
   "execution_count": null,
   "id": "018e5f9f-8ec9-4e25-9f25-3dd373f3cc04",
   "metadata": {},
   "outputs": [],
   "source": [
    "plt.figure(figsize=[3, 3])\n",
    "x, y, yerr = split_df(df_1, 'gamma', 'nll')\n",
    "plt.errorbar(x, y, yerr, label=\"try=1\")\n",
    "x, y, yerr = split_df(df_3, 'gamma', 'nll')\n",
    "plt.errorbar(x, y, yerr, label=\"try=3\", color='red')\n",
    "x, y, yerr = split_df(df_bl, 'model', 'nll')\n",
    "plt.errorbar([1], y[x=='SEDD'].astype(float), yerr[x=='SEDD'].astype(float), label='SEDD', color='black')\n",
    "plt.errorbar([1/8], y[x=='MaskingDiffusion'].astype(float), yerr[x=='MaskingDiffusion'].astype(float), label='MD', color='black')\n",
    "plt.ylabel(f\"NLL per bit\")\n",
    "plt.xlabel(\"$\\gamma$\")\n",
    "plt.legend()"
   ]
  },
  {
   "cell_type": "markdown",
   "id": "2a640d04-a028-48e6-bb03-ac5782961b16",
   "metadata": {},
   "source": [
    "- Wait for try 3 to finish and rerun baselines!"
   ]
  },
  {
   "cell_type": "markdown",
   "id": "24b19384-7873-42bc-b833-43e7829ef6dd",
   "metadata": {},
   "source": [
    "# CIFAR N=128 $\\gamma$ sweeps"
   ]
  },
  {
   "cell_type": "code",
   "execution_count": null,
   "id": "74d0ab77-f121-4517-a757-5412eda09a2a",
   "metadata": {},
   "outputs": [],
   "source": [
    "sweep_1 = api.sweep(\"alanamin/d3pm/29h93dqv\")\n",
    "runs_1 = sweep_1.runs\n",
    "\n",
    "sweep_2 = api.sweep(\"alanamin/d3pm/sv64n8bg\")\n",
    "runs_2 = sweep_2.runs\n",
    "\n",
    "sweep_3 = api.sweep(\"alanamin/d3pm/n2ef9nsf\")\n",
    "runs_3 = sweep_3.runs\n",
    "\n",
    "# try 2: 2sbnuj6j, try 3:\n",
    "sweep_bl = api.sweep(\"alanamin/d3pm/2sbnuj6j\")\n",
    "runs_bl = sweep_bl.runs"
   ]
  },
  {
   "cell_type": "code",
   "execution_count": null,
   "id": "99a2feee-dfad-40c9-9942-a709ee602b4e",
   "metadata": {},
   "outputs": [],
   "source": [
    "data_1 = load_data(runs_1, 4)\n",
    "data_2 = load_data(runs_2, 4)\n",
    "data_3 = load_data(runs_3, 4)\n",
    "data_baseline = load_data(runs_bl, 4)\n",
    "\n",
    "df = pd.DataFrame(data_1, columns=['config', 'summary', 'metrics'])\n",
    "df_1 = pd.DataFrame({'seed': df['config'].apply(lambda x: x['model.seed']),\n",
    "                   'gamma': df['config'].apply(lambda x: x['model.gamma']),\n",
    "                   'nll': df['metrics'].apply(load_from_dict('val_l01')),})\n",
    "df = pd.DataFrame(data_2, columns=['config', 'summary', 'metrics'])\n",
    "df_2 = pd.DataFrame({'seed': df['config'].apply(lambda x: x['model.seed']),\n",
    "                   'gamma': df['config'].apply(lambda x: x['model.gamma']),\n",
    "                   'nll': df['metrics'].apply(load_from_dict('val_l01')),})\n",
    "\n",
    "df = pd.DataFrame(data_3, columns=['config', 'summary', 'metrics'])\n",
    "df_3 = pd.DataFrame({'seed': df['config'].apply(lambda x: x['model.seed']),\n",
    "                   'gamma': df['config'].apply(lambda x: x['model.gamma']),\n",
    "                   'nll': df['metrics'].apply(load_from_dict('val_l01')),})\n",
    "\n",
    "df_bl = pd.DataFrame(data_baseline, columns=['config', 'summary', 'metrics'])\n",
    "df_bl = pd.DataFrame({'seed': df_bl['config'].apply(lambda x: x['model.seed']),\n",
    "                            'model': df_bl['config'].apply(lambda x: x['model.model']),\n",
    "                            'nll': df_bl['metrics'].apply(load_from_dict('val_l01')),})"
   ]
  },
  {
   "cell_type": "code",
   "execution_count": null,
   "id": "f0961efc-f96d-4a92-a89c-9c555b59a269",
   "metadata": {},
   "outputs": [],
   "source": [
    "plt.figure(figsize=[3, 3])\n",
    "x, y, yerr = split_df(df_1, 'gamma', 'nll')\n",
    "plt.errorbar(x, y, yerr, label=\"try=2\")\n",
    "x, y, yerr = split_df(df_2, 'gamma', 'nll')\n",
    "plt.errorbar(x, y, yerr, label=\"try=2\", color='green')\n",
    "x, y, yerr = split_df(df_3, 'gamma', 'nll')\n",
    "plt.errorbar(x, y, yerr, label=\"try=3\", color='red')\n",
    "x, y, yerr = split_df(df_bl, 'model', 'nll')\n",
    "plt.errorbar([1], y[x=='SEDD'].astype(float), yerr[x=='SEDD'].astype(float), label='SEDD', color='black')\n",
    "plt.errorbar([1/128], y[x=='MaskingDiffusion'].astype(float), yerr[x=='MaskingDiffusion'].astype(float), label='MD', color='black')\n",
    "plt.ylabel(f\"NLL per bit\")\n",
    "plt.xlabel(\"$\\gamma$\")\n",
    "plt.legend(loc='center left', bbox_to_anchor=(1, 0.5))"
   ]
  },
  {
   "cell_type": "markdown",
   "id": "71d8b2af-b898-4c23-886b-1710553cd91e",
   "metadata": {},
   "source": [
    "# CIFAR $\\sigma$ sweep"
   ]
  },
  {
   "cell_type": "code",
   "execution_count": null,
   "id": "3a783e44-136a-4124-ba09-8bfbf556df37",
   "metadata": {},
   "outputs": [],
   "source": [
    "sweep_1 = api.sweep(\"alanamin/d3pm/mguwxwxd\")\n",
    "runs_1 = sweep_1.runs\n",
    "\n",
    "sweep_2 = api.sweep(\"alanamin/d3pm/n8fzi4h1\")\n",
    "runs_2 = sweep_2.runs\n",
    "\n",
    "sweep_3 = api.sweep(\"alanamin/d3pm/q2q5qwv5\")\n",
    "runs_3 = sweep_3.runs\n",
    "\n",
    "sweep_bl = api.sweep(\"alanamin/d3pm/h0tee18u\")\n",
    "runs_bl = sweep_bl.runs\n",
    "\n"
   ]
  },
  {
   "cell_type": "code",
   "execution_count": null,
   "id": "4a9f0db0-afbc-470b-856c-050a0a67b503",
   "metadata": {},
   "outputs": [],
   "source": [
    "data_1 = load_data(runs_1, 4)\n",
    "data_2 = load_data(runs_2, 4)\n",
    "data_3 = load_data(runs_3, 4)\n",
    "data_bl = load_data(runs_bl, 4)\n",
    "\n",
    "df = pd.DataFrame(data_1, columns=['config', 'summary', 'metrics'])\n",
    "df_1 = pd.DataFrame({'seed': df['config'].apply(lambda x: x['model.seed']),\n",
    "                   'sigma': df['config'].apply(load_from_dict(['forward_kwargs', 'bandwidth'])),\n",
    "                   'normalized': df['config'].apply(load_from_dict(['forward_kwargs', 'normalized'])),\n",
    "                   'nll': df['metrics'].apply(load_from_dict('val_l01')),\n",
    "                   'kl1': (df['metrics'].apply(load_from_dict('val_l01'))\n",
    "                           +df['metrics'].apply(load_from_dict('val_l1'))),})\n",
    "df = pd.DataFrame(data_2, columns=['config', 'summary', 'metrics'])\n",
    "df_2 = pd.DataFrame({'seed': df['config'].apply(lambda x: x['model.seed']),\n",
    "                   'sigma': df['config'].apply(load_from_dict(['forward_kwargs', 'bandwidth'])),\n",
    "                   'normalized': df['config'].apply(load_from_dict(['forward_kwargs', 'normalized'])),\n",
    "                   'nll': df['metrics'].apply(load_from_dict('val_l01')),\n",
    "                   'kl1': (df['metrics'].apply(load_from_dict('val_l01'))\n",
    "                           +df['metrics'].apply(load_from_dict('val_l1'))),})\n",
    "df = pd.DataFrame(data_3, columns=['config', 'summary', 'metrics'])\n",
    "df_3 = pd.DataFrame({'seed': df['config'].apply(lambda x: x['model.seed']),\n",
    "                   'sigma': df['config'].apply(load_from_dict(['forward_kwargs', 'bandwidth'])),\n",
    "                   'normalized': df['config'].apply(load_from_dict(['forward_kwargs', 'normalized'])),\n",
    "                   'nll': df['metrics'].apply(load_from_dict('val_l01')),\n",
    "                   'kl1': (df['metrics'].apply(load_from_dict('val_l01'))\n",
    "                           +df['metrics'].apply(load_from_dict('val_l1'))),})\n",
    "df = pd.DataFrame(data_bl, columns=['config', 'summary', 'metrics'])\n",
    "df_bl = pd.DataFrame({'seed': df['config'].apply(lambda x: x['model.seed']),\n",
    "                   'sigma': df['config'].apply(load_from_dict(['forward_kwargs', 'bandwidth'])),\n",
    "                   'normalized': df['config'].apply(load_from_dict(['forward_kwargs', 'normalized'])),\n",
    "                   'nll': df['metrics'].apply(load_from_dict('val_l01')),\n",
    "                   'kl1': (df['metrics'].apply(load_from_dict('val_l01'))\n",
    "                           +df['metrics'].apply(load_from_dict('val_l1'))),})"
   ]
  },
  {
   "cell_type": "code",
   "execution_count": null,
   "id": "129a8f51-8068-4969-94e9-684edcc42569",
   "metadata": {},
   "outputs": [],
   "source": [
    "plt.figure(figsize=[3, 3])\n",
    "cond = df_1['normalized']==True\n",
    "x, y, yerr = split_df(df_1, 'sigma', 'nll', cond)\n",
    "plt.errorbar(x, y, yerr, label='Normalized', color='blue')\n",
    "cond = df_1['normalized']==False\n",
    "x, y, yerr = split_df(df_1, 'sigma', 'nll', cond)\n",
    "plt.errorbar(x, y, yerr, label='Not normalized', ls='--', color='blue')\n",
    "\n",
    "cond = df_2['normalized']==True\n",
    "x, y, yerr = split_df(df_2, 'sigma', 'nll', cond)\n",
    "plt.errorbar(x, y, yerr, label='Normalized', color='green')\n",
    "cond = df_2['normalized']==False\n",
    "x, y, yerr = split_df(df_2, 'sigma', 'nll', cond)\n",
    "plt.errorbar(x, y, yerr, label='Not normalized', ls='--', color='green')\n",
    "\n",
    "cond = df_3['normalized']==True\n",
    "x, y, yerr = split_df(df_3, 'sigma', 'nll', cond)\n",
    "plt.errorbar(x, y, yerr, label='Normalized', color='red')\n",
    "cond = df_3['normalized']==False\n",
    "x, y, yerr = split_df(df_3, 'sigma', 'nll', cond)\n",
    "plt.errorbar(x, y, yerr, label='Not normalized', ls='--', color='red')\n",
    "\n",
    "cond = df_bl['normalized']==True\n",
    "x, y, yerr = split_df(df_bl, 'sigma', 'nll', cond)\n",
    "plt.errorbar(x, y, yerr, label='Normalized', color='black')\n",
    "cond = df_bl['normalized']==False\n",
    "x, y, yerr = split_df(df_bl, 'sigma', 'nll', cond)\n",
    "plt.errorbar(x, y, yerr, label='Not normalized', ls='--', color='black')\n",
    "plt.ylabel(f\"NLL per bit\")\n",
    "plt.xlabel(\"$\\sigma$\")\n",
    "plt.legend(loc='center left', bbox_to_anchor=(1, 0.5))\n",
    "\n",
    "plt.figure(figsize=[3, 3])\n",
    "cond = df_1['normalized']==True\n",
    "x, y, yerr = split_df(df_1, 'sigma', 'kl1', cond)\n",
    "plt.errorbar(x, y, yerr, label='Normalized', color='blue')\n",
    "cond = df_1['normalized']==False\n",
    "x, y, yerr = split_df(df_1, 'sigma', 'kl1', cond)\n",
    "plt.errorbar(x, y, yerr, label='Not normalized', ls='--', color='blue')\n",
    "\n",
    "cond = df_2['normalized']==True\n",
    "x, y, yerr = split_df(df_2, 'sigma', 'kl1', cond)\n",
    "plt.errorbar(x, y, yerr, label='Normalized', color='green')\n",
    "cond = df_2['normalized']==False\n",
    "x, y, yerr = split_df(df_2, 'sigma', 'kl1', cond)\n",
    "plt.errorbar(x, y, yerr, label='Not normalized', ls='--', color='green')\n",
    "\n",
    "cond = df_3['normalized']==True\n",
    "x, y, yerr = split_df(df_3, 'sigma', 'kl1', cond)\n",
    "plt.errorbar(x, y, yerr, label='Normalized', color='red')\n",
    "cond = df_3['normalized']==False\n",
    "x, y, yerr = split_df(df_3, 'sigma', 'kl1', cond)\n",
    "plt.errorbar(x, y, yerr, label='Not normalized', ls='--', color='red')\n",
    "\n",
    "cond = df_bl['normalized']==True\n",
    "x, y, yerr = split_df(df_bl, 'sigma', 'kl1', cond)\n",
    "plt.errorbar(x, y, yerr, label='Normalized', color='black')\n",
    "cond = df_bl['normalized']==False\n",
    "x, y, yerr = split_df(df_bl, 'sigma', 'kl1', cond)\n",
    "plt.errorbar(x, y, yerr, label='Not normalized', ls='--', color='black')\n",
    "plt.ylabel(f\"NLL per bit\")\n",
    "plt.xlabel(\"$\\sigma$\")\n",
    "plt.legend(loc='center left', bbox_to_anchor=(1, 0.5))"
   ]
  },
  {
   "cell_type": "markdown",
   "id": "822c4fc0-f27a-4a94-90ed-3525e3a2b10d",
   "metadata": {},
   "source": [
    "Looks like schedule fixed it -- we see benefit!\n",
    "- Wait for try 3 to finish\n",
    "- run baselines!\n",
    "- try smaller sigma?"
   ]
  },
  {
   "cell_type": "markdown",
   "id": "866c7e05-d2fa-47eb-9797-5c8fccea6f4d",
   "metadata": {},
   "source": [
    "# CIFAR parameter runs try 1"
   ]
  },
  {
   "cell_type": "code",
   "execution_count": null,
   "id": "f0250d2a-1d9b-4ec7-803d-cb80961a6b3f",
   "metadata": {},
   "outputs": [],
   "source": [
    "sweep = api.sweep(\"alanamin/d3pm/83mp27zv\")\n",
    "runs = sweep.runs"
   ]
  },
  {
   "cell_type": "code",
   "execution_count": null,
   "id": "02f3bcce-de7a-4129-8b96-e16d5b0c2ac4",
   "metadata": {},
   "outputs": [],
   "source": [
    "data = load_data(runs, 4)\n",
    "\n",
    "df = pd.DataFrame(data, columns=['config', 'summary', 'metrics'])\n",
    "df = pd.DataFrame({'seed': df['config'].apply(lambda x: x['model.seed']),\n",
    "                   't_emb': df['config'].apply(load_from_dict(['nn_params', 'time_embed_dim'])),\n",
    "                   's_dim': df['config'].apply(load_from_dict(['nn_params', 's_dim'])),\n",
    "                   'hybrid': df['config'].apply(load_from_dict('hybrid_loss_coeff')),\n",
    "                   'logistic_pars': df['config'].apply(load_from_dict('logistic_pars')),\n",
    "                   'nll': df['metrics'].apply(load_from_dict('val_l01')),})"
   ]
  },
  {
   "cell_type": "code",
   "execution_count": null,
   "id": "ca736092-d979-4b07-b4b1-f1991ad87bc9",
   "metadata": {},
   "outputs": [],
   "source": [
    "for hlc in [0.00, 0.01, 0.1]:\n",
    "    # plt.figure(figsize=[3, 3])\n",
    "    for temb in [0, 128]:\n",
    "        for lp in [True, False]:\n",
    "            cond = np.logical_and(np.logical_and(\n",
    "                df['t_emb']==temb, df['hybrid']==hlc), df['logistic_pars']==lp)\n",
    "            label = f'temb={temb},lp={lp},hlc={hlc}'\n",
    "            alpha = 0.1 if hlc == 0.1 else ( 0.5 if hlc==0.01 else 1)\n",
    "            color = 'blue' if lp else 'orange'\n",
    "            ls = '-' if temb==0 else '--'\n",
    "            x, y, yerr = split_df(df, 's_dim', 'nll', cond)\n",
    "            plt.errorbar(x, y, yerr, alpha=alpha,\n",
    "                         label=label, color=color, ls=ls)\n",
    "            plt.semilogx()\n",
    "    plt.ylabel(f\"NLL per bit\")\n",
    "    plt.xlabel(\"s_dim\")\n",
    "    plt.legend(loc='center left', bbox_to_anchor=(1, 0.5))\n",
    "    plt.ylim(2.04, 2.17)"
   ]
  },
  {
   "cell_type": "markdown",
   "id": "dab13c62-bccf-4157-b179-070e1d98853a",
   "metadata": {},
   "source": [
    "Overall: CIFAR n=4 doesn't look good but that's with the wrong param. CIFAR N=8 is still not done, **I'll need to accelerate both of these and get the comparison to SEDD and masking asap.** ✔️\n",
    "CIFAR n=4 with big sdim also failed, **will need to debug.** ✔️\n",
    "*then we can say we do better than masking and interpolate between SEDD and masking.*\n",
    "\n",
    "N=128 and structure sweeps worked and look as expected, **but I need to get SEDD comparison working**. ✔️ *Then we can say adding transition info helps*\n",
    "\n",
    "sigma sweep looks very strange we're doing bad. Is this because I changed schedule? **Will look at D3PM and change schedule if needed.** *then we can say structure helps*\n",
    "\n",
    "Say when not using lp, nothing makes a big difference, but when using lp and with small hybrid loss, a bigger s_dim helps. Will continue running and run anything new at sdim 128. **I'll run a smaller scan dropping the hybrid, and testing 64 and 128 sdim.** ✔️"
   ]
  },
  {
   "cell_type": "markdown",
   "id": "94e31501-b82f-40de-9152-7ec83f51da69",
   "metadata": {},
   "source": [
    "# CIFAR parameter runs right before try 2"
   ]
  },
  {
   "cell_type": "code",
   "execution_count": null,
   "id": "3826d08a-0228-4fbb-ad66-4fd89a744b54",
   "metadata": {},
   "outputs": [],
   "source": [
    "sweep = api.sweep(\"alanamin/d3pm/1emyvi0q\")\n",
    "runs = sweep.runs"
   ]
  },
  {
   "cell_type": "code",
   "execution_count": null,
   "id": "d7972d48-40a8-4b0b-9372-7b7dfa4396a0",
   "metadata": {},
   "outputs": [],
   "source": [
    "data = load_data(runs, 3)\n",
    "\n",
    "df = pd.DataFrame(data, columns=['config', 'summary', 'metrics'])\n",
    "df = pd.DataFrame({'seed': df['config'].apply(lambda x: x['model.seed']),\n",
    "                   't_emb': df['config'].apply(load_from_dict(['nn_params', 'time_embed_dim'])),\n",
    "                   's_dim': df['config'].apply(load_from_dict(['nn_params', 's_dim'])),\n",
    "                   'logistic_pars': df['config'].apply(load_from_dict('logistic_pars')),\n",
    "                   'nll': df['metrics'].apply(load_from_dict('val_l01')),})"
   ]
  },
  {
   "cell_type": "code",
   "execution_count": null,
   "id": "0b61d128-58e8-46d5-989e-c80117a63417",
   "metadata": {},
   "outputs": [],
   "source": [
    "for temb in [0, 128]:\n",
    "    for lp in [True, False]:\n",
    "        cond = np.logical_and(\n",
    "            df['t_emb']==temb, df['logistic_pars']==lp)\n",
    "        label = f'temb={temb},lp={lp}'\n",
    "        alpha = 1\n",
    "        color = 'blue' if lp else 'orange'\n",
    "        ls = '-' if temb==0 else '--'\n",
    "        x, y, yerr = split_df(df, 's_dim', 'nll', cond)\n",
    "        plt.errorbar(x, y, yerr, alpha=alpha,\n",
    "                     label=label, color=color, ls=ls)\n",
    "        plt.semilogx()\n",
    "plt.ylabel(f\"NLL per bit\")\n",
    "plt.xlabel(\"s_dim\")\n",
    "plt.legend(loc='center left', bbox_to_anchor=(1, 0.5))\n",
    "# plt.ylim(2.04, 2.17)"
   ]
  },
  {
   "cell_type": "markdown",
   "id": "c2bb961b-487e-47ac-a045-c6d2dc293903",
   "metadata": {},
   "source": [
    "Seems the best is low t_dim and using large s_dim, using lp."
   ]
  },
  {
   "cell_type": "markdown",
   "id": "974b93ef-b0a4-45d3-8f4b-2e24b8a819d3",
   "metadata": {},
   "source": [
    "# CIFAR check s_dim integration method"
   ]
  },
  {
   "cell_type": "code",
   "execution_count": null,
   "id": "a4f65ee3-d02f-4618-a8c7-dca2a8b4f280",
   "metadata": {},
   "outputs": [],
   "source": [
    "sweep_film = api.sweep(\"alanamin/d3pm/osr9fbrb\")\n",
    "runs_film = sweep_film.runs\n",
    "\n",
    "sweep_s_method = api.sweep(\"alanamin/d3pm/acm31eq6\")\n",
    "runs_s_method = sweep_s_method.runs\n",
    "\n",
    "\n",
    "sweep_baseline = api.sweep(\"alanamin/d3pm/k17s5qkt\")\n",
    "runs_baseline = sweep_baseline.runs"
   ]
  },
  {
   "cell_type": "code",
   "execution_count": null,
   "id": "be1f2b1a-1881-4136-93f9-f32c9ca4fc7e",
   "metadata": {},
   "outputs": [],
   "source": [
    "data_film = load_data(runs_film, 3)\n",
    "data_s_method = load_data(runs_s_method, 3)\n",
    "data_baseline = load_data(runs_baseline, 3)\n",
    "\n",
    "df = pd.DataFrame(data_film, columns=['config', 'summary', 'metrics'])\n",
    "df_film = pd.DataFrame({'seed': df['config'].apply(lambda x: x['model.seed']),\n",
    "                   't_emb': df['config'].apply(load_from_dict(['nn_params', 'time_embed_dim'])),\n",
    "                   'film': df['config'].apply(load_from_dict(['nn_params', 'film'])),\n",
    "                   'nll': df['metrics'].apply(load_from_dict('val_l01')),})\n",
    "\n",
    "df = pd.DataFrame(data_s_method, columns=['config', 'summary', 'metrics'])\n",
    "df_s_method = pd.DataFrame({'seed': df['config'].apply(lambda x: x['model.seed']),\n",
    "                   't_emb': df['config'].apply(load_from_dict(['nn_params', 'time_embed_dim'])),\n",
    "                   'semb_style': df['config'].apply(load_from_dict(['nn_params', 'semb_style'])),\n",
    "                   'nll': df['metrics'].apply(load_from_dict('val_l01')),})\n",
    "\n",
    "df_bl = pd.DataFrame(data_baseline, columns=['config', 'summary', 'metrics'])\n",
    "df_bl = pd.DataFrame({'seed': df_bl['config'].apply(lambda x: x['model.seed']),\n",
    "                      'model': df_bl['config'].apply(lambda x: x['model.model']),\n",
    "                      'film': df_bl['config'].apply(load_from_dict(['nn_params', 'film'])),\n",
    "                      'nll': df_bl['metrics'].apply(load_from_dict('val_l01')),})"
   ]
  },
  {
   "cell_type": "code",
   "execution_count": null,
   "id": "23f3bd24-7025-4c6e-b635-987963ab3970",
   "metadata": {},
   "outputs": [],
   "source": [
    "w = 0.25\n",
    "\n",
    "c = 0\n",
    "for i, style in enumerate(['learn_embed', 'learn_nn', 'u_inject']):\n",
    "    cond = df_s_method['semb_style']==style\n",
    "    x, y, yerr = split_df(df_s_method, 't_emb', 'nll', cond)\n",
    "    bars = plt.bar([c-w/2, c+w/2], y, yerr=yerr, width=w, label=style)\n",
    "    bars[1].set_hatch('//')\n",
    "    c += 1\n",
    "for j, film in enumerate([False, True]):\n",
    "    cond = df_film['film'] == film\n",
    "    x, y, yerr = split_df(df_film, 't_emb', 'nll', cond)\n",
    "    bars = plt.bar([c-w/2, c+w/2], y, yerr=yerr, width=w, label=f'u_inject_film={film}')\n",
    "    bars[1].set_hatch('//')\n",
    "    c += 1\n",
    "for j, model in enumerate(['MaskingDiffusion', 'SEDD']):\n",
    "    cond = df_bl['model'] == model\n",
    "    x, y, yerr = split_df(df_bl, 'film', 'nll', cond)\n",
    "    print(y, x)\n",
    "    bars = plt.bar([c-w/2, c+w/2], y[::-1], yerr=yerr, width=w, label=f'{model}_(bars=no film)', color='grey')\n",
    "    bars[1].set_hatch('-')\n",
    "    c += 1\n",
    "plt.ylim(2, 2.2)\n",
    "plt.legend(loc='center left', bbox_to_anchor=(1, 0.5))\n",
    "plt.ylabel(f\"NLL per bit\")"
   ]
  },
  {
   "cell_type": "markdown",
   "id": "927e33cd-ec0b-4ca3-a54a-1c18b09126f8",
   "metadata": {},
   "source": [
    "- Great! Now let's run the full gamma sweep!"
   ]
  },
  {
   "cell_type": "code",
   "execution_count": null,
   "id": "268bdf57-4eb1-4247-aed1-ce3ec579f0cc",
   "metadata": {},
   "outputs": [],
   "source": []
  }
 ],
 "metadata": {
  "kernelspec": {
   "display_name": "evodiff",
   "language": "python",
   "name": "evodiff"
  },
  "language_info": {
   "codemirror_mode": {
    "name": "ipython",
    "version": 3
   },
   "file_extension": ".py",
   "mimetype": "text/x-python",
   "name": "python",
   "nbconvert_exporter": "python",
   "pygments_lexer": "ipython3",
   "version": "3.8.5"
  }
 },
 "nbformat": 4,
 "nbformat_minor": 5
}
