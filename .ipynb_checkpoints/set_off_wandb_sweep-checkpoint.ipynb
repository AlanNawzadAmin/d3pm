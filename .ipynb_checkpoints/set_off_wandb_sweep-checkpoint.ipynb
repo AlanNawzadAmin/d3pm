{
 "cells": [
  {
   "cell_type": "code",
   "execution_count": null,
   "id": "8e9ba050-b344-43a8-9dc1-398d4b3f9777",
   "metadata": {},
   "outputs": [],
   "source": [
    "import subprocess\n",
    "import sys\n",
    "\n",
    "def detup_sweep(gpu_num, config_name, sweep_id=None):\n",
    "    if sweep_id is None:\n",
    "        result = subprocess.run(['wandb', 'sweep', f'configs/{config_name}.yaml'], capture_output=True, text=True)\n",
    "        sweep_id = str(result).split('/')[-1].split('\\\\')[0]\n",
    "    script = \"\"\"#!/bin/bash\n",
    "    \n",
    "    source ~/.bash_profile 2>/dev/null || source ~/.bashrc\n",
    "    eval \"$(conda shell.bash hook)\"\n",
    "    conda activate evodiff\n",
    "    wandb agent alanamin/d3pm/\"\"\" + str(sweep_id)\n",
    "    script_path = f'scripts/{config_name}_{sweep_id}.sh'\n",
    "    with open(script_path, 'w+') as f:\n",
    "        f.write(script)\n",
    "    subprocess.run(['chmod', '+x', script_path])\n",
    "    print(\"Sweep id:\", sweep_id, \"\\nCommand:\")\n",
    "    print(f\"cd ~/d3pm; nohup bash -c 'CUDA_VISIBLE_DEVICES={gpu_num} ~/d3pm/{script_path}' > ~/d3pm/outputs/{config_name}_{sweep_id}.log 2>&1 &\")"
   ]
  },
  {
   "cell_type": "code",
   "execution_count": null,
   "id": "5516dba1-d674-4995-ac75-36b83091cd30",
   "metadata": {},
   "outputs": [],
   "source": [
    "gpu_num = 1\n",
    "config_name = 'sweep_gamma_cifar_params_agent_2'\n",
    "sweep_id = \"x38oy66z\"\n",
    "detup_sweep(gpu_num, config_name, sweep_id)"
   ]
  },
  {
   "cell_type": "markdown",
   "id": "b08a7f70-192f-499f-b8ac-db5a3832ff0a",
   "metadata": {},
   "source": [
    "## slurm"
   ]
  },
  {
   "cell_type": "code",
   "execution_count": null,
   "id": "40645d0b-8e3d-48b2-b363-c918d07b9a76",
   "metadata": {},
   "outputs": [],
   "source": [
    "import numpy as np\n",
    "import os\n",
    "import subprocess\n",
    "import wandb\n",
    "\n",
    "def create_slurm_job(config_name, sweep_id=None):\n",
    "    # Create a new wandb sweep if sweep_id is not provided\n",
    "    if sweep_id is None:\n",
    "        result = subprocess.run(['wandb', 'sweep', f'configs/{config_name}.yaml'], capture_output=True, text=True)\n",
    "        sweep_id = str(result).split('/')[-1].split('\\\\')[0]\n",
    "\n",
    "    rand = np.random.randint(100000)\n",
    "    # Create a SLURM job script\n",
    "    slurm_script = f\"\"\"#!/bin/bash\n",
    "#SBATCH --job-name=sweeps{rand}\n",
    "#SBATCH --output=slurm_out/slurm_%j.out\n",
    "#SBATCH --error=slurm_out/slurm_%j.err\n",
    "#SBATCH --time=24:00:00\n",
    "#SBATCH --ntasks=1\n",
    "#SBATCH --cpus-per-task=16\n",
    "#SBATCH --gres=gpu:1\n",
    "\n",
    "\n",
    "# Activate your virtual environment if needed\n",
    "source ~/.bashrc\n",
    "conda activate evodiff\n",
    "\n",
    "# Run the wandb agent\n",
    "wandb agent alanamin/d3pm/{sweep_id}\n",
    "\"\"\"\n",
    "\n",
    "    # Write the SLURM script to a file\n",
    "    script_filename = f\"slurm_scripts/slurm_job_{sweep_id}_{rand}.sh\"\n",
    "    with open(script_filename, 'w') as f:\n",
    "        f.write(slurm_script)\n",
    "\n",
    "    # Submit the SLURM job\n",
    "    subprocess.run(['sbatch', script_filename])\n",
    "\n",
    "    return sweep_id\n"
   ]
  },
  {
   "cell_type": "code",
   "execution_count": null,
   "id": "1a344ce4-a253-48ca-95a3-037e15b87439",
   "metadata": {},
   "outputs": [],
   "source": [
    "config_name = 'sweep_process_cifar'\n",
    "sweep_id = 'jbay68kw'\n",
    "create_slurm_job(config_name, sweep_id)"
   ]
  },
  {
   "cell_type": "code",
   "execution_count": null,
   "id": "4a8429a5-7a8e-4a72-b511-f151e503bf48",
   "metadata": {},
   "outputs": [],
   "source": []
  }
 ],
 "metadata": {
  "kernelspec": {
   "display_name": "evodiff",
   "language": "python",
   "name": "evodiff"
  },
  "language_info": {
   "codemirror_mode": {
    "name": "ipython",
    "version": 3
   },
   "file_extension": ".py",
   "mimetype": "text/x-python",
   "name": "python",
   "nbconvert_exporter": "python",
   "pygments_lexer": "ipython3",
   "version": "3.8.5"
  }
 },
 "nbformat": 4,
 "nbformat_minor": 5
}
