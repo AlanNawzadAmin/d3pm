{
 "cells": [
  {
   "cell_type": "code",
   "execution_count": null,
   "id": "9ef5ef31-444c-4091-88a1-f5b59d6e492e",
   "metadata": {},
   "outputs": [],
   "source": [
    "%load_ext autoreload\n",
    "%autoreload 2\n",
    "\n",
    "import numpy as np\n",
    "from matplotlib import pyplot as plt\n",
    "\n",
    "from d3pm_sc.ct_sched_cond import ScheduleCondition\n",
    "from d3pm_sc.ct_sched_cond_sparse_k import ScheduleConditionSparseK\n",
    "from d3pm_sc.masking_diffusion import MaskingDiffusion\n",
    "from d3pm_sc.d3pm_classic import D3PMClassic\n",
    "from d3pm_sc.unet import KingmaUNet, UNet, SimpleUNet\n",
    "# from d3pm_sc.dit import DiT_Llama\n",
    "from d3pm_sc import utils\n",
    "from pytorch_lightning import Trainer\n",
    "from pytorch_lightning.loggers import WandbLogger\n",
    "\n",
    "import torch\n",
    "from torch.utils.data import DataLoader, random_split\n",
    "from torchvision import transforms\n",
    "from torchvision.datasets import MNIST, CIFAR10\n",
    "\n",
    "import wandb\n",
    "# wandb.login(key=\"6a47f093d2a55e4f4e85b33767423f2db66355b8\")\n"
   ]
  },
  {
   "cell_type": "code",
   "execution_count": null,
   "id": "df9e6afe-cdfd-420c-b9b7-a69c45656461",
   "metadata": {},
   "outputs": [],
   "source": [
    "from nets import get_model_setup\n",
    "from data import get_dataloaders\n",
    "from omegaconf import OmegaConf\n",
    "import data\n",
    "\n",
    "cfg = OmegaConf.load('configs/basic_language.yaml')\n",
    "\n",
    "##### Load data\n",
    "train_dataloader, test_dataloader = data.get_dataloaders(cfg)\n",
    "tokenizer = train_dataloader.tokenizer if hasattr(train_dataloader, \"tokenizer\") else None\n",
    "\n",
    "##### Setup x0_model\n",
    "x0_model_class, nn_params = get_model_setup(cfg, tokenizer) \n",
    "\n",
    "##### Pick model\n",
    "model = ScheduleConditionSparseK(        \n",
    "    x0_model_class,\n",
    "    nn_params,\n",
    "    num_classes=len(tokenizer) if tokenizer else cfg.data.N,\n",
    "    hybrid_loss_coeff=cfg.model.hybrid_loss_coeff,\n",
    "    gamma=cfg.model.gamma,\n",
    "    forward_kwargs=OmegaConf.to_container(cfg.model.forward_kwargs, resolve=True),\n",
    "    schedule_type=cfg.model.schedule_type,\n",
    "    logistic_pars=cfg.model.logistic_pars,\n",
    "    fix_x_t_bias=cfg.model.fix_x_t_bias,\n",
    "    n_T=cfg.model.n_T,\n",
    "    t_max=cfg.model.t_max,\n",
    "    seed=cfg.model.seed,\n",
    "    input_logits=cfg.model.input_logits,\n",
    "    **OmegaConf.to_container(cfg.train, resolve=True),)\n"
   ]
  },
  {
   "cell_type": "code",
   "execution_count": null,
   "id": "1dce2615-b202-42ab-b825-f43117d28ce1",
   "metadata": {},
   "outputs": [],
   "source": [
    "model.pre_configure_model(train_dataloader)"
   ]
  },
  {
   "cell_type": "code",
   "execution_count": null,
   "id": "89a3b443-eaea-4d7b-a65e-b917691638c9",
   "metadata": {},
   "outputs": [],
   "source": [
    "import gc\n",
    "\n",
    "torch.cuda.empty_cache()\n",
    "gc.collect()\n",
    "torch.cuda.empty_cache()\n",
    "gc.collect()\n",
    "torch.cuda.empty_cache()\n",
    "gc.collect()"
   ]
  },
  {
   "cell_type": "code",
   "execution_count": null,
   "id": "0bdcb556-feb8-4a80-be82-61a98f5c691c",
   "metadata": {},
   "outputs": [],
   "source": [
    "steps = torch.arange(1000 + 1, dtype=torch.float32) / 1000\n",
    "\n",
    "fig, ax = plt.subplots(1, 3, figsize=[9, 3])\n",
    "ax[0].semilogy(model.beta(steps), label=\"Hazard\", color='black')\n",
    "ax[0].legend()\n",
    "\n",
    "alpha_bar = torch.exp(model.log_alpha(steps))\n",
    "ax[1].plot(alpha_bar, label=\"p(unmut)\", color='black')\n",
    "ax[1].legend()\n",
    "\n",
    "alpha_bar = model.log_alpha(steps)\n",
    "ax[2].plot(-alpha_bar, label=\"E[S]\", color='black')\n",
    "ax[2].legend()\n",
    "\n",
    "# L = utils.get_inf_gens(forward_kwargs, N)\n",
    "# ax[2].imshow(L, vmin=-0.1, vmax=0.1, cmap='bwr')"
   ]
  },
  {
   "cell_type": "code",
   "execution_count": null,
   "id": "be842a7f-aee0-4e96-b885-f54daf0e2083",
   "metadata": {},
   "outputs": [],
   "source": [
    "from pytorch_lightning import Trainer\n",
    "from pytorch_lightning.loggers import WandbLogger\n",
    "\n",
    "wandb.init()\n",
    "wandb_logger = WandbLogger(project=\"debugging\")\n",
    "lightning_model = model\n",
    "torch.set_float32_matmul_precision('high')\n",
    "model.to(torch.bfloat32)\n",
    "\n",
    "# from pytorch_lightning.profilers import PyTorchProfiler\n",
    "# profiler = PyTorchProfiler(\n",
    "#     on_trace_ready=torch.profiler.tensorboard_trace_handler('./log'),\n",
    "#     schedule=torch.profiler.schedule(wait=1, warmup=1, active=10, repeat=2)\n",
    "# )\n",
    "trainer = Trainer(max_epochs=1, accelerator='auto',\n",
    "                  devices=torch.cuda.device_count(), logger=wandb_logger)#, profiler=profiler)\n",
    "trainer.fit(lightning_model, train_dataloader, test_dataloader)"
   ]
  },
  {
   "cell_type": "code",
   "execution_count": null,
   "id": "bdbadd67-27e6-4473-be73-3da103536320",
   "metadata": {},
   "outputs": [],
   "source": [
    "import wandb\n",
    "wandb.finish()"
   ]
  },
  {
   "cell_type": "code",
   "execution_count": null,
   "id": "f22fcee7-543d-4daf-a0a7-d6825b855aa6",
   "metadata": {},
   "outputs": [],
   "source": [
    "datum = next(iter(train_dataloader))"
   ]
  },
  {
   "cell_type": "code",
   "execution_count": null,
   "id": "967b8b92-fa68-4c56-bd0d-2e287d22aafc",
   "metadata": {},
   "outputs": [],
   "source": [
    "datum_t = model.sample_point(datum['input_ids'])"
   ]
  },
  {
   "cell_type": "code",
   "execution_count": null,
   "id": "00a22b37-a0c4-45d0-b7e7-a3d879d615d4",
   "metadata": {},
   "outputs": [],
   "source": [
    "datum['attention_mask'].sum(-1)"
   ]
  },
  {
   "cell_type": "code",
   "execution_count": null,
   "id": "7adbad52-dabf-4ef7-bb00-dbda3466682a",
   "metadata": {},
   "outputs": [],
   "source": [
    "from transformers import BertTokenizer\n",
    "tokenizer = BertTokenizer.from_pretrained(\"bert-base-uncased\")\n",
    "\n"
   ]
  },
  {
   "cell_type": "code",
   "execution_count": null,
   "id": "acb03a02-118b-4ced-91f6-30e50fe45e6f",
   "metadata": {},
   "outputs": [],
   "source": [
    "import sys\n",
    "del sys.modules['d3pm_sc.ct_sched_cond_sparse_k']\n",
    "import d3pm_sc.ct_sched_cond_sparse_k"
   ]
  },
  {
   "cell_type": "code",
   "execution_count": null,
   "id": "c594e34f-0906-47f1-ae12-b09bbffe471e",
   "metadata": {},
   "outputs": [],
   "source": [
    "from importlib import reload\n",
    "import d3pm_sc.ct_sched_cond_sparse_k\n",
    "reload(d3pm_sc.ct_sched_cond_sparse_k)"
   ]
  },
  {
   "cell_type": "code",
   "execution_count": null,
   "id": "a1d7ca45-21ba-4607-a9ed-ef9445fa6693",
   "metadata": {},
   "outputs": [],
   "source": [
    "batch_size = 1\n",
    "x_sample = datum['input_ids'].cuda()\n",
    "model = model.cuda()\n",
    "\n",
    "cond = torch.arange(0, batch_size).to(sample_x.device) % 10\n",
    "p = model.get_stationary()\n",
    "samples = torch.multinomial(p, num_samples=batch_size*sample_x.shape[1:].numel(), replacement=True)\n",
    "init_noise = samples.reshape((batch_size,)+sample_x.shape[1:]).to(sample_x.device)\n",
    "\n",
    "images = model.sample_with_image_sequence(\n",
    "        init_noise, cond, stride=3, n_T=100,\n",
    "    )"
   ]
  },
  {
   "cell_type": "code",
   "execution_count": null,
   "id": "b0ce8703-2159-49b7-ad79-a69c88c3317e",
   "metadata": {},
   "outputs": [],
   "source": [
    "images"
   ]
  },
  {
   "cell_type": "code",
   "execution_count": null,
   "id": "71b99212-49a7-44b7-903f-66b88acc9461",
   "metadata": {},
   "outputs": [],
   "source": [
    "images = model.sample_with_image_sequence2(\n",
    "        init_noise, cond, stride=3, n_T=100,\n",
    "    )"
   ]
  },
  {
   "cell_type": "code",
   "execution_count": null,
   "id": "94fa2fc7-becc-4004-9c16-a1148a820b78",
   "metadata": {},
   "outputs": [],
   "source": [
    "x = init_noise\n",
    "stride=3\n",
    "n_T=1000"
   ]
  },
  {
   "cell_type": "code",
   "execution_count": null,
   "id": "ebdc074f-79ff-4fd8-90f0-8c1bfcc814ee",
   "metadata": {},
   "outputs": [],
   "source": [
    "from d3pm_sc.schedule_sample import sample_n_transitions_cont\n",
    "from tqdm import tqdm\n",
    "\n",
    "t = model.t_max * torch.ones(x.shape[0], device=x.device)\n",
    "S = sample_n_transitions_cont(model.log_alpha, x[0].flatten().shape[0], t)\n",
    "S = S.swapaxes(0, 1).reshape(*x.shape).long()\n",
    "steps = 0\n",
    "images = []\n",
    "n_steps = S.sum(-1).sum(-1).sum(-1).max().item()\n",
    "if n_steps > 1e6:\n",
    "    print(\"n_steps:\", n_steps)\n",
    "pbar = tqdm(total=n_steps, unit=\"iteration\",\n",
    "            position=0, leave=True)\n",
    "trans_step = n_steps // n_T\n",
    "while S.sum() > 0:\n",
    "    # predict what comes next\n",
    "    x_next = model.p_sample(\n",
    "        x, t, cond, torch.rand((*x.shape, model.num_classes), device=x.device), S\n",
    "    )\n",
    "    for b in range(len(x)):\n",
    "        trans_indices = torch.argwhere(S[b] > 0)\n",
    "        trans_indices = trans_indices[torch.randperm(len(trans_indices))]\n",
    "        if len(trans_indices) > 0:\n",
    "            # randomly transiiton\n",
    "            for k in trans_indices[:trans_step]:\n",
    "                x[b, k] = x_next[b, k]\n",
    "                S[b, k] -= 1\n",
    "    pbar.update(trans_step)\n",
    "    steps += 1\n",
    "    if steps % stride == 0:\n",
    "        images.append(torch.clone(x))\n",
    "pbar.close()\n",
    "# if last step is not divisible by stride, we add the last image.\n",
    "if steps % stride != 0:\n",
    "    images.append(x)\n"
   ]
  },
  {
   "cell_type": "code",
   "execution_count": null,
   "id": "1cb2ce22-0719-45df-87a9-26ae7b8ab6bd",
   "metadata": {},
   "outputs": [],
   "source": [
    "tokenizer.decode(images[-1][0])[:1000]"
   ]
  },
  {
   "cell_type": "code",
   "execution_count": null,
   "id": "cb5f8264-1759-4c5b-9931-abc1312adb07",
   "metadata": {},
   "outputs": [],
   "source": []
  }
 ],
 "metadata": {
  "kernelspec": {
   "display_name": "evodiff",
   "language": "python",
   "name": "evodiff"
  },
  "language_info": {
   "codemirror_mode": {
    "name": "ipython",
    "version": 3
   },
   "file_extension": ".py",
   "mimetype": "text/x-python",
   "name": "python",
   "nbconvert_exporter": "python",
   "pygments_lexer": "ipython3",
   "version": "3.8.5"
  }
 },
 "nbformat": 4,
 "nbformat_minor": 5
}
