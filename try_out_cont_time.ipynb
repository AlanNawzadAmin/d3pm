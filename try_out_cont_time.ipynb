{
 "cells": [
  {
   "cell_type": "code",
   "execution_count": 279,
   "id": "9ef5ef31-444c-4091-88a1-f5b59d6e492e",
   "metadata": {},
   "outputs": [
    {
     "name": "stdout",
     "output_type": "stream",
     "text": [
      "The autoreload extension is already loaded. To reload it, use:\n",
      "  %reload_ext autoreload\n"
     ]
    }
   ],
   "source": [
    "%load_ext autoreload\n",
    "%autoreload 2\n",
    "    \n",
    "from d3pm_sc.ct_sched_cond import ScheduleCondition\n",
    "from d3pm_sc.masking_diffusion import MaskingDiffusion\n",
    "from d3pm_sc.d3pm_classic import D3PMClassic\n",
    "from d3pm_sc.unet import UNet, SimpleUNet\n",
    "from d3pm_sc.dit import DiT_Llama\n",
    "from d3pm_sc import utils\n",
    "from pytorch_lightning import Trainer\n",
    "from pytorch_lightning.loggers import WandbLogger\n",
    "\n",
    "\n",
    "import numpy as np\n",
    "import torch\n",
    "import torch.nn as nn\n",
    "from PIL import Image\n",
    "from torch.utils.data import DataLoader, random_split\n",
    "from torchvision import transforms\n",
    "from torchvision.datasets import MNIST, CIFAR10\n",
    "from torchvision.utils import make_grid\n",
    "from tqdm import tqdm\n",
    "\n",
    "from matplotlib import pyplot as plt"
   ]
  },
  {
   "cell_type": "code",
   "execution_count": 521,
   "id": "df9e6afe-cdfd-420c-b9b7-a69c45656461",
   "metadata": {},
   "outputs": [
    {
     "name": "stdout",
     "output_type": "stream",
     "text": [
      "Files already downloaded and verified\n"
     ]
    }
   ],
   "source": [
    "N = 256  # number of classes for discretized state per pixel\n",
    "n_channel = 3\n",
    "gamma = 0\n",
    "hybrid_loss_coeff = 0.01\n",
    "logistic_pars = False\n",
    "fix_x_t_bias = False\n",
    "lr = 2e-4\n",
    "grad_clip_val = 1\n",
    "\n",
    "s_dim = 4\n",
    "conditional = True\n",
    "forward_kwargs = {\"type\":\"gaussian\",\n",
    "                  \"normalized\": False,\n",
    "                  \"bandwidth\":1 / 7}\n",
    "\n",
    "batch_size = 16\n",
    "n_epoch = 14\n",
    "\n",
    "nn_params = {\"n_channel\": n_channel, \n",
    "             \"N\": N,\n",
    "             \"n_T\": 500,\n",
    "             \"schedule_conditioning\": True,\n",
    "             \"s_dim\":4,\n",
    "            }\n",
    "x0_model_class = UNet\n",
    "\n",
    "# x0_model_class = DiT_Llama\n",
    "# nn_params['dim'] = 1024\n",
    "\n",
    "##### Pick model\n",
    "# # Schedule conditioning\n",
    "# model = ScheduleCondition(x0_model_class, nn_params, num_classes=N, hybrid_loss_coeff=hybrid_loss_coeff, gamma=gamma,\n",
    "#                           forward_kwargs=forward_kwargs, logistic_pars=logistic_pars, fix_x_t_bias=fix_x_t_bias, lr=lr, grad_clip_val=grad_clip_val)\n",
    "\n",
    "# # Masking\n",
    "nn_params[\"N\"] += 1\n",
    "nn_params[\"schedule_conditioning\"] = False\n",
    "model = MaskingDiffusion(x0_model_class, nn_params, num_classes=N, hybrid_loss_coeff=0.01).cuda()\n",
    "\n",
    "\n",
    "##### Load data\n",
    "dataset = CIFAR10(\n",
    "    \"./data\",\n",
    "    train=True,\n",
    "    download=True,\n",
    "    transform=transforms.Compose(\n",
    "        [\n",
    "            transforms.RandomHorizontalFlip(),\n",
    "            transforms.ToTensor(),\n",
    "        ]\n",
    "    ),\n",
    ")\n",
    "def collate_fn(batch):\n",
    "    x, cond = zip(*batch)\n",
    "    x = torch.stack(x)\n",
    "    cond = torch.tensor(cond)\n",
    "    cond = (cond * conditional)\n",
    "    x = (x * (N - 1)).round().long().clamp(0, N - 1)\n",
    "    return x, cond\n",
    "train_size = int(len(dataset) * 0.9)\n",
    "dataset, test_dataset = random_split(dataset, [train_size, len(dataset) - train_size])\n",
    "dataloader = DataLoader(dataset, batch_size=batch_size, shuffle=True, num_workers=16, collate_fn=collate_fn)\n",
    "test_dataloader = DataLoader(test_dataset, batch_size=batch_size, shuffle=False, num_workers=16, collate_fn=collate_fn)\n"
   ]
  },
  {
   "cell_type": "code",
   "execution_count": 522,
   "id": "0bdcb556-feb8-4a80-be82-61a98f5c691c",
   "metadata": {},
   "outputs": [
    {
     "data": {
      "text/plain": [
       "<matplotlib.image.AxesImage at 0x7f148384fa00>"
      ]
     },
     "execution_count": 522,
     "metadata": {},
     "output_type": "execute_result"
    },
    {
     "data": {
      "image/png": "[encoded data removed]",
      "text/plain": [
       "<Figure size 648x216 with 3 Axes>"
      ]
     },
     "metadata": {
      "needs_background": "light"
     },
     "output_type": "display_data"
    }
   ],
   "source": [
    "steps = torch.arange(1000 + 1, dtype=torch.float64) / 1000\n",
    "\n",
    "fig, ax = plt.subplots(1, 3, figsize=[9, 3])\n",
    "ax[0].semilogy(model.beta(steps), label=\"Hazard\", color='black')\n",
    "ax[0].legend()\n",
    "\n",
    "alpha_bar = torch.exp(model.log_alpha(steps))\n",
    "ax[1].plot(alpha_bar, label=\"p(unmut)\", color='black')\n",
    "ax[1].legend()\n",
    "\n",
    "L = utils.get_inf_gens(forward_kwargs, N)\n",
    "ax[2].imshow(L, vmin=-0.1, vmax=0.1, cmap='bwr')"
   ]
  },
  {
   "cell_type": "code",
   "execution_count": 534,
   "id": "0bcc9470-7e5b-46cf-8992-852d4e7f8209",
   "metadata": {},
   "outputs": [
    {
     "name": "stderr",
     "output_type": "stream",
     "text": [
      "/tmp/ipykernel_1578627/1646885609.py:1: DeprecationWarning: `product` is deprecated as of NumPy 1.25.0, and will be removed in NumPy 2.0. Please use `prod` instead.\n",
      "  ps = np.array([np.product(p.shape) for p in model.x0_model.parameters()])\n"
     ]
    },
    {
     "data": {
      "text/plain": [
       "36631811"
      ]
     },
     "execution_count": 534,
     "metadata": {},
     "output_type": "execute_result"
    }
   ],
   "source": [
    "ps = np.array([np.product(p.shape) for p in model.x0_model.parameters()])\n",
    "ps.sum()"
   ]
  },
  {
   "cell_type": "code",
   "execution_count": 532,
   "id": "076e9854-de98-464a-ba84-fffa841e6af7",
   "metadata": {},
   "outputs": [
    {
     "data": {
      "text/plain": [
       "257"
      ]
     },
     "execution_count": 532,
     "metadata": {},
     "output_type": "execute_result"
    }
   ],
   "source": [
    "model.x0_model.N"
   ]
  },
  {
   "cell_type": "code",
   "execution_count": 530,
   "id": "5877ec52-5359-4e3e-ba69-567ddca4d666",
   "metadata": {},
   "outputs": [
    {
     "data": {
      "text/plain": [
       "[torch.Size([771, 128, 3, 3]), torch.Size([771])]"
      ]
     },
     "execution_count": 530,
     "metadata": {},
     "output_type": "execute_result"
    }
   ],
   "source": [
    "ps = [p.shape for p in model.x0_model.conv_out.parameters()]\n",
    "\n",
    "ps"
   ]
  },
  {
   "cell_type": "code",
   "execution_count": null,
   "id": "be842a7f-aee0-4e96-b885-f54daf0e2083",
   "metadata": {
    "scrolled": true
   },
   "outputs": [],
   "source": [
    "from pytorch_lightning import Trainer\n",
    "from pytorch_lightning.loggers import WandbLogger\n",
    "\n",
    "wandb_logger = WandbLogger(project=\"debugging\")\n",
    "lightning_model = model\n",
    "\n",
    "trainer = Trainer(max_epochs=n_epoch, accelerator='auto', devices='auto', logger=wandb_logger)\n",
    "trainer.fit(lightning_model, dataloader, test_dataloader)"
   ]
  },
  {
   "cell_type": "code",
   "execution_count": 91,
   "id": "bdbadd67-27e6-4473-be73-3da103536320",
   "metadata": {
    "scrolled": true
   },
   "outputs": [
    {
     "data": {
      "application/vnd.jupyter.widget-view+json": {
       "model_id": "",
       "version_major": 2,
       "version_minor": 0
      },
      "text/plain": [
       "VBox(children=(Label(value='3.320 MB of 3.320 MB uploaded\\r'), FloatProgress(value=1.0, max=1.0)))"
      ]
     },
     "metadata": {},
     "output_type": "display_data"
    },
    {
     "data": {
      "text/html": [
       "W&B sync reduced upload amount by 0.2%"
      ],
      "text/plain": [
       "<IPython.core.display.HTML object>"
      ]
     },
     "metadata": {},
     "output_type": "display_data"
    },
    {
     "data": {
      "text/html": [
       "<style>\n",
       "    table.wandb td:nth-child(1) { padding: 0 10px; text-align: left ; width: auto;} td:nth-child(2) {text-align: left ; width: 100%}\n",
       "    .wandb-row { display: flex; flex-direction: row; flex-wrap: wrap; justify-content: flex-start; width: 100% }\n",
       "    .wandb-col { display: flex; flex-direction: column; flex-basis: 100%; flex: 1; padding: 10px; }\n",
       "    </style>\n",
       "<div class=\"wandb-row\"><div class=\"wandb-col\"><h3>Run history:</h3><br/><table class=\"wandb\"><tr><td>epoch</td><td>▁▁▁▁▁▁▁▁▁▁▁▃▃▃▃▃▅▅▅▅▁▁▁▁▁▃▃▃▃▅▅▅▅▅▆▆▆▆▆█</td></tr><tr><td>param_norm</td><td>▃▄▃▇▇██▁▂▂▂▂▃▃▃▄▄▄▄▄▁▁▂▂▂▃▃▃▄▄▄▄▅▅▅▅▅▆▆▆</td></tr><tr><td>train_ce_loss</td><td>▁▁▇████▆▇▆▆▆▅▅▅▆▅▆▅▅▆▅▅▅▅▄▄▅▅▄▅▅▄▄▅▄▄▄▅▄</td></tr><tr><td>train_loss</td><td>▂▁▇█▇▆▇▇▅▆▅▅▅▆▅▄▅▄▆▄▆▆▆▆▅▆▆▄▄▅▄▅▄▄▄▅▄▅▄▄</td></tr><tr><td>trainer/global_step</td><td>▁▁▁▂▂▂▃▁▁▂▂▃▃▃▄▄▄▅▅▅▁▂▂▂▃▃▃▄▄▄▅▅▆▆▆▇▇▇██</td></tr><tr><td>val_ce_loss</td><td>█▄▃▂▂▁▁</td></tr><tr><td>val_l01</td><td>█▄▃▃▂▁▁</td></tr><tr><td>val_l1</td><td>▁▁▁████</td></tr></table><br/></div><div class=\"wandb-col\"><h3>Run summary:</h3><br/><table class=\"wandb\"><tr><td>epoch</td><td>4</td></tr><tr><td>param_norm</td><td>2228.13696</td></tr><tr><td>train_ce_loss</td><td>2.51787</td></tr><tr><td>train_loss</td><td>2.55627</td></tr><tr><td>trainer/global_step</td><td>11749</td></tr><tr><td>val_ce_loss</td><td>2.50701</td></tr><tr><td>val_l01</td><td>2.68681</td></tr><tr><td>val_l1</td><td>0.03667</td></tr></table><br/></div></div>"
      ],
      "text/plain": [
       "<IPython.core.display.HTML object>"
      ]
     },
     "metadata": {},
     "output_type": "display_data"
    },
    {
     "data": {
      "text/html": [
       " View run <strong style=\"color:#cdcd00\">giddy-pine-12</strong> at: <a href='https://wandb.ai/alanamin/debugging/runs/m15w4hhw' target=\"_blank\">https://wandb.ai/alanamin/debugging/runs/m15w4hhw</a><br/> View project at: <a href='https://wandb.ai/alanamin/debugging' target=\"_blank\">https://wandb.ai/alanamin/debugging</a><br/>Synced 5 W&B file(s), 16 media file(s), 2 artifact file(s) and 0 other file(s)"
      ],
      "text/plain": [
       "<IPython.core.display.HTML object>"
      ]
     },
     "metadata": {},
     "output_type": "display_data"
    },
    {
     "data": {
      "text/html": [
       "Find logs at: <code>./wandb/run-20240906_122226-m15w4hhw/logs</code>"
      ],
      "text/plain": [
       "<IPython.core.display.HTML object>"
      ]
     },
     "metadata": {},
     "output_type": "display_data"
    },
    {
     "data": {
      "text/html": [
       "wandb version 0.17.9 is available!  To upgrade, please run:\n",
       " $ pip install wandb --upgrade"
      ],
      "text/plain": [
       "<IPython.core.display.HTML object>"
      ]
     },
     "metadata": {},
     "output_type": "display_data"
    },
    {
     "data": {
      "text/html": [
       "The new W&B backend becomes opt-out in version 0.18.0; try it out with `wandb.require(\"core\")`! See https://wandb.me/wandb-core for more information."
      ],
      "text/plain": [
       "<IPython.core.display.HTML object>"
      ]
     },
     "metadata": {},
     "output_type": "display_data"
    }
   ],
   "source": [
    "import wandb\n",
    "wandb.finish()"
   ]
  },
  {
   "cell_type": "code",
   "execution_count": 284,
   "id": "bcefc43f-6e05-4ddf-bda7-8bc1343d3988",
   "metadata": {},
   "outputs": [
    {
     "data": {
      "text/plain": [
       "94"
      ]
     },
     "execution_count": 284,
     "metadata": {},
     "output_type": "execute_result"
    }
   ],
   "source": [
    "len(ps)"
   ]
  },
  {
   "cell_type": "code",
   "execution_count": 270,
   "id": "12ce196b-c28b-4598-8254-b77344eca987",
   "metadata": {},
   "outputs": [
    {
     "data": {
      "text/plain": [
       "array([147456,    128, 147456,    128,    128,    128,    128,    128,\n",
       "        65536,    128, 147456,    128, 147456,    128,    128,    128,\n",
       "          128,    128,  65536,    128, 147456,    128])"
      ]
     },
     "execution_count": 270,
     "metadata": {},
     "output_type": "execute_result"
    }
   ],
   "source": [
    "ps"
   ]
  },
  {
   "cell_type": "code",
   "execution_count": 142,
   "id": "5147648a-0ded-4942-b04e-f1c25f6fc645",
   "metadata": {},
   "outputs": [
    {
     "ename": "AttributeError",
     "evalue": "'UNet' object has no attribute 'up_blocks'",
     "output_type": "error",
     "traceback": [
      "\u001b[0;31m---------------------------------------------------------------------------\u001b[0m",
      "\u001b[0;31mAttributeError\u001b[0m                            Traceback (most recent call last)",
      "\u001b[0;32m/tmp/ipykernel_1578627/2897854367.py\u001b[0m in \u001b[0;36m<module>\u001b[0;34m\u001b[0m\n\u001b[0;32m----> 1\u001b[0;31m \u001b[0mc\u001b[0m \u001b[0;34m=\u001b[0m \u001b[0;34m[\u001b[0m\u001b[0mlist\u001b[0m\u001b[0;34m(\u001b[0m\u001b[0mp\u001b[0m\u001b[0;34m.\u001b[0m\u001b[0mshape\u001b[0m\u001b[0;34m)\u001b[0m \u001b[0;32mfor\u001b[0m \u001b[0mp\u001b[0m \u001b[0;32min\u001b[0m \u001b[0mmodel\u001b[0m\u001b[0;34m.\u001b[0m\u001b[0mx0_model\u001b[0m\u001b[0;34m.\u001b[0m\u001b[0mup_blocks\u001b[0m\u001b[0;34m.\u001b[0m\u001b[0mparameters\u001b[0m\u001b[0;34m(\u001b[0m\u001b[0;34m)\u001b[0m\u001b[0;34m]\u001b[0m\u001b[0;34m\u001b[0m\u001b[0;34m\u001b[0m\u001b[0m\n\u001b[0m",
      "\u001b[0;32m~/.local/lib/python3.10/site-packages/torch/nn/modules/module.py\u001b[0m in \u001b[0;36m__getattr__\u001b[0;34m(self, name)\u001b[0m\n\u001b[1;32m   1727\u001b[0m             \u001b[0;32mif\u001b[0m \u001b[0mname\u001b[0m \u001b[0;32min\u001b[0m \u001b[0mmodules\u001b[0m\u001b[0;34m:\u001b[0m\u001b[0;34m\u001b[0m\u001b[0;34m\u001b[0m\u001b[0m\n\u001b[1;32m   1728\u001b[0m                 \u001b[0;32mreturn\u001b[0m \u001b[0mmodules\u001b[0m\u001b[0;34m[\u001b[0m\u001b[0mname\u001b[0m\u001b[0;34m]\u001b[0m\u001b[0;34m\u001b[0m\u001b[0;34m\u001b[0m\u001b[0m\n\u001b[0;32m-> 1729\u001b[0;31m         \u001b[0;32mraise\u001b[0m \u001b[0mAttributeError\u001b[0m\u001b[0;34m(\u001b[0m\u001b[0;34mf\"'{type(self).__name__}' object has no attribute '{name}'\"\u001b[0m\u001b[0;34m)\u001b[0m\u001b[0;34m\u001b[0m\u001b[0;34m\u001b[0m\u001b[0m\n\u001b[0m\u001b[1;32m   1730\u001b[0m \u001b[0;34m\u001b[0m\u001b[0m\n\u001b[1;32m   1731\u001b[0m     \u001b[0;32mdef\u001b[0m \u001b[0m__setattr__\u001b[0m\u001b[0;34m(\u001b[0m\u001b[0mself\u001b[0m\u001b[0;34m,\u001b[0m \u001b[0mname\u001b[0m\u001b[0;34m:\u001b[0m \u001b[0mstr\u001b[0m\u001b[0;34m,\u001b[0m \u001b[0mvalue\u001b[0m\u001b[0;34m:\u001b[0m \u001b[0mUnion\u001b[0m\u001b[0;34m[\u001b[0m\u001b[0mTensor\u001b[0m\u001b[0;34m,\u001b[0m \u001b[0;34m'Module'\u001b[0m\u001b[0;34m]\u001b[0m\u001b[0;34m)\u001b[0m \u001b[0;34m->\u001b[0m \u001b[0;32mNone\u001b[0m\u001b[0;34m:\u001b[0m\u001b[0;34m\u001b[0m\u001b[0;34m\u001b[0m\u001b[0m\n",
      "\u001b[0;31mAttributeError\u001b[0m: 'UNet' object has no attribute 'up_blocks'"
     ]
    }
   ],
   "source": [
    "c = [list(p.shape) for p in model.x0_model.up_blocks.parameters()]"
   ]
  },
  {
   "cell_type": "code",
   "execution_count": 131,
   "id": "e2fc3f48-f591-4eb3-8145-d2b154a69d07",
   "metadata": {},
   "outputs": [
    {
     "data": {
      "text/plain": [
       "168"
      ]
     },
     "execution_count": 131,
     "metadata": {},
     "output_type": "execute_result"
    }
   ],
   "source": [
    "len(c)"
   ]
  },
  {
   "cell_type": "code",
   "execution_count": 133,
   "id": "5f8f595a-e0ab-45e8-8c47-fae0c5faa89c",
   "metadata": {},
   "outputs": [
    {
     "data": {
      "text/plain": [
       "[[256, 512, 3, 3],\n",
       " [256, 256, 3, 3],\n",
       " [256, 512, 1, 1],\n",
       " [256, 512, 3, 3],\n",
       " [256, 256, 3, 3],\n",
       " [256, 512, 1, 1],\n",
       " [256, 512, 3, 3],\n",
       " [256, 256, 3, 3],\n",
       " [256, 512, 1, 1],\n",
       " [256, 512, 3, 3],\n",
       " [256, 256, 3, 3],\n",
       " [256, 512, 1, 1],\n",
       " [256, 512, 3, 3],\n",
       " [256, 256, 3, 3],\n",
       " [256, 512, 1, 1],\n",
       " [256, 512, 3, 3],\n",
       " [256, 256, 3, 3],\n",
       " [256, 512, 1, 1],\n",
       " [256, 512, 3, 3],\n",
       " [256, 256, 3, 3],\n",
       " [256, 512, 1, 1],\n",
       " [256, 512, 3, 3],\n",
       " [256, 256, 3, 3],\n",
       " [256, 512, 1, 1],\n",
       " [128, 384, 3, 3],\n",
       " [128, 128, 3, 3],\n",
       " [128, 384, 1, 1],\n",
       " [128, 256, 3, 3],\n",
       " [128, 128, 3, 3],\n",
       " [128, 256, 1, 1],\n",
       " [128, 256, 3, 3],\n",
       " [128, 128, 3, 3],\n",
       " [128, 256, 1, 1],\n",
       " [128, 256, 3, 3],\n",
       " [128, 128, 3, 3],\n",
       " [128, 256, 1, 1]]"
      ]
     },
     "execution_count": 133,
     "metadata": {},
     "output_type": "execute_result"
    }
   ],
   "source": [
    "[l for l in c if len(l)>3]"
   ]
  },
  {
   "cell_type": "code",
   "execution_count": null,
   "id": "f22fcee7-543d-4daf-a0a7-d6825b855aa6",
   "metadata": {},
   "outputs": [],
   "source": []
  }
 ],
 "metadata": {
  "kernelspec": {
   "display_name": "evodiff",
   "language": "python",
   "name": "evodiff"
  },
  "language_info": {
   "codemirror_mode": {
    "name": "ipython",
    "version": 3
   },
   "file_extension": ".py",
   "mimetype": "text/x-python",
   "name": "python",
   "nbconvert_exporter": "python",
   "pygments_lexer": "ipython3",
   "version": "3.10.12"
  }
 },
 "nbformat": 4,
 "nbformat_minor": 5
}
